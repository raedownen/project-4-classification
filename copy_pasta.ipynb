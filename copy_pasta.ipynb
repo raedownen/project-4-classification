{
 "cells": [
  {
   "cell_type": "code",
   "execution_count": null,
   "id": "b2103e9f",
   "metadata": {},
   "outputs": [],
   "source": [
    "# histogram of churned customers\n",
    "charterdp = train[train.charter_encoded==1].discipline_percent\n",
    "charterdp.hist()\n",
    "\n",
    "# histogram of non-churned customers\n",
    "non_charterdp = train[train.charter_encoded==0].discipline_percent\n",
    "non_charterdp.hist()\n",
    "\n",
    "mean_a = charterdp.mean()\n",
    "mean_b = non_charterdp.mean()\n",
    "\n",
    "mean_a, mean_b\n",
    "\n",
    "# remember that our confidence level determines our alpha, \n",
    "# which we use to compare to p\n",
    "alpha = 0.05\n",
    "\n",
    "# Mini H0: variances are equal between groups\n",
    "# Ha: variances are inequal between groups\n",
    "# alpha: 0.05\n",
    "stat, pval = stats.levene(charterdp, non_charterdp)\n",
    "\n",
    "pval\n",
    "\n",
    "print('Is p less than alpha? ', pval < alpha)\n",
    "\n",
    "# implications of one-tailed two-sampled t-test:\n",
    "# p will be divided by two because we are only looking at one tail of the curve\n",
    "# we will pay attention to the sign of our t-statistic\n",
    "# t, p = t-test: (group A, group B) ==> comparison of mu_a > mu_b\n",
    "t, p = stats.ttest_ind(charterdp, non_charterdp, equal_var=False)\n",
    "t, p\n",
    "\n",
    "if (t > 0) and ((p / 2) < alpha):\n",
    "    print('We can reject the null hypothesis')\n",
    "else:\n",
    "    print('we fail to reject the null hypothesis')\n",
    "\n",
    "    \n",
    "t, p\n",
    "\n",
    "\n",
    "\n",
    "\n",
    "\n",
    "\n",
    "\n",
    "\n",
    "\n",
    "\n",
    "\n",
    "\n"
   ]
  },
  {
   "cell_type": "code",
   "execution_count": null,
   "id": "564bc9b2",
   "metadata": {},
   "outputs": [],
   "source": []
  },
  {
   "cell_type": "code",
   "execution_count": null,
   "id": "c57dfa0f",
   "metadata": {},
   "outputs": [],
   "source": []
  },
  {
   "cell_type": "code",
   "execution_count": null,
   "id": "e00d438d",
   "metadata": {},
   "outputs": [],
   "source": []
  },
  {
   "cell_type": "code",
   "execution_count": null,
   "id": "066badbd",
   "metadata": {},
   "outputs": [],
   "source": []
  },
  {
   "cell_type": "code",
   "execution_count": null,
   "id": "c9e7859d",
   "metadata": {},
   "outputs": [],
   "source": []
  },
  {
   "cell_type": "code",
   "execution_count": null,
   "id": "f6ad6b0d",
   "metadata": {},
   "outputs": [],
   "source": []
  },
  {
   "cell_type": "code",
   "execution_count": null,
   "id": "a50ef624",
   "metadata": {},
   "outputs": [],
   "source": []
  }
 ],
 "metadata": {
  "kernelspec": {
   "display_name": "Python 3 (ipykernel)",
   "language": "python",
   "name": "python3"
  },
  "language_info": {
   "codemirror_mode": {
    "name": "ipython",
    "version": 3
   },
   "file_extension": ".py",
   "mimetype": "text/x-python",
   "name": "python",
   "nbconvert_exporter": "python",
   "pygments_lexer": "ipython3",
   "version": "3.9.12"
  }
 },
 "nbformat": 4,
 "nbformat_minor": 5
}
