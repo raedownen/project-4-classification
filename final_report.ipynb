{
 "cells": [
  {
   "cell_type": "markdown",
   "id": "38c18666",
   "metadata": {},
   "source": [
    "# Texas Education Agency Discipline Classification Project"
   ]
  },
  {
   "cell_type": "markdown",
   "id": "74c8abf7",
   "metadata": {},
   "source": [
    "## Project Goals\n",
    "-Using data from TEA website, try to determine if school district type can be predicted by student discipline and enrollment numbersdiscipline\n",
    "-Develop a model to determine if a district is charter or traditional.\n",
    "-This information on district discipline may be useful to parents and future employees.\n"
   ]
  },
  {
   "cell_type": "markdown",
   "id": "f8bfe7ec",
   "metadata": {},
   "source": [
    "## Imports"
   ]
  },
  {
   "cell_type": "code",
   "execution_count": 1,
   "id": "45490ee1",
   "metadata": {},
   "outputs": [],
   "source": [
    "import matplotlib.pyplot as plt\n",
    "from matplotlib.colors import ListedColormap\n",
    "from env import user, password, host\n",
    "from scipy.stats import levene, ttest_ind\n",
    "from scipy import stats\n",
    "from sklearn.ensemble import RandomForestClassifier\n",
    "from sklearn.impute import SimpleImputer\n",
    "from sklearn.linear_model import LogisticRegression\n",
    "from sklearn.metrics import classification_report, confusion_matrix, ConfusionMatrixDisplay, plot_confusion_matrix\n",
    "from sklearn.model_selection import train_test_split\n",
    "from sklearn.neighbors import KNeighborsClassifier\n",
    "from sklearn.preprocessing import MinMaxScaler\n",
    "from sklearn.tree import DecisionTreeClassifier, plot_tree, export_text\n",
    "import math\n",
    "import numpy as np\n",
    "import os\n",
    "import pandas as pd\n",
    "import requests\n",
    "import seaborn as sns\n",
    "import statsmodels.api as sm\n",
    "import warnings\n",
    "warnings.filterwarnings(\"ignore\")\n",
    "\n",
    "import wrangle as w"
   ]
  },
  {
   "cell_type": "markdown",
   "id": "accd7b24",
   "metadata": {},
   "source": [
    "## Acquire\n",
    "\n",
    "* Data acquired from https://rptsvr1.tea.texas.gov/adhocrpt/Disciplinary_Data_Products/Download_All_Districts.html on December 11, 2022 \n",
    "* It contained 252826 rows and 9 columns that spanned 4 school years of discipline incidents.\n",
    "* Each observation represents a school district.\n",
    "* Each column represents a feature of those school district.\n"
   ]
  },
  {
   "cell_type": "code",
   "execution_count": 2,
   "id": "7f5ba4bb",
   "metadata": {},
   "outputs": [],
   "source": [
    "df22 = pd.read_csv('DISTRICT_summary_22.csv')\n",
    "df21 = pd.read_csv('DISTRICT_summary_21.csv')\n",
    "df20 = pd.read_csv('DISTRICT_summary_20.csv')\n",
    "df19 = pd.read_csv('DISTRICT_summary_19.csv')"
   ]
  },
  {
   "cell_type": "code",
   "execution_count": 3,
   "id": "f31898e0",
   "metadata": {},
   "outputs": [],
   "source": [
    "w.prep22(df22)"
   ]
  },
  {
   "cell_type": "code",
   "execution_count": 4,
   "id": "b3eaa4f6",
   "metadata": {},
   "outputs": [],
   "source": [
    "w.prep21(df21)"
   ]
  },
  {
   "cell_type": "code",
   "execution_count": 5,
   "id": "afb77329",
   "metadata": {},
   "outputs": [],
   "source": [
    "w.prep20(df20)"
   ]
  },
  {
   "cell_type": "code",
   "execution_count": 6,
   "id": "41ca1e62",
   "metadata": {},
   "outputs": [],
   "source": [
    "w.prep19(df19)"
   ]
  },
  {
   "cell_type": "code",
   "execution_count": 7,
   "id": "d91387c0",
   "metadata": {},
   "outputs": [],
   "source": [
    "df=w.df_combine(df19,df20,df21,df22)"
   ]
  },
  {
   "cell_type": "code",
   "execution_count": 8,
   "id": "fdb5edc1",
   "metadata": {},
   "outputs": [
    {
     "data": {
      "text/plain": [
       "1122"
      ]
     },
     "execution_count": 8,
     "metadata": {},
     "output_type": "execute_result"
    }
   ],
   "source": [
    "df.dist_name.nunique()"
   ]
  },
  {
   "cell_type": "markdown",
   "id": "aa77e284",
   "metadata": {},
   "source": [
    "## Prepare"
   ]
  },
  {
   "cell_type": "markdown",
   "id": "77245f1c",
   "metadata": {},
   "source": [
    "*Renamed columns for ease of coding and to shorten column names.\n",
    "\n",
    "*Removed data columns that did not meet project needs.\n",
    "\n",
    "*Checked for duplicates, nulls, and -999 and removed those columns.\n",
    "\n",
    "*Removed districts that did not have both enrollment and disciplined numbers.\n",
    "\n",
    "*Encoded target variable, charter_status, as 'charter_encoded' {'Yes': 1, 'No': 0}, then dropped 'charter_status' column.\n",
    "\n",
    "*Outliers were not removed.\n",
    "\n",
    "*Created a pivot table to access items under the 'heading name' column to create 2 new columns.\n",
    "\n",
    "*Feature engineered a new column from pivoted columns.\n",
    "\n",
    "*Merged the pivot table onto the dataframe.\n",
    "\n",
    "*Reset the index.\n",
    "\n",
    "*Split data into train, validate, and test (50/30/20)."
   ]
  },
  {
   "cell_type": "markdown",
   "id": "a2967ea3",
   "metadata": {},
   "source": [
    "### Data dictionary\n",
    "\n",
    "| Feature | Definition | Values |\n",
    "|:--------|:-----------|:-------\n",
    "|dist_name| Scool District Name| Categorical|\n",
    "|charter_encoded| Is the district type a charter school?| {'Yes': 1, 'No': 0} |\n",
    "|enrollment| # of students enrolled in the district| Numerical |\n",
    "|disciplined| # of student discipline incidents|Numerical'|\n",
    "|discipline_percent| # disciplined/# enrolled|Numerical|"
   ]
  },
  {
   "cell_type": "code",
   "execution_count": 9,
   "id": "3abb8886",
   "metadata": {},
   "outputs": [],
   "source": [
    "train, validate, test= w.split_tea_data(df) "
   ]
  },
  {
   "cell_type": "markdown",
   "id": "f7cf86fb",
   "metadata": {},
   "source": [
    "### Here is a glimpse of the data"
   ]
  },
  {
   "cell_type": "code",
   "execution_count": 10,
   "id": "bece3b05",
   "metadata": {},
   "outputs": [
    {
     "data": {
      "text/html": [
       "<div>\n",
       "<style scoped>\n",
       "    .dataframe tbody tr th:only-of-type {\n",
       "        vertical-align: middle;\n",
       "    }\n",
       "\n",
       "    .dataframe tbody tr th {\n",
       "        vertical-align: top;\n",
       "    }\n",
       "\n",
       "    .dataframe thead th {\n",
       "        text-align: right;\n",
       "    }\n",
       "</style>\n",
       "<table border=\"1\" class=\"dataframe\">\n",
       "  <thead>\n",
       "    <tr style=\"text-align: right;\">\n",
       "      <th></th>\n",
       "      <th>dist_name</th>\n",
       "      <th>charter_encoded</th>\n",
       "      <th>enrollment</th>\n",
       "      <th>disciplined</th>\n",
       "      <th>discipline_percent</th>\n",
       "    </tr>\n",
       "  </thead>\n",
       "  <tbody>\n",
       "    <tr>\n",
       "      <th>1598</th>\n",
       "      <td>JIM HOGG COUNTY ISD</td>\n",
       "      <td>0</td>\n",
       "      <td>1222.0</td>\n",
       "      <td>311.0</td>\n",
       "      <td>25.0</td>\n",
       "    </tr>\n",
       "    <tr>\n",
       "      <th>3507</th>\n",
       "      <td>EDCOUCH-ELSA ISD</td>\n",
       "      <td>0</td>\n",
       "      <td>4624.0</td>\n",
       "      <td>783.0</td>\n",
       "      <td>17.0</td>\n",
       "    </tr>\n",
       "    <tr>\n",
       "      <th>1195</th>\n",
       "      <td>DIMMITT ISD</td>\n",
       "      <td>0</td>\n",
       "      <td>1294.0</td>\n",
       "      <td>216.0</td>\n",
       "      <td>17.0</td>\n",
       "    </tr>\n",
       "    <tr>\n",
       "      <th>3820</th>\n",
       "      <td>MARFA ISD</td>\n",
       "      <td>0</td>\n",
       "      <td>293.0</td>\n",
       "      <td>52.0</td>\n",
       "      <td>18.0</td>\n",
       "    </tr>\n",
       "    <tr>\n",
       "      <th>1955</th>\n",
       "      <td>THE EXCEL CENTER (FOR ADULTS)</td>\n",
       "      <td>1</td>\n",
       "      <td>1361.0</td>\n",
       "      <td>29.0</td>\n",
       "      <td>2.0</td>\n",
       "    </tr>\n",
       "  </tbody>\n",
       "</table>\n",
       "</div>"
      ],
      "text/plain": [
       "                          dist_name  charter_encoded  enrollment  disciplined  \\\n",
       "1598            JIM HOGG COUNTY ISD                0      1222.0        311.0   \n",
       "3507               EDCOUCH-ELSA ISD                0      4624.0        783.0   \n",
       "1195                    DIMMITT ISD                0      1294.0        216.0   \n",
       "3820                      MARFA ISD                0       293.0         52.0   \n",
       "1955  THE EXCEL CENTER (FOR ADULTS)                1      1361.0         29.0   \n",
       "\n",
       "      discipline_percent  \n",
       "1598                25.0  \n",
       "3507                17.0  \n",
       "1195                17.0  \n",
       "3820                18.0  \n",
       "1955                 2.0  "
      ]
     },
     "execution_count": 10,
     "metadata": {},
     "output_type": "execute_result"
    }
   ],
   "source": [
    "#show the first few rows of the train data\n",
    "train.head()"
   ]
  },
  {
   "cell_type": "code",
   "execution_count": 11,
   "id": "6b5bd94f",
   "metadata": {},
   "outputs": [
    {
     "data": {
      "text/html": [
       "<div>\n",
       "<style scoped>\n",
       "    .dataframe tbody tr th:only-of-type {\n",
       "        vertical-align: middle;\n",
       "    }\n",
       "\n",
       "    .dataframe tbody tr th {\n",
       "        vertical-align: top;\n",
       "    }\n",
       "\n",
       "    .dataframe thead th {\n",
       "        text-align: right;\n",
       "    }\n",
       "</style>\n",
       "<table border=\"1\" class=\"dataframe\">\n",
       "  <thead>\n",
       "    <tr style=\"text-align: right;\">\n",
       "      <th></th>\n",
       "      <th>charter_encoded</th>\n",
       "      <th>enrollment</th>\n",
       "      <th>disciplined</th>\n",
       "      <th>discipline_percent</th>\n",
       "    </tr>\n",
       "  </thead>\n",
       "  <tbody>\n",
       "    <tr>\n",
       "      <th>count</th>\n",
       "      <td>2270.000000</td>\n",
       "      <td>2270.000000</td>\n",
       "      <td>2270.000000</td>\n",
       "      <td>2270.000000</td>\n",
       "    </tr>\n",
       "    <tr>\n",
       "      <th>mean</th>\n",
       "      <td>0.101322</td>\n",
       "      <td>5320.212335</td>\n",
       "      <td>1113.369163</td>\n",
       "      <td>20.031718</td>\n",
       "    </tr>\n",
       "    <tr>\n",
       "      <th>std</th>\n",
       "      <td>0.301821</td>\n",
       "      <td>12342.538088</td>\n",
       "      <td>2695.525538</td>\n",
       "      <td>14.831382</td>\n",
       "    </tr>\n",
       "    <tr>\n",
       "      <th>min</th>\n",
       "      <td>0.000000</td>\n",
       "      <td>66.000000</td>\n",
       "      <td>10.000000</td>\n",
       "      <td>0.000000</td>\n",
       "    </tr>\n",
       "    <tr>\n",
       "      <th>25%</th>\n",
       "      <td>0.000000</td>\n",
       "      <td>565.000000</td>\n",
       "      <td>58.000000</td>\n",
       "      <td>9.000000</td>\n",
       "    </tr>\n",
       "    <tr>\n",
       "      <th>50%</th>\n",
       "      <td>0.000000</td>\n",
       "      <td>1266.000000</td>\n",
       "      <td>206.000000</td>\n",
       "      <td>17.000000</td>\n",
       "    </tr>\n",
       "    <tr>\n",
       "      <th>75%</th>\n",
       "      <td>0.000000</td>\n",
       "      <td>3797.750000</td>\n",
       "      <td>841.750000</td>\n",
       "      <td>27.000000</td>\n",
       "    </tr>\n",
       "    <tr>\n",
       "      <th>max</th>\n",
       "      <td>1.000000</td>\n",
       "      <td>164515.000000</td>\n",
       "      <td>30720.000000</td>\n",
       "      <td>118.000000</td>\n",
       "    </tr>\n",
       "  </tbody>\n",
       "</table>\n",
       "</div>"
      ],
      "text/plain": [
       "       charter_encoded     enrollment   disciplined  discipline_percent\n",
       "count      2270.000000    2270.000000   2270.000000         2270.000000\n",
       "mean          0.101322    5320.212335   1113.369163           20.031718\n",
       "std           0.301821   12342.538088   2695.525538           14.831382\n",
       "min           0.000000      66.000000     10.000000            0.000000\n",
       "25%           0.000000     565.000000     58.000000            9.000000\n",
       "50%           0.000000    1266.000000    206.000000           17.000000\n",
       "75%           0.000000    3797.750000    841.750000           27.000000\n",
       "max           1.000000  164515.000000  30720.000000          118.000000"
      ]
     },
     "execution_count": 11,
     "metadata": {},
     "output_type": "execute_result"
    }
   ],
   "source": [
    "train.describe()"
   ]
  },
  {
   "cell_type": "markdown",
   "id": "911fbf14",
   "metadata": {},
   "source": [
    "## Explore"
   ]
  },
  {
   "cell_type": "markdown",
   "id": "f147b252",
   "metadata": {},
   "source": [
    "### Does enrollment numbers affect charter status? "
   ]
  },
  {
   "cell_type": "code",
   "execution_count": 12,
   "id": "d065fd02",
   "metadata": {},
   "outputs": [],
   "source": [
    "cat_vars = ['dist_name', 'charter_encoded']"
   ]
  },
  {
   "cell_type": "code",
   "execution_count": 13,
   "id": "ddc09a89",
   "metadata": {},
   "outputs": [
    {
     "name": "stdout",
     "output_type": "stream",
     "text": [
      "dist_name\n",
      "HIGHLAND PARK ISD                    5\n",
      "MIDWAY ISD                           5\n",
      "CENTERVILLE ISD                      5\n",
      "EL CAMPO ISD                         4\n",
      "YOAKUM ISD                           4\n",
      "                                    ..\n",
      "UNION GROVE ISD                      1\n",
      "RICHARD MILBURN ALTER HIGH SCHOOL    1\n",
      "ABERNATHY ISD                        1\n",
      "LITTLE ELM ISD                       1\n",
      "NECHES ISD                           1\n",
      "Name: dist_name, Length: 1038, dtype: int64\n",
      "HIGHLAND PARK ISD                    0.220264\n",
      "MIDWAY ISD                           0.220264\n",
      "CENTERVILLE ISD                      0.220264\n",
      "EL CAMPO ISD                         0.176211\n",
      "YOAKUM ISD                           0.176211\n",
      "                                       ...   \n",
      "UNION GROVE ISD                      0.044053\n",
      "RICHARD MILBURN ALTER HIGH SCHOOL    0.044053\n",
      "ABERNATHY ISD                        0.044053\n",
      "LITTLE ELM ISD                       0.044053\n",
      "NECHES ISD                           0.044053\n",
      "Name: dist_name, Length: 1038, dtype: float64\n"
     ]
    },
    {
     "data": {
      "image/png": "[encoded data removed]",
      "text/plain": [
       "<Figure size 432x288 with 1 Axes>"
      ]
     },
     "metadata": {
      "needs_background": "light"
     },
     "output_type": "display_data"
    },
    {
     "name": "stdout",
     "output_type": "stream",
     "text": [
      "charter_encoded\n",
      "0    2040\n",
      "1     230\n",
      "Name: charter_encoded, dtype: int64\n",
      "0    89.867841\n",
      "1    10.132159\n",
      "Name: charter_encoded, dtype: float64\n"
     ]
    },
    {
     "data": {
      "image/png": "[encoded data removed]",
      "text/plain": [
       "<Figure size 432x288 with 1 Axes>"
      ]
     },
     "metadata": {
      "needs_background": "light"
     },
     "output_type": "display_data"
    }
   ],
   "source": [
    "cat_vars = ['dist_name', 'charter_encoded']"
   ]
  },
  {
   "cell_type": "markdown",
   "id": "42bd3323",
   "metadata": {},
   "source": [
    "### Does disciplined incidents affect charter status?"
   ]
  },
  {
   "cell_type": "code",
   "execution_count": 14,
   "id": "96471f5c",
   "metadata": {},
   "outputs": [
    {
     "data": {
      "image/png": "[encoded data removed]",
      "text/plain": [
       "<Figure size 720x720 with 1 Axes>"
      ]
     },
     "metadata": {
      "needs_background": "light"
     },
     "output_type": "display_data"
    }
   ],
   "source": [
    "fig, ax = plt.subplots(1, figsize=(10, 10))\n",
    "sns.boxplot(x=train['charter_encoded'], y=train['discipline_percent']);\n",
    "plt.xticks(rotation = 90)\n",
    "plt.show()\n"
   ]
  },
  {
   "cell_type": "markdown",
   "id": "65c15311",
   "metadata": {},
   "source": [
    "### Does disciplne_percent affect charter status?"
   ]
  },
  {
   "cell_type": "code",
   "execution_count": 15,
   "id": "2c932436",
   "metadata": {},
   "outputs": [
    {
     "data": {
      "image/png": "[encoded data removed]",
      "text/plain": [
       "<Figure size 720x720 with 1 Axes>"
      ]
     },
     "metadata": {
      "needs_background": "light"
     },
     "output_type": "display_data"
    }
   ],
   "source": [
    "fig, ax = plt.subplots(1, figsize=(10, 10))\n",
    "sns.boxplot(x=train['charter_encoded'], y=train['discipline_percent']);\n",
    "plt.xticks(rotation = 90)\n",
    "plt.show()"
   ]
  },
  {
   "cell_type": "code",
   "execution_count": 16,
   "id": "60b7c023",
   "metadata": {},
   "outputs": [
    {
     "data": {
      "text/plain": [
       "<AxesSubplot:>"
      ]
     },
     "execution_count": 16,
     "metadata": {},
     "output_type": "execute_result"
    },
    {
     "data": {
      "image/png": "[encoded data removed]",
      "text/plain": [
       "<Figure size 432x288 with 1 Axes>"
      ]
     },
     "metadata": {
      "needs_background": "light"
     },
     "output_type": "display_data"
    }
   ],
   "source": [
    "# histogram of churned customers\n",
    "charterdisc = train[train.charter_encoded==1].disciplined\n",
    "charterdisc.hist()"
   ]
  },
  {
   "cell_type": "code",
   "execution_count": 17,
   "id": "447f9f7a",
   "metadata": {},
   "outputs": [
    {
     "data": {
      "text/plain": [
       "<AxesSubplot:>"
      ]
     },
     "execution_count": 17,
     "metadata": {},
     "output_type": "execute_result"
    },
    {
     "data": {
      "image/png": "[encoded data removed]",
      "text/plain": [
       "<Figure size 432x288 with 1 Axes>"
      ]
     },
     "metadata": {
      "needs_background": "light"
     },
     "output_type": "display_data"
    }
   ],
   "source": [
    "# histogram of non-churned customers\n",
    "non_charterdisc = train[train.charter_encoded==0].disciplined\n",
    "non_charterdisc.hist()"
   ]
  },
  {
   "cell_type": "code",
   "execution_count": 18,
   "id": "a6de7f00",
   "metadata": {},
   "outputs": [],
   "source": [
    "mean_a = charterdisc.mean()\n",
    "mean_b = non_charterdisc.mean()"
   ]
  },
  {
   "cell_type": "code",
   "execution_count": 19,
   "id": "bd17bc4b",
   "metadata": {},
   "outputs": [
    {
     "data": {
      "text/plain": [
       "(346.204347826087, 1199.8632352941177)"
      ]
     },
     "execution_count": 19,
     "metadata": {},
     "output_type": "execute_result"
    }
   ],
   "source": [
    "mean_a, mean_b"
   ]
  },
  {
   "cell_type": "markdown",
   "id": "b12d4433",
   "metadata": {},
   "source": [
    "## Hypothesis\n",
    "Null H: Mean of disciplined students is the same for charter schools and traditional schools.\n",
    "Alt H: Mean of disciplined students is not the same for charter schools and traditional schools."
   ]
  },
  {
   "cell_type": "code",
   "execution_count": 20,
   "id": "1aa62fac",
   "metadata": {},
   "outputs": [],
   "source": [
    "# remember that our confidence level determines our alpha, \n",
    "# which we use to compare to p\n",
    "alpha = 0.05"
   ]
  },
  {
   "cell_type": "code",
   "execution_count": 21,
   "id": "3921ce60",
   "metadata": {},
   "outputs": [],
   "source": [
    "# Mini H0: variances are equal between groups\n",
    "# Ha: variances are inequal between groups\n",
    "# alpha: 0.05\n",
    "stat, pval = stats.levene(charterdisc, non_charterdisc)"
   ]
  },
  {
   "cell_type": "code",
   "execution_count": 22,
   "id": "26db8614",
   "metadata": {},
   "outputs": [
    {
     "data": {
      "text/plain": [
       "1.2935809227188918e-05"
      ]
     },
     "execution_count": 22,
     "metadata": {},
     "output_type": "execute_result"
    }
   ],
   "source": [
    "pval"
   ]
  },
  {
   "cell_type": "code",
   "execution_count": 23,
   "id": "32aede59",
   "metadata": {},
   "outputs": [
    {
     "data": {
      "text/plain": [
       "(-10.13349483513259, 5.350079205664551e-23)"
      ]
     },
     "execution_count": 23,
     "metadata": {},
     "output_type": "execute_result"
    }
   ],
   "source": [
    "# implications of one-tailed two-sampled t-test:\n",
    "# p will be divided by two because we are only looking at one tail of the curve\n",
    "# we will pay attention to the sign of our t-statistic\n",
    "# t, p = t-test: (group A, group B) ==> comparison of mu_a > mu_b\n",
    "t, p = stats.ttest_ind(charterdisc, non_charterdisc, equal_var=False)\n",
    "t, p\n"
   ]
  },
  {
   "cell_type": "code",
   "execution_count": 24,
   "id": "d29c423e",
   "metadata": {},
   "outputs": [
    {
     "name": "stdout",
     "output_type": "stream",
     "text": [
      "Is p less than alpha?  True\n"
     ]
    }
   ],
   "source": [
    "print('Is p less than alpha? ', pval < alpha)"
   ]
  },
  {
   "cell_type": "code",
   "execution_count": 25,
   "id": "53e4c397",
   "metadata": {},
   "outputs": [
    {
     "name": "stdout",
     "output_type": "stream",
     "text": [
      "we fail to reject the null hypothesis\n"
     ]
    }
   ],
   "source": [
    "if (t > 0) and ((p / 2) < alpha):\n",
    "    print('We can reject the null hypothesis')\n",
    "else:\n",
    "    print('we fail to reject the null hypothesis')"
   ]
  },
  {
   "cell_type": "code",
   "execution_count": 26,
   "id": "bb35aa99",
   "metadata": {},
   "outputs": [
    {
     "data": {
      "text/plain": [
       "(-10.13349483513259, 5.350079205664551e-23)"
      ]
     },
     "execution_count": 26,
     "metadata": {},
     "output_type": "execute_result"
    }
   ],
   "source": [
    "t, p"
   ]
  },
  {
   "cell_type": "code",
   "execution_count": 27,
   "id": "38ed431b",
   "metadata": {},
   "outputs": [
    {
     "data": {
      "text/plain": [
       "<AxesSubplot:>"
      ]
     },
     "execution_count": 27,
     "metadata": {},
     "output_type": "execute_result"
    },
    {
     "data": {
      "image/png": "[encoded data removed]",
      "text/plain": [
       "<Figure size 432x288 with 1 Axes>"
      ]
     },
     "metadata": {
      "needs_background": "light"
     },
     "output_type": "display_data"
    }
   ],
   "source": [
    "# histogram of churned customers\n",
    "charterenr = train[train.charter_encoded==1].enrollment\n",
    "charterenr.hist()"
   ]
  },
  {
   "cell_type": "code",
   "execution_count": 28,
   "id": "bbc06b21",
   "metadata": {},
   "outputs": [
    {
     "data": {
      "text/plain": [
       "<AxesSubplot:>"
      ]
     },
     "execution_count": 28,
     "metadata": {},
     "output_type": "execute_result"
    },
    {
     "data": {
      "image/png": "[encoded data removed]",
      "text/plain": [
       "<Figure size 432x288 with 1 Axes>"
      ]
     },
     "metadata": {
      "needs_background": "light"
     },
     "output_type": "display_data"
    }
   ],
   "source": [
    "# histogram of non-churned customers\n",
    "non_charterenr = train[train.charter_encoded==0].enrollment\n",
    "non_charterenr.hist()"
   ]
  },
  {
   "cell_type": "code",
   "execution_count": 29,
   "id": "bc6dac89",
   "metadata": {},
   "outputs": [],
   "source": [
    "mean_a = charterenr.mean()\n",
    "mean_b = non_charterenr.mean()"
   ]
  },
  {
   "cell_type": "code",
   "execution_count": 30,
   "id": "d5ec06f2",
   "metadata": {},
   "outputs": [
    {
     "data": {
      "text/plain": [
       "(3271.8739130434783, 5551.152450980392)"
      ]
     },
     "execution_count": 30,
     "metadata": {},
     "output_type": "execute_result"
    }
   ],
   "source": [
    "mean_a, mean_b"
   ]
  },
  {
   "cell_type": "code",
   "execution_count": 31,
   "id": "3136841f",
   "metadata": {},
   "outputs": [],
   "source": [
    "# remember that our confidence level determines our alpha, \n",
    "# which we use to compare to p\n",
    "alpha = 0.05"
   ]
  },
  {
   "cell_type": "code",
   "execution_count": 32,
   "id": "cba21ec4",
   "metadata": {},
   "outputs": [],
   "source": [
    "# Mini H0: variances are equal between groups\n",
    "# Ha: variances are inequal between groups\n",
    "# alpha: 0.05\n",
    "stat, pval = stats.levene(charterenr, non_charterenr)"
   ]
  },
  {
   "cell_type": "code",
   "execution_count": 33,
   "id": "d8c6cf19",
   "metadata": {},
   "outputs": [
    {
     "data": {
      "text/plain": [
       "0.005446919007796719"
      ]
     },
     "execution_count": 33,
     "metadata": {},
     "output_type": "execute_result"
    }
   ],
   "source": [
    "pval"
   ]
  },
  {
   "cell_type": "code",
   "execution_count": 34,
   "id": "c8b2377a",
   "metadata": {},
   "outputs": [
    {
     "name": "stdout",
     "output_type": "stream",
     "text": [
      "Is p less than alpha?  True\n"
     ]
    }
   ],
   "source": [
    "print('Is p less than alpha? ', pval < alpha)"
   ]
  },
  {
   "cell_type": "code",
   "execution_count": 35,
   "id": "90e7d704",
   "metadata": {},
   "outputs": [
    {
     "data": {
      "text/plain": [
       "(-4.281825575984781, 2.279350086099647e-05)"
      ]
     },
     "execution_count": 35,
     "metadata": {},
     "output_type": "execute_result"
    }
   ],
   "source": [
    "# implications of one-tailed two-sampled t-test:\n",
    "# p will be divided by two because we are only looking at one tail of the curve\n",
    "# we will pay attention to the sign of our t-statistic\n",
    "# t, p = t-test: (group A, group B) ==> comparison of mu_a > mu_b\n",
    "t, p = stats.ttest_ind(charterenr, non_charterenr, equal_var=False)\n",
    "t, p"
   ]
  },
  {
   "cell_type": "code",
   "execution_count": 36,
   "id": "0e599168",
   "metadata": {},
   "outputs": [
    {
     "name": "stdout",
     "output_type": "stream",
     "text": [
      "we fail to reject the null hypothesis\n"
     ]
    }
   ],
   "source": [
    "if (t > 0) and ((p / 2) < alpha):\n",
    "    print('We can reject the null hypothesis')\n",
    "else:\n",
    "    print('we fail to reject the null hypothesis')"
   ]
  },
  {
   "cell_type": "code",
   "execution_count": 37,
   "id": "31784e48",
   "metadata": {},
   "outputs": [
    {
     "data": {
      "text/plain": [
       "(-4.281825575984781, 2.279350086099647e-05)"
      ]
     },
     "execution_count": 37,
     "metadata": {},
     "output_type": "execute_result"
    }
   ],
   "source": [
    "t, p"
   ]
  },
  {
   "cell_type": "code",
   "execution_count": 38,
   "id": "5cc0dda6",
   "metadata": {},
   "outputs": [
    {
     "data": {
      "text/plain": [
       "<AxesSubplot:>"
      ]
     },
     "execution_count": 38,
     "metadata": {},
     "output_type": "execute_result"
    },
    {
     "data": {
      "image/png": "[encoded data removed]",
      "text/plain": [
       "<Figure size 432x288 with 1 Axes>"
      ]
     },
     "metadata": {
      "needs_background": "light"
     },
     "output_type": "display_data"
    }
   ],
   "source": [
    "# histogram of churned customers\n",
    "charterdp = train[train.charter_encoded==1].discipline_percent\n",
    "charterdp.hist()"
   ]
  },
  {
   "cell_type": "code",
   "execution_count": 39,
   "id": "7dcbd2e5",
   "metadata": {},
   "outputs": [
    {
     "data": {
      "text/plain": [
       "<AxesSubplot:>"
      ]
     },
     "execution_count": 39,
     "metadata": {},
     "output_type": "execute_result"
    },
    {
     "data": {
      "image/png": "[encoded data removed]",
      "text/plain": [
       "<Figure size 432x288 with 1 Axes>"
      ]
     },
     "metadata": {
      "needs_background": "light"
     },
     "output_type": "display_data"
    }
   ],
   "source": [
    "# histogram of non-churned customers\n",
    "non_charterdp = train[train.charter_encoded==0].discipline_percent\n",
    "non_charterdp.hist()"
   ]
  },
  {
   "cell_type": "code",
   "execution_count": 40,
   "id": "df0aabe8",
   "metadata": {},
   "outputs": [],
   "source": [
    "mean_a = charterdp.mean()\n",
    "mean_b = non_charterdp.mean()"
   ]
  },
  {
   "cell_type": "code",
   "execution_count": 41,
   "id": "43e732d5",
   "metadata": {},
   "outputs": [
    {
     "data": {
      "text/plain": [
       "(10.513043478260869, 21.104901960784314)"
      ]
     },
     "execution_count": 41,
     "metadata": {},
     "output_type": "execute_result"
    }
   ],
   "source": [
    "mean_a, mean_b"
   ]
  },
  {
   "cell_type": "code",
   "execution_count": 42,
   "id": "44f9bf0d",
   "metadata": {},
   "outputs": [],
   "source": [
    "# remember that our confidence level determines our alpha, \n",
    "# which we use to compare to p\n",
    "alpha = 0.05"
   ]
  },
  {
   "cell_type": "markdown",
   "id": "05911331",
   "metadata": {},
   "source": [
    "Levene’s Test for Equality of Means to determine that equal variance was not assumed, and therefore the difference in mean scores is not due to chance and is statistically significant.# Mini H0: variances are equal between groups."
   ]
  },
  {
   "cell_type": "code",
   "execution_count": 43,
   "id": "fdb4f75f",
   "metadata": {},
   "outputs": [],
   "source": [
    "# Ha: variances are inequal between groups\n",
    "# alpha: 0.05\n",
    "stat, pval = stats.levene(charterdp, non_charterdp)"
   ]
  },
  {
   "cell_type": "code",
   "execution_count": 44,
   "id": "f057264a",
   "metadata": {},
   "outputs": [
    {
     "data": {
      "text/plain": [
       "5.283631209647363e-07"
      ]
     },
     "execution_count": 44,
     "metadata": {},
     "output_type": "execute_result"
    }
   ],
   "source": [
    "pval"
   ]
  },
  {
   "cell_type": "code",
   "execution_count": 45,
   "id": "46e66b9d",
   "metadata": {},
   "outputs": [
    {
     "name": "stdout",
     "output_type": "stream",
     "text": [
      "Is p less than alpha?  True\n"
     ]
    }
   ],
   "source": [
    "print('Is p less than alpha? ', pval < alpha)"
   ]
  },
  {
   "cell_type": "code",
   "execution_count": 46,
   "id": "7d5af19b",
   "metadata": {},
   "outputs": [
    {
     "data": {
      "text/plain": [
       "(-11.826730463805774, 8.643020389610451e-27)"
      ]
     },
     "execution_count": 46,
     "metadata": {},
     "output_type": "execute_result"
    }
   ],
   "source": [
    "# implications of one-tailed two-sampled t-test:\n",
    "# p will be divided by two because we are only looking at one tail of the curve\n",
    "# we will pay attention to the sign of our t-statistic\n",
    "# t, p = t-test: (group A, group B) ==> comparison of mu_a > mu_b\n",
    "t, p = stats.ttest_ind(charterdp, non_charterdp, equal_var=False)\n",
    "t, p"
   ]
  },
  {
   "cell_type": "code",
   "execution_count": 47,
   "id": "a1288eb9",
   "metadata": {},
   "outputs": [
    {
     "name": "stdout",
     "output_type": "stream",
     "text": [
      "we fail to reject the null hypothesis\n"
     ]
    }
   ],
   "source": [
    "if (t > 0) and ((p / 2) < alpha):\n",
    "    print('We can reject the null hypothesis')\n",
    "else:\n",
    "    print('we fail to reject the null hypothesis')"
   ]
  },
  {
   "cell_type": "code",
   "execution_count": 48,
   "id": "7b4f735d",
   "metadata": {},
   "outputs": [
    {
     "data": {
      "text/plain": [
       "(-11.826730463805774, 8.643020389610451e-27)"
      ]
     },
     "execution_count": 48,
     "metadata": {},
     "output_type": "execute_result"
    }
   ],
   "source": [
    "t, p"
   ]
  },
  {
   "cell_type": "markdown",
   "id": "40a43e9d",
   "metadata": {},
   "source": [
    "## Scaling the data"
   ]
  },
  {
   "cell_type": "code",
   "execution_count": 49,
   "id": "dd8b968f",
   "metadata": {},
   "outputs": [],
   "source": [
    "# assign the train variables\n",
    "X_train_scaled = train[['enrollment','disciplined','discipline_percent']]\n",
    "y_train=train[['charter_encoded']]\n",
    "\n",
    "#assign the validate variables\n",
    "X_validate_scaled=validate[['enrollment','disciplined','discipline_percent']]\n",
    "y_validate=validate[['charter_encoded']]\n",
    "\n",
    "# assign the test variables\n",
    "X_test_scaled=test[['enrollment','disciplined','discipline_percent']]\n",
    "y_test=test[['charter_encoded']]"
   ]
  },
  {
   "cell_type": "code",
   "execution_count": 50,
   "id": "78a39ca0",
   "metadata": {},
   "outputs": [],
   "source": [
    "def scale_data(train, \n",
    "               validate, \n",
    "               test, \n",
    "               columns_to_scale = ['enrollment', 'disciplined', 'discipline_percent'],\n",
    "               return_scaler=False):\n",
    "    '''\n",
    "    Scales the 3 data splits. \n",
    "    Takes in train, validate, and test data splits and returns their scaled counterparts.\n",
    "    If return_scalar is True, the scaler object will be returned as well\n",
    "    '''\n",
    "    # make copies of our original data so we dont gronk up anything\n",
    "    train_scaled = train.copy()\n",
    "    validate_scaled = validate.copy()\n",
    "    test_scaled = test.copy()\n",
    "    #     make the thing\n",
    "    scaler = MinMaxScaler()\n",
    "    #     fit the thing\n",
    "    scaler.fit(train[columns_to_scale])\n",
    "    # applying the scaler:\n",
    "    train_scaled[columns_to_scale] = pd.DataFrame(scaler.transform(train[columns_to_scale]),\n",
    "                                                  columns=train[columns_to_scale].columns.values).set_index([train.index.values])\n",
    "                                                  \n",
    "    validate_scaled[columns_to_scale] = pd.DataFrame(scaler.transform(validate[columns_to_scale]),\n",
    "                                           columns=validate[columns_to_scale].columns.values).set_index([validate.index.values])\n",
    "    \n",
    "    test_scaled[columns_to_scale] = pd.DataFrame(scaler.transform(test[columns_to_scale]),\n",
    "                                                 columns=test[columns_to_scale].columns.values).set_index([test.index.values])\n",
    "    \n",
    "    if return_scaler:\n",
    "        return scaler, train_scaled, validate_scaled, test_scaled\n",
    "    else:\n",
    "        return train_scaled, validate_scaled, test_scaled"
   ]
  },
  {
   "cell_type": "code",
   "execution_count": 51,
   "id": "c694b2c4",
   "metadata": {},
   "outputs": [],
   "source": [
    "train_scaled, validate_scaled, test_scaled = scale_data(train, validate, test)"
   ]
  },
  {
   "cell_type": "code",
   "execution_count": 52,
   "id": "e8524413",
   "metadata": {},
   "outputs": [
    {
     "data": {
      "text/plain": [
       "(                          dist_name  charter_encoded  enrollment  disciplined  \\\n",
       " 1598            JIM HOGG COUNTY ISD                0    0.007030     0.009801   \n",
       " 3507               EDCOUCH-ELSA ISD                0    0.027717     0.025171   \n",
       " 1195                    DIMMITT ISD                0    0.007467     0.006708   \n",
       " 3820                      MARFA ISD                0    0.001380     0.001368   \n",
       " 1955  THE EXCEL CENTER (FOR ADULTS)                1    0.007875     0.000619   \n",
       " ...                             ...              ...         ...          ...   \n",
       " 1993                  FRUITVALE ISD                0    0.002426     0.000749   \n",
       " 1530                     ABBOTT ISD                0    0.001386     0.000944   \n",
       " 530                    LOVELADY ISD                0    0.003089     0.001661   \n",
       " 2153                   REDWATER ISD                0    0.006792     0.007652   \n",
       " 3485             ELYSIAN FIELDS ISD                0    0.004889     0.006675   \n",
       " \n",
       "       discipline_percent  \n",
       " 1598            0.211864  \n",
       " 3507            0.144068  \n",
       " 1195            0.144068  \n",
       " 3820            0.152542  \n",
       " 1955            0.016949  \n",
       " ...                  ...  \n",
       " 1993            0.059322  \n",
       " 1530            0.110169  \n",
       " 530             0.093220  \n",
       " 2153            0.177966  \n",
       " 3485            0.211864  \n",
       " \n",
       " [2270 rows x 5 columns],\n",
       "               dist_name  charter_encoded  enrollment  disciplined  \\\n",
       " 2465         ALDINE ISD                0    0.417029     0.162488   \n",
       " 2065         CAYUGA ISD                0    0.003162     0.001628   \n",
       " 32            ELGIN ISD                0    0.028501     0.083165   \n",
       " 2976    BURKBURNETT ISD                0    0.020797     0.023771   \n",
       " 2090      BELLVILLE ISD                0    0.013542     0.016444   \n",
       " ...                 ...              ...         ...          ...   \n",
       " 3146   MARBLE FALLS ISD                0    0.025874     0.055194   \n",
       " 1550  NORTH HOPKINS ISD                0    0.003022     0.001530   \n",
       " 3285     LEWISVILLE ISD                0    0.317636     0.372973   \n",
       " 3609          RUNGE ISD                0    0.001101     0.005308   \n",
       " 285       BENAVIDES ISD                0    0.001648     0.001400   \n",
       " \n",
       "       discipline_percent  \n",
       " 2465            0.059322  \n",
       " 2065            0.084746  \n",
       " 32              0.457627  \n",
       " 2976            0.177966  \n",
       " 2090            0.186441  \n",
       " ...                  ...  \n",
       " 3146            0.330508  \n",
       " 1550            0.084746  \n",
       " 3285            0.186441  \n",
       " 3609            0.593220  \n",
       " 285             0.135593  \n",
       " \n",
       " [974 rows x 5 columns],\n",
       "                      dist_name  charter_encoded  enrollment  disciplined  \\\n",
       " 2894  HURST-EULESS-BEDFORD ISD                0    0.148672     0.107099   \n",
       " 643                 HARDIN ISD                0    0.009182     0.016705   \n",
       " 3588       JIM HOGG COUNTY ISD                0    0.006470     0.012699   \n",
       " 581                 JOSHUA ISD                0    0.035908     0.064214   \n",
       " 2242             COMMUNITY ISD                0    0.017629     0.013286   \n",
       " ...                        ...              ...         ...          ...   \n",
       " 780              POOLVILLE ISD                0    0.003156     0.005015   \n",
       " 2702          CHINA SPRING ISD                0    0.018377     0.010583   \n",
       " 1874                  TAFT ISD                0    0.006026     0.011820   \n",
       " 3023                CAYUGA ISD                0    0.003302     0.001693   \n",
       " 1384                DILLEY ISD                0    0.006051     0.011723   \n",
       " \n",
       "       discipline_percent  \n",
       " 2894            0.110169  \n",
       " 643             0.279661  \n",
       " 3588            0.296610  \n",
       " 581             0.279661  \n",
       " 2242            0.118644  \n",
       " ...                  ...  \n",
       " 780             0.237288  \n",
       " 2702            0.093220  \n",
       " 1874            0.296610  \n",
       " 3023            0.084746  \n",
       " 1384            0.296610  \n",
       " \n",
       " [811 rows x 5 columns])"
      ]
     },
     "execution_count": 52,
     "metadata": {},
     "output_type": "execute_result"
    }
   ],
   "source": [
    "train_scaled, validate_scaled, test_scaled"
   ]
  },
  {
   "cell_type": "code",
   "execution_count": 53,
   "id": "7a9bc96e",
   "metadata": {},
   "outputs": [
    {
     "data": {
      "text/html": [
       "<div>\n",
       "<style scoped>\n",
       "    .dataframe tbody tr th:only-of-type {\n",
       "        vertical-align: middle;\n",
       "    }\n",
       "\n",
       "    .dataframe tbody tr th {\n",
       "        vertical-align: top;\n",
       "    }\n",
       "\n",
       "    .dataframe thead th {\n",
       "        text-align: right;\n",
       "    }\n",
       "</style>\n",
       "<table border=\"1\" class=\"dataframe\">\n",
       "  <thead>\n",
       "    <tr style=\"text-align: right;\">\n",
       "      <th></th>\n",
       "      <th>enrollment</th>\n",
       "      <th>disciplined</th>\n",
       "      <th>discipline_percent</th>\n",
       "    </tr>\n",
       "  </thead>\n",
       "  <tbody>\n",
       "    <tr>\n",
       "      <th>1598</th>\n",
       "      <td>1222.0</td>\n",
       "      <td>311.0</td>\n",
       "      <td>25.0</td>\n",
       "    </tr>\n",
       "    <tr>\n",
       "      <th>3507</th>\n",
       "      <td>4624.0</td>\n",
       "      <td>783.0</td>\n",
       "      <td>17.0</td>\n",
       "    </tr>\n",
       "    <tr>\n",
       "      <th>1195</th>\n",
       "      <td>1294.0</td>\n",
       "      <td>216.0</td>\n",
       "      <td>17.0</td>\n",
       "    </tr>\n",
       "    <tr>\n",
       "      <th>3820</th>\n",
       "      <td>293.0</td>\n",
       "      <td>52.0</td>\n",
       "      <td>18.0</td>\n",
       "    </tr>\n",
       "    <tr>\n",
       "      <th>1955</th>\n",
       "      <td>1361.0</td>\n",
       "      <td>29.0</td>\n",
       "      <td>2.0</td>\n",
       "    </tr>\n",
       "  </tbody>\n",
       "</table>\n",
       "</div>"
      ],
      "text/plain": [
       "      enrollment  disciplined  discipline_percent\n",
       "1598      1222.0        311.0                25.0\n",
       "3507      4624.0        783.0                17.0\n",
       "1195      1294.0        216.0                17.0\n",
       "3820       293.0         52.0                18.0\n",
       "1955      1361.0         29.0                 2.0"
      ]
     },
     "execution_count": 53,
     "metadata": {},
     "output_type": "execute_result"
    }
   ],
   "source": [
    "X_train_scaled.head()"
   ]
  },
  {
   "cell_type": "code",
   "execution_count": 54,
   "id": "b425c755",
   "metadata": {},
   "outputs": [
    {
     "data": {
      "text/html": [
       "<div>\n",
       "<style scoped>\n",
       "    .dataframe tbody tr th:only-of-type {\n",
       "        vertical-align: middle;\n",
       "    }\n",
       "\n",
       "    .dataframe tbody tr th {\n",
       "        vertical-align: top;\n",
       "    }\n",
       "\n",
       "    .dataframe thead th {\n",
       "        text-align: right;\n",
       "    }\n",
       "</style>\n",
       "<table border=\"1\" class=\"dataframe\">\n",
       "  <thead>\n",
       "    <tr style=\"text-align: right;\">\n",
       "      <th></th>\n",
       "      <th>charter_encoded</th>\n",
       "    </tr>\n",
       "  </thead>\n",
       "  <tbody>\n",
       "    <tr>\n",
       "      <th>1993</th>\n",
       "      <td>0</td>\n",
       "    </tr>\n",
       "    <tr>\n",
       "      <th>1530</th>\n",
       "      <td>0</td>\n",
       "    </tr>\n",
       "    <tr>\n",
       "      <th>530</th>\n",
       "      <td>0</td>\n",
       "    </tr>\n",
       "    <tr>\n",
       "      <th>2153</th>\n",
       "      <td>0</td>\n",
       "    </tr>\n",
       "    <tr>\n",
       "      <th>3485</th>\n",
       "      <td>0</td>\n",
       "    </tr>\n",
       "  </tbody>\n",
       "</table>\n",
       "</div>"
      ],
      "text/plain": [
       "      charter_encoded\n",
       "1993                0\n",
       "1530                0\n",
       "530                 0\n",
       "2153                0\n",
       "3485                0"
      ]
     },
     "execution_count": 54,
     "metadata": {},
     "output_type": "execute_result"
    }
   ],
   "source": [
    "y_train.tail()"
   ]
  },
  {
   "cell_type": "code",
   "execution_count": 55,
   "id": "c7b4d9a3",
   "metadata": {},
   "outputs": [
    {
     "data": {
      "text/html": [
       "<div>\n",
       "<style scoped>\n",
       "    .dataframe tbody tr th:only-of-type {\n",
       "        vertical-align: middle;\n",
       "    }\n",
       "\n",
       "    .dataframe tbody tr th {\n",
       "        vertical-align: top;\n",
       "    }\n",
       "\n",
       "    .dataframe thead th {\n",
       "        text-align: right;\n",
       "    }\n",
       "</style>\n",
       "<table border=\"1\" class=\"dataframe\">\n",
       "  <thead>\n",
       "    <tr style=\"text-align: right;\">\n",
       "      <th></th>\n",
       "      <th>charter_encoded</th>\n",
       "    </tr>\n",
       "  </thead>\n",
       "  <tbody>\n",
       "    <tr>\n",
       "      <th>1598</th>\n",
       "      <td>0</td>\n",
       "    </tr>\n",
       "    <tr>\n",
       "      <th>3507</th>\n",
       "      <td>0</td>\n",
       "    </tr>\n",
       "    <tr>\n",
       "      <th>1195</th>\n",
       "      <td>0</td>\n",
       "    </tr>\n",
       "    <tr>\n",
       "      <th>3820</th>\n",
       "      <td>0</td>\n",
       "    </tr>\n",
       "    <tr>\n",
       "      <th>1955</th>\n",
       "      <td>1</td>\n",
       "    </tr>\n",
       "  </tbody>\n",
       "</table>\n",
       "</div>"
      ],
      "text/plain": [
       "      charter_encoded\n",
       "1598                0\n",
       "3507                0\n",
       "1195                0\n",
       "3820                0\n",
       "1955                1"
      ]
     },
     "execution_count": 55,
     "metadata": {},
     "output_type": "execute_result"
    }
   ],
   "source": [
    "y_train.head()"
   ]
  },
  {
   "cell_type": "code",
   "execution_count": 56,
   "id": "258fd1eb",
   "metadata": {},
   "outputs": [
    {
     "data": {
      "text/plain": [
       "charter_encoded\n",
       "0                  2040\n",
       "1                   230\n",
       "dtype: int64"
      ]
     },
     "execution_count": 56,
     "metadata": {},
     "output_type": "execute_result"
    }
   ],
   "source": [
    "y_train.value_counts()"
   ]
  },
  {
   "cell_type": "markdown",
   "id": "3e47711f",
   "metadata": {},
   "source": [
    "## Baseline"
   ]
  },
  {
   "cell_type": "code",
   "execution_count": 57,
   "id": "3981e4cf",
   "metadata": {},
   "outputs": [],
   "source": [
    "# The mode is a great baseline\n",
    "baseline = y_train.mode()"
   ]
  },
  {
   "cell_type": "code",
   "execution_count": 58,
   "id": "efa46b8b",
   "metadata": {},
   "outputs": [
    {
     "data": {
      "text/html": [
       "<div>\n",
       "<style scoped>\n",
       "    .dataframe tbody tr th:only-of-type {\n",
       "        vertical-align: middle;\n",
       "    }\n",
       "\n",
       "    .dataframe tbody tr th {\n",
       "        vertical-align: top;\n",
       "    }\n",
       "\n",
       "    .dataframe thead th {\n",
       "        text-align: right;\n",
       "    }\n",
       "</style>\n",
       "<table border=\"1\" class=\"dataframe\">\n",
       "  <thead>\n",
       "    <tr style=\"text-align: right;\">\n",
       "      <th></th>\n",
       "      <th>charter_encoded</th>\n",
       "    </tr>\n",
       "  </thead>\n",
       "  <tbody>\n",
       "    <tr>\n",
       "      <th>0</th>\n",
       "      <td>0</td>\n",
       "    </tr>\n",
       "  </tbody>\n",
       "</table>\n",
       "</div>"
      ],
      "text/plain": [
       "   charter_encoded\n",
       "0                0"
      ]
     },
     "execution_count": 58,
     "metadata": {},
     "output_type": "execute_result"
    }
   ],
   "source": [
    "baseline"
   ]
  },
  {
   "cell_type": "code",
   "execution_count": 59,
   "id": "e9855ac1",
   "metadata": {},
   "outputs": [
    {
     "data": {
      "text/html": [
       "<div>\n",
       "<style scoped>\n",
       "    .dataframe tbody tr th:only-of-type {\n",
       "        vertical-align: middle;\n",
       "    }\n",
       "\n",
       "    .dataframe tbody tr th {\n",
       "        vertical-align: top;\n",
       "    }\n",
       "\n",
       "    .dataframe thead th {\n",
       "        text-align: right;\n",
       "    }\n",
       "</style>\n",
       "<table border=\"1\" class=\"dataframe\">\n",
       "  <thead>\n",
       "    <tr style=\"text-align: right;\">\n",
       "      <th></th>\n",
       "      <th>enrollment</th>\n",
       "      <th>disciplined</th>\n",
       "      <th>discipline_percent</th>\n",
       "      <th>baseline_prediction</th>\n",
       "    </tr>\n",
       "  </thead>\n",
       "  <tbody>\n",
       "    <tr>\n",
       "      <th>1598</th>\n",
       "      <td>1222.0</td>\n",
       "      <td>311.0</td>\n",
       "      <td>25.0</td>\n",
       "      <td>0</td>\n",
       "    </tr>\n",
       "    <tr>\n",
       "      <th>3507</th>\n",
       "      <td>4624.0</td>\n",
       "      <td>783.0</td>\n",
       "      <td>17.0</td>\n",
       "      <td>0</td>\n",
       "    </tr>\n",
       "    <tr>\n",
       "      <th>1195</th>\n",
       "      <td>1294.0</td>\n",
       "      <td>216.0</td>\n",
       "      <td>17.0</td>\n",
       "      <td>0</td>\n",
       "    </tr>\n",
       "    <tr>\n",
       "      <th>3820</th>\n",
       "      <td>293.0</td>\n",
       "      <td>52.0</td>\n",
       "      <td>18.0</td>\n",
       "      <td>0</td>\n",
       "    </tr>\n",
       "    <tr>\n",
       "      <th>1955</th>\n",
       "      <td>1361.0</td>\n",
       "      <td>29.0</td>\n",
       "      <td>2.0</td>\n",
       "      <td>0</td>\n",
       "    </tr>\n",
       "    <tr>\n",
       "      <th>...</th>\n",
       "      <td>...</td>\n",
       "      <td>...</td>\n",
       "      <td>...</td>\n",
       "      <td>...</td>\n",
       "    </tr>\n",
       "    <tr>\n",
       "      <th>1993</th>\n",
       "      <td>465.0</td>\n",
       "      <td>33.0</td>\n",
       "      <td>7.0</td>\n",
       "      <td>0</td>\n",
       "    </tr>\n",
       "    <tr>\n",
       "      <th>1530</th>\n",
       "      <td>294.0</td>\n",
       "      <td>39.0</td>\n",
       "      <td>13.0</td>\n",
       "      <td>0</td>\n",
       "    </tr>\n",
       "    <tr>\n",
       "      <th>530</th>\n",
       "      <td>574.0</td>\n",
       "      <td>61.0</td>\n",
       "      <td>11.0</td>\n",
       "      <td>0</td>\n",
       "    </tr>\n",
       "    <tr>\n",
       "      <th>2153</th>\n",
       "      <td>1183.0</td>\n",
       "      <td>245.0</td>\n",
       "      <td>21.0</td>\n",
       "      <td>0</td>\n",
       "    </tr>\n",
       "    <tr>\n",
       "      <th>3485</th>\n",
       "      <td>870.0</td>\n",
       "      <td>215.0</td>\n",
       "      <td>25.0</td>\n",
       "      <td>0</td>\n",
       "    </tr>\n",
       "  </tbody>\n",
       "</table>\n",
       "<p>2270 rows × 4 columns</p>\n",
       "</div>"
      ],
      "text/plain": [
       "      enrollment  disciplined  discipline_percent  baseline_prediction\n",
       "1598      1222.0        311.0                25.0                    0\n",
       "3507      4624.0        783.0                17.0                    0\n",
       "1195      1294.0        216.0                17.0                    0\n",
       "3820       293.0         52.0                18.0                    0\n",
       "1955      1361.0         29.0                 2.0                    0\n",
       "...          ...          ...                 ...                  ...\n",
       "1993       465.0         33.0                 7.0                    0\n",
       "1530       294.0         39.0                13.0                    0\n",
       "530        574.0         61.0                11.0                    0\n",
       "2153      1183.0        245.0                21.0                    0\n",
       "3485       870.0        215.0                25.0                    0\n",
       "\n",
       "[2270 rows x 4 columns]"
      ]
     },
     "execution_count": 59,
     "metadata": {},
     "output_type": "execute_result"
    }
   ],
   "source": [
    "X_train_scaled['baseline_prediction'] = 0\n",
    "X_train_scaled"
   ]
  },
  {
   "cell_type": "code",
   "execution_count": 60,
   "id": "e2466485",
   "metadata": {},
   "outputs": [],
   "source": [
    "actual = y_train\n",
    "predictions = X_train_scaled.baseline_prediction"
   ]
  },
  {
   "cell_type": "code",
   "execution_count": 61,
   "id": "da96731f",
   "metadata": {},
   "outputs": [
    {
     "data": {
      "text/html": [
       "<div>\n",
       "<style scoped>\n",
       "    .dataframe tbody tr th:only-of-type {\n",
       "        vertical-align: middle;\n",
       "    }\n",
       "\n",
       "    .dataframe tbody tr th {\n",
       "        vertical-align: top;\n",
       "    }\n",
       "\n",
       "    .dataframe thead th {\n",
       "        text-align: right;\n",
       "    }\n",
       "</style>\n",
       "<table border=\"1\" class=\"dataframe\">\n",
       "  <thead>\n",
       "    <tr style=\"text-align: right;\">\n",
       "      <th>baseline_prediction</th>\n",
       "      <th>0</th>\n",
       "    </tr>\n",
       "    <tr>\n",
       "      <th>charter_encoded</th>\n",
       "      <th></th>\n",
       "    </tr>\n",
       "  </thead>\n",
       "  <tbody>\n",
       "    <tr>\n",
       "      <th>0</th>\n",
       "      <td>2040</td>\n",
       "    </tr>\n",
       "    <tr>\n",
       "      <th>1</th>\n",
       "      <td>230</td>\n",
       "    </tr>\n",
       "  </tbody>\n",
       "</table>\n",
       "</div>"
      ],
      "text/plain": [
       "baseline_prediction     0\n",
       "charter_encoded          \n",
       "0                    2040\n",
       "1                     230"
      ]
     },
     "execution_count": 61,
     "metadata": {},
     "output_type": "execute_result"
    }
   ],
   "source": [
    "pd.crosstab(y_train['charter_encoded'], X_train_scaled.baseline_prediction)"
   ]
  },
  {
   "cell_type": "code",
   "execution_count": 62,
   "id": "9972564c",
   "metadata": {},
   "outputs": [
    {
     "data": {
      "text/html": [
       "<div>\n",
       "<style scoped>\n",
       "    .dataframe tbody tr th:only-of-type {\n",
       "        vertical-align: middle;\n",
       "    }\n",
       "\n",
       "    .dataframe tbody tr th {\n",
       "        vertical-align: top;\n",
       "    }\n",
       "\n",
       "    .dataframe thead th {\n",
       "        text-align: right;\n",
       "    }\n",
       "</style>\n",
       "<table border=\"1\" class=\"dataframe\">\n",
       "  <thead>\n",
       "    <tr style=\"text-align: right;\">\n",
       "      <th></th>\n",
       "      <th>charter_encoded</th>\n",
       "    </tr>\n",
       "  </thead>\n",
       "  <tbody>\n",
       "    <tr>\n",
       "      <th>1598</th>\n",
       "      <td>True</td>\n",
       "    </tr>\n",
       "    <tr>\n",
       "      <th>3507</th>\n",
       "      <td>True</td>\n",
       "    </tr>\n",
       "    <tr>\n",
       "      <th>1195</th>\n",
       "      <td>True</td>\n",
       "    </tr>\n",
       "    <tr>\n",
       "      <th>3820</th>\n",
       "      <td>True</td>\n",
       "    </tr>\n",
       "    <tr>\n",
       "      <th>1955</th>\n",
       "      <td>False</td>\n",
       "    </tr>\n",
       "    <tr>\n",
       "      <th>...</th>\n",
       "      <td>...</td>\n",
       "    </tr>\n",
       "    <tr>\n",
       "      <th>1993</th>\n",
       "      <td>True</td>\n",
       "    </tr>\n",
       "    <tr>\n",
       "      <th>1530</th>\n",
       "      <td>True</td>\n",
       "    </tr>\n",
       "    <tr>\n",
       "      <th>530</th>\n",
       "      <td>True</td>\n",
       "    </tr>\n",
       "    <tr>\n",
       "      <th>2153</th>\n",
       "      <td>True</td>\n",
       "    </tr>\n",
       "    <tr>\n",
       "      <th>3485</th>\n",
       "      <td>True</td>\n",
       "    </tr>\n",
       "  </tbody>\n",
       "</table>\n",
       "<p>2270 rows × 1 columns</p>\n",
       "</div>"
      ],
      "text/plain": [
       "      charter_encoded\n",
       "1598             True\n",
       "3507             True\n",
       "1195             True\n",
       "3820             True\n",
       "1955            False\n",
       "...               ...\n",
       "1993             True\n",
       "1530             True\n",
       "530              True\n",
       "2153             True\n",
       "3485             True\n",
       "\n",
       "[2270 rows x 1 columns]"
      ]
     },
     "execution_count": 62,
     "metadata": {},
     "output_type": "execute_result"
    }
   ],
   "source": [
    "# Creates a boolean array where \"No\" becomes True and \"Yes\" becomes False\n",
    "(y_train == 0)"
   ]
  },
  {
   "cell_type": "code",
   "execution_count": 63,
   "id": "06995f20",
   "metadata": {},
   "outputs": [
    {
     "data": {
      "text/plain": [
       "charter_encoded    0.898678\n",
       "dtype: float64"
      ]
     },
     "execution_count": 63,
     "metadata": {},
     "output_type": "execute_result"
    }
   ],
   "source": [
    "# Takes the .mean() of the boolean array that represents the proportion \n",
    "# that would also match our baseline prediction\n",
    "(y_train == 0).mean() "
   ]
  },
  {
   "cell_type": "code",
   "execution_count": 64,
   "id": "df591b72",
   "metadata": {},
   "outputs": [],
   "source": [
    "X_validate_scaled['baseline_prediction'] = 0"
   ]
  },
  {
   "cell_type": "code",
   "execution_count": 65,
   "id": "5bb6c974",
   "metadata": {},
   "outputs": [],
   "source": [
    "X_test_scaled['baseline_prediction'] = 0"
   ]
  },
  {
   "cell_type": "markdown",
   "id": "941ccf5a",
   "metadata": {},
   "source": [
    "# Model: Decision Tree"
   ]
  },
  {
   "cell_type": "code",
   "execution_count": 66,
   "id": "8161e468",
   "metadata": {},
   "outputs": [],
   "source": [
    "# Create the decision tree object and specify hyperparams\n",
    "tree = DecisionTreeClassifier(max_depth = 3, random_state=123)"
   ]
  },
  {
   "cell_type": "code",
   "execution_count": 67,
   "id": "8e4541a1",
   "metadata": {},
   "outputs": [
    {
     "data": {
      "text/plain": [
       "DecisionTreeClassifier(max_depth=3, random_state=123)"
      ]
     },
     "execution_count": 67,
     "metadata": {},
     "output_type": "execute_result"
    }
   ],
   "source": [
    "tree"
   ]
  },
  {
   "cell_type": "code",
   "execution_count": 68,
   "id": "08fbaeb6",
   "metadata": {},
   "outputs": [
    {
     "name": "stdout",
     "output_type": "stream",
     "text": [
      "|--- discipline_percent <= 4.50\n",
      "|   |--- enrollment <= 440.50\n",
      "|   |   |--- enrollment <= 332.50\n",
      "|   |   |   |--- class: 0\n",
      "|   |   |--- enrollment >  332.50\n",
      "|   |   |   |--- class: 0\n",
      "|   |--- enrollment >  440.50\n",
      "|   |   |--- disciplined <= 72.00\n",
      "|   |   |   |--- class: 1\n",
      "|   |   |--- disciplined >  72.00\n",
      "|   |   |   |--- class: 0\n",
      "|--- discipline_percent >  4.50\n",
      "|   |--- discipline_percent <= 25.50\n",
      "|   |   |--- discipline_percent <= 8.50\n",
      "|   |   |   |--- class: 0\n",
      "|   |   |--- discipline_percent >  8.50\n",
      "|   |   |   |--- class: 0\n",
      "|   |--- discipline_percent >  25.50\n",
      "|   |   |--- discipline_percent <= 115.00\n",
      "|   |   |   |--- class: 0\n",
      "|   |   |--- discipline_percent >  115.00\n",
      "|   |   |   |--- class: 1\n",
      "\n"
     ]
    }
   ],
   "source": [
    "tree.fit(X_train_scaled, y_train)\n",
    "\n",
    "# Rudimentary visualization of model structure\n",
    "print(export_text(tree, feature_names=X_train_scaled.columns.tolist()))"
   ]
  },
  {
   "cell_type": "code",
   "execution_count": 69,
   "id": "c981fa50",
   "metadata": {},
   "outputs": [
    {
     "data": {
      "text/plain": [
       "[Text(0.5, 0.875, 'discipline_percent <= 4.5\\ngini = 0.182\\nsamples = 2270\\nvalue = [2040, 230]\\nclass = 0'),\n",
       " Text(0.25, 0.625, 'enrollment <= 440.5\\ngini = 0.491\\nsamples = 211\\nvalue = [120, 91]\\nclass = 0'),\n",
       " Text(0.125, 0.375, 'enrollment <= 332.5\\ngini = 0.114\\nsamples = 33\\nvalue = [31, 2]\\nclass = 0'),\n",
       " Text(0.0625, 0.125, 'gini = 0.208\\nsamples = 17\\nvalue = [15, 2]\\nclass = 0'),\n",
       " Text(0.1875, 0.125, 'gini = 0.0\\nsamples = 16\\nvalue = [16, 0]\\nclass = 0'),\n",
       " Text(0.375, 0.375, 'disciplined <= 72.0\\ngini = 0.5\\nsamples = 178\\nvalue = [89, 89]\\nclass = 0'),\n",
       " Text(0.3125, 0.125, 'gini = 0.472\\nsamples = 126\\nvalue = [48, 78]\\nclass = 1'),\n",
       " Text(0.4375, 0.125, 'gini = 0.334\\nsamples = 52\\nvalue = [41, 11]\\nclass = 0'),\n",
       " Text(0.75, 0.625, 'discipline_percent <= 25.5\\ngini = 0.126\\nsamples = 2059\\nvalue = [1920, 139]\\nclass = 0'),\n",
       " Text(0.625, 0.375, 'discipline_percent <= 8.5\\ngini = 0.162\\nsamples = 1416\\nvalue = [1290, 126]\\nclass = 0'),\n",
       " Text(0.5625, 0.125, 'gini = 0.244\\nsamples = 288\\nvalue = [247, 41]\\nclass = 0'),\n",
       " Text(0.6875, 0.125, 'gini = 0.139\\nsamples = 1128\\nvalue = [1043, 85]\\nclass = 0'),\n",
       " Text(0.875, 0.375, 'discipline_percent <= 115.0\\ngini = 0.04\\nsamples = 643\\nvalue = [630, 13]\\nclass = 0'),\n",
       " Text(0.8125, 0.125, 'gini = 0.037\\nsamples = 642\\nvalue = [630, 12]\\nclass = 0'),\n",
       " Text(0.9375, 0.125, 'gini = 0.0\\nsamples = 1\\nvalue = [0, 1]\\nclass = 1')]"
      ]
     },
     "execution_count": 69,
     "metadata": {},
     "output_type": "execute_result"
    },
    {
     "data": {
      "image/png": "[encoded data removed]",
      "text/plain": [
       "<Figure size 864x504 with 1 Axes>"
      ]
     },
     "metadata": {
      "needs_background": "light"
     },
     "output_type": "display_data"
    }
   ],
   "source": [
    "# Visualize the tree\n",
    "plt.figure(figsize=(12, 7))\n",
    "plot_tree(tree, feature_names=X_train_scaled.columns, class_names=tree.classes_.astype(str))\n",
    "#plt.show()"
   ]
  },
  {
   "cell_type": "code",
   "execution_count": 70,
   "id": "5aa4b574",
   "metadata": {},
   "outputs": [],
   "source": [
    "y_pred=tree.predict(X_train_scaled)"
   ]
  },
  {
   "cell_type": "code",
   "execution_count": 71,
   "id": "c48e214b",
   "metadata": {},
   "outputs": [],
   "source": [
    "y_pred_proba = tree.predict_proba(X_train_scaled)\n"
   ]
  },
  {
   "cell_type": "code",
   "execution_count": 72,
   "id": "7219ab09",
   "metadata": {},
   "outputs": [
    {
     "name": "stdout",
     "output_type": "stream",
     "text": [
      "Accuracy of Decision Tree classifier on training set: 0.91\n"
     ]
    }
   ],
   "source": [
    "print('Accuracy of Decision Tree classifier on training set: {:.2f}'\n",
    "      .format(tree.score(X_train_scaled, y_train)))"
   ]
  },
  {
   "cell_type": "markdown",
   "id": "98200f94",
   "metadata": {},
   "source": [
    "# Create a confusion matrix"
   ]
  },
  {
   "cell_type": "code",
   "execution_count": 73,
   "id": "7c6e5c9e",
   "metadata": {},
   "outputs": [
    {
     "data": {
      "text/plain": [
       "array([0, 0, 0, ..., 0, 0, 0])"
      ]
     },
     "execution_count": 73,
     "metadata": {},
     "output_type": "execute_result"
    }
   ],
   "source": [
    "tree.predict(X_train_scaled)"
   ]
  },
  {
   "cell_type": "code",
   "execution_count": 74,
   "id": "0c0eeb9b",
   "metadata": {},
   "outputs": [],
   "source": [
    "predictions = tree.predict(X_train_scaled)\n",
    "actual = y_train"
   ]
  },
  {
   "cell_type": "code",
   "execution_count": 75,
   "id": "c8515a13",
   "metadata": {},
   "outputs": [
    {
     "data": {
      "text/plain": [
       "array([[1992,   48],\n",
       "       [ 151,   79]])"
      ]
     },
     "execution_count": 75,
     "metadata": {},
     "output_type": "execute_result"
    }
   ],
   "source": [
    "confusion_matrix(actual, predictions)\n"
   ]
  },
  {
   "cell_type": "code",
   "execution_count": 76,
   "id": "18cfc3eb",
   "metadata": {},
   "outputs": [
    {
     "data": {
      "text/html": [
       "<div>\n",
       "<style scoped>\n",
       "    .dataframe tbody tr th:only-of-type {\n",
       "        vertical-align: middle;\n",
       "    }\n",
       "\n",
       "    .dataframe tbody tr th {\n",
       "        vertical-align: top;\n",
       "    }\n",
       "\n",
       "    .dataframe thead th {\n",
       "        text-align: right;\n",
       "    }\n",
       "</style>\n",
       "<table border=\"1\" class=\"dataframe\">\n",
       "  <thead>\n",
       "    <tr style=\"text-align: right;\">\n",
       "      <th>col_0</th>\n",
       "      <th>0</th>\n",
       "      <th>1</th>\n",
       "    </tr>\n",
       "    <tr>\n",
       "      <th>charter_encoded</th>\n",
       "      <th></th>\n",
       "      <th></th>\n",
       "    </tr>\n",
       "  </thead>\n",
       "  <tbody>\n",
       "    <tr>\n",
       "      <th>0</th>\n",
       "      <td>1992</td>\n",
       "      <td>48</td>\n",
       "    </tr>\n",
       "    <tr>\n",
       "      <th>1</th>\n",
       "      <td>151</td>\n",
       "      <td>79</td>\n",
       "    </tr>\n",
       "  </tbody>\n",
       "</table>\n",
       "</div>"
      ],
      "text/plain": [
       "col_0               0   1\n",
       "charter_encoded          \n",
       "0                1992  48\n",
       "1                 151  79"
      ]
     },
     "execution_count": 76,
     "metadata": {},
     "output_type": "execute_result"
    }
   ],
   "source": [
    "pd.crosstab(y_train['charter_encoded'], tree.predict(X_train_scaled))"
   ]
  },
  {
   "cell_type": "code",
   "execution_count": 77,
   "id": "0efab4c1",
   "metadata": {},
   "outputs": [
    {
     "data": {
      "text/plain": [
       "<sklearn.metrics._plot.confusion_matrix.ConfusionMatrixDisplay at 0x15d620a30>"
      ]
     },
     "execution_count": 77,
     "metadata": {},
     "output_type": "execute_result"
    },
    {
     "data": {
      "image/png": "[encoded data removed]",
      "text/plain": [
       "<Figure size 432x288 with 2 Axes>"
      ]
     },
     "metadata": {
      "needs_background": "light"
     },
     "output_type": "display_data"
    }
   ],
   "source": [
    "plot_confusion_matrix(tree, X_train_scaled, y_train, display_labels=['traditional', 'charter'])\n"
   ]
  },
  {
   "cell_type": "code",
   "execution_count": 78,
   "id": "3faa6278",
   "metadata": {},
   "outputs": [
    {
     "name": "stdout",
     "output_type": "stream",
     "text": [
      "              precision    recall  f1-score   support\n",
      "\n",
      "           0       0.93      0.98      0.95      2040\n",
      "           1       0.62      0.34      0.44       230\n",
      "\n",
      "    accuracy                           0.91      2270\n",
      "   macro avg       0.78      0.66      0.70      2270\n",
      "weighted avg       0.90      0.91      0.90      2270\n",
      "\n"
     ]
    }
   ],
   "source": [
    "print(classification_report(actual, predictions))"
   ]
  },
  {
   "cell_type": "markdown",
   "id": "9d0e1eda",
   "metadata": {},
   "source": [
    "# Random Forest"
   ]
  },
  {
   "cell_type": "code",
   "execution_count": 79,
   "id": "cb4907a4",
   "metadata": {},
   "outputs": [
    {
     "data": {
      "text/plain": [
       "RandomForestClassifier(max_depth=3, random_state=123)"
      ]
     },
     "execution_count": 79,
     "metadata": {},
     "output_type": "execute_result"
    }
   ],
   "source": [
    "rf = RandomForestClassifier(max_depth=3, random_state=123)\n",
    "rf"
   ]
  },
  {
   "cell_type": "code",
   "execution_count": 80,
   "id": "a83495fd",
   "metadata": {},
   "outputs": [
    {
     "data": {
      "text/plain": [
       "RandomForestClassifier(max_depth=3, random_state=123)"
      ]
     },
     "execution_count": 80,
     "metadata": {},
     "output_type": "execute_result"
    }
   ],
   "source": [
    "rf.fit(X_train_scaled, y_train)\n"
   ]
  },
  {
   "cell_type": "code",
   "execution_count": 81,
   "id": "e64f23b2",
   "metadata": {},
   "outputs": [
    {
     "name": "stdout",
     "output_type": "stream",
     "text": [
      "[0.2455151 0.1828066 0.5716783 0.       ]\n"
     ]
    }
   ],
   "source": [
    "print(rf.feature_importances_)\n"
   ]
  },
  {
   "cell_type": "code",
   "execution_count": 82,
   "id": "571f8cf5",
   "metadata": {},
   "outputs": [
    {
     "data": {
      "image/png": "[encoded data removed]",
      "text/plain": [
       "<Figure size 432x288 with 1 Axes>"
      ]
     },
     "metadata": {
      "needs_background": "light"
     },
     "output_type": "display_data"
    }
   ],
   "source": [
    "plt.bar(X_train_scaled.columns, rf.feature_importances_)\n",
    "plt.show()"
   ]
  },
  {
   "cell_type": "code",
   "execution_count": 83,
   "id": "cc2c9f14",
   "metadata": {},
   "outputs": [
    {
     "data": {
      "text/plain": [
       "array([0, 0, 0, ..., 0, 0, 0])"
      ]
     },
     "execution_count": 83,
     "metadata": {},
     "output_type": "execute_result"
    }
   ],
   "source": [
    "y_pred = rf.predict(X_train_scaled)\n",
    "y_pred"
   ]
  },
  {
   "cell_type": "code",
   "execution_count": 84,
   "id": "bd45d142",
   "metadata": {},
   "outputs": [
    {
     "data": {
      "text/plain": [
       "array([[0.95560118, 0.04439882],\n",
       "       [0.92707726, 0.07292274],\n",
       "       [0.93087676, 0.06912324],\n",
       "       ...,\n",
       "       [0.91673727, 0.08326273],\n",
       "       [0.94054092, 0.05945908],\n",
       "       [0.95362934, 0.04637066]])"
      ]
     },
     "execution_count": 84,
     "metadata": {},
     "output_type": "execute_result"
    }
   ],
   "source": [
    "y_pred_proba = rf.predict_proba(X_train_scaled)\n",
    "y_pred_proba"
   ]
  },
  {
   "cell_type": "code",
   "execution_count": 85,
   "id": "5f0ee25e",
   "metadata": {},
   "outputs": [
    {
     "name": "stdout",
     "output_type": "stream",
     "text": [
      "Accuracy of random forest classifier on training set: 0.91\n"
     ]
    }
   ],
   "source": [
    "print('Accuracy of random forest classifier on training set: {:.2f}'\n",
    "     .format(rf.score(X_train_scaled, y_train)))"
   ]
  },
  {
   "cell_type": "code",
   "execution_count": 86,
   "id": "c94ec87c",
   "metadata": {},
   "outputs": [
    {
     "name": "stdout",
     "output_type": "stream",
     "text": [
      "[[2018   22]\n",
      " [ 178   52]]\n"
     ]
    }
   ],
   "source": [
    "cm = confusion_matrix(y_train, y_pred)\n",
    "print(cm)"
   ]
  },
  {
   "cell_type": "code",
   "execution_count": 87,
   "id": "75b9c25b",
   "metadata": {},
   "outputs": [
    {
     "data": {
      "image/png": "[encoded data removed]",
      "text/plain": [
       "<Figure size 432x288 with 2 Axes>"
      ]
     },
     "metadata": {
      "needs_background": "light"
     },
     "output_type": "display_data"
    }
   ],
   "source": [
    "disp = ConfusionMatrixDisplay(confusion_matrix=cm, display_labels=rf.classes_)\n",
    "\n",
    "disp.plot()\n",
    "plt.show()"
   ]
  },
  {
   "cell_type": "code",
   "execution_count": 88,
   "id": "701fd838",
   "metadata": {},
   "outputs": [
    {
     "name": "stdout",
     "output_type": "stream",
     "text": [
      "              precision    recall  f1-score   support\n",
      "\n",
      "           0       0.92      0.99      0.95      2040\n",
      "           1       0.70      0.23      0.34       230\n",
      "\n",
      "    accuracy                           0.91      2270\n",
      "   macro avg       0.81      0.61      0.65      2270\n",
      "weighted avg       0.90      0.91      0.89      2270\n",
      "\n"
     ]
    }
   ],
   "source": [
    "print(classification_report(y_train, y_pred))"
   ]
  },
  {
   "cell_type": "markdown",
   "id": "68415280",
   "metadata": {},
   "source": [
    "# K-Nearest Neighbor"
   ]
  },
  {
   "cell_type": "code",
   "execution_count": 89,
   "id": "1edc8aa7",
   "metadata": {},
   "outputs": [],
   "source": [
    "# weights = ['uniform', 'density']\n",
    "knn = KNeighborsClassifier(n_neighbors=5, weights='uniform')"
   ]
  },
  {
   "cell_type": "code",
   "execution_count": 90,
   "id": "b3ee1eb1",
   "metadata": {},
   "outputs": [
    {
     "data": {
      "text/plain": [
       "KNeighborsClassifier()"
      ]
     },
     "execution_count": 90,
     "metadata": {},
     "output_type": "execute_result"
    }
   ],
   "source": [
    "knn.fit(X_train_scaled, y_train)\n"
   ]
  },
  {
   "cell_type": "code",
   "execution_count": 91,
   "id": "5576e64b",
   "metadata": {},
   "outputs": [],
   "source": [
    "y_pred = knn.predict(X_train_scaled)\n"
   ]
  },
  {
   "cell_type": "code",
   "execution_count": 92,
   "id": "5097d246",
   "metadata": {},
   "outputs": [],
   "source": [
    "y_pred_proba = knn.predict_proba(X_train_scaled)\n"
   ]
  },
  {
   "cell_type": "code",
   "execution_count": 93,
   "id": "f626992f",
   "metadata": {},
   "outputs": [
    {
     "name": "stdout",
     "output_type": "stream",
     "text": [
      "Accuracy of KNN classifier on training set: 0.92\n"
     ]
    }
   ],
   "source": [
    "print('Accuracy of KNN classifier on training set: {:.2f}'\n",
    "     .format(knn.score(X_train_scaled, y_train)))"
   ]
  },
  {
   "cell_type": "code",
   "execution_count": 94,
   "id": "3bfafe85",
   "metadata": {},
   "outputs": [
    {
     "name": "stdout",
     "output_type": "stream",
     "text": [
      "[[2010   30]\n",
      " [ 152   78]]\n"
     ]
    }
   ],
   "source": [
    "print(confusion_matrix(y_train, y_pred))"
   ]
  },
  {
   "cell_type": "code",
   "execution_count": 95,
   "id": "2cc761f7",
   "metadata": {},
   "outputs": [
    {
     "name": "stdout",
     "output_type": "stream",
     "text": [
      "              precision    recall  f1-score   support\n",
      "\n",
      "           0       0.93      0.99      0.96      2040\n",
      "           1       0.72      0.34      0.46       230\n",
      "\n",
      "    accuracy                           0.92      2270\n",
      "   macro avg       0.83      0.66      0.71      2270\n",
      "weighted avg       0.91      0.92      0.91      2270\n",
      "\n"
     ]
    }
   ],
   "source": [
    "print(classification_report(y_train, y_pred))"
   ]
  },
  {
   "cell_type": "markdown",
   "id": "4b268e99",
   "metadata": {},
   "source": [
    "# Logistic Regression"
   ]
  },
  {
   "cell_type": "code",
   "execution_count": 96,
   "id": "8bab771f",
   "metadata": {},
   "outputs": [],
   "source": [
    "# Define the logistic regression model\n",
    "logit = LogisticRegression(C=1, random_state=123)"
   ]
  },
  {
   "cell_type": "code",
   "execution_count": 97,
   "id": "206c7aa3",
   "metadata": {},
   "outputs": [
    {
     "data": {
      "text/plain": [
       "LogisticRegression(C=1, random_state=123)"
      ]
     },
     "execution_count": 97,
     "metadata": {},
     "output_type": "execute_result"
    }
   ],
   "source": [
    "#  fit the model on train data\n",
    "logit.fit(X_train_scaled, y_train)"
   ]
  },
  {
   "cell_type": "code",
   "execution_count": 98,
   "id": "01972a84",
   "metadata": {},
   "outputs": [],
   "source": [
    "# now use the model to make predictions\n",
    "y_pred = logit.predict(X_train_scaled)"
   ]
  },
  {
   "cell_type": "code",
   "execution_count": 99,
   "id": "6e9d20fa",
   "metadata": {},
   "outputs": [
    {
     "data": {
      "text/plain": [
       "array([0, 0, 0, ..., 0, 0, 0])"
      ]
     },
     "execution_count": 99,
     "metadata": {},
     "output_type": "execute_result"
    }
   ],
   "source": [
    "#take a look at predictions\n",
    "y_pred"
   ]
  },
  {
   "cell_type": "code",
   "execution_count": 100,
   "id": "48e127de",
   "metadata": {},
   "outputs": [
    {
     "data": {
      "text/plain": [
       "array([[0.95517112, 0.04482888],\n",
       "       [0.91702005, 0.08297995],\n",
       "       [0.91195836, 0.08804164],\n",
       "       [0.91748174, 0.08251826],\n",
       "       [0.72792652, 0.27207348],\n",
       "       [0.9594673 , 0.0405327 ],\n",
       "       [0.99711388, 0.00288612],\n",
       "       [0.94626456, 0.05373544],\n",
       "       [0.9743849 , 0.0256151 ],\n",
       "       [0.83633725, 0.16366275]])"
      ]
     },
     "execution_count": 100,
     "metadata": {},
     "output_type": "execute_result"
    }
   ],
   "source": [
    "# look at predicted probabilites for first 10 observations\n",
    "logit.predict_proba(X_train_scaled)[:10]"
   ]
  },
  {
   "cell_type": "code",
   "execution_count": 101,
   "id": "5c50ed95",
   "metadata": {},
   "outputs": [
    {
     "data": {
      "text/plain": [
       "array([0, 1])"
      ]
     },
     "execution_count": 101,
     "metadata": {},
     "output_type": "execute_result"
    }
   ],
   "source": [
    "logit.classes_"
   ]
  },
  {
   "cell_type": "code",
   "execution_count": 102,
   "id": "7bec7095",
   "metadata": {},
   "outputs": [
    {
     "data": {
      "text/html": [
       "<div>\n",
       "<style scoped>\n",
       "    .dataframe tbody tr th:only-of-type {\n",
       "        vertical-align: middle;\n",
       "    }\n",
       "\n",
       "    .dataframe tbody tr th {\n",
       "        vertical-align: top;\n",
       "    }\n",
       "\n",
       "    .dataframe thead th {\n",
       "        text-align: right;\n",
       "    }\n",
       "</style>\n",
       "<table border=\"1\" class=\"dataframe\">\n",
       "  <thead>\n",
       "    <tr style=\"text-align: right;\">\n",
       "      <th></th>\n",
       "      <th>traditional</th>\n",
       "      <th>charter</th>\n",
       "    </tr>\n",
       "  </thead>\n",
       "  <tbody>\n",
       "    <tr>\n",
       "      <th>0</th>\n",
       "      <td>0.955</td>\n",
       "      <td>0.045</td>\n",
       "    </tr>\n",
       "    <tr>\n",
       "      <th>1</th>\n",
       "      <td>0.917</td>\n",
       "      <td>0.083</td>\n",
       "    </tr>\n",
       "    <tr>\n",
       "      <th>2</th>\n",
       "      <td>0.912</td>\n",
       "      <td>0.088</td>\n",
       "    </tr>\n",
       "    <tr>\n",
       "      <th>3</th>\n",
       "      <td>0.917</td>\n",
       "      <td>0.083</td>\n",
       "    </tr>\n",
       "    <tr>\n",
       "      <th>4</th>\n",
       "      <td>0.728</td>\n",
       "      <td>0.272</td>\n",
       "    </tr>\n",
       "  </tbody>\n",
       "</table>\n",
       "</div>"
      ],
      "text/plain": [
       "   traditional  charter\n",
       "0        0.955    0.045\n",
       "1        0.917    0.083\n",
       "2        0.912    0.088\n",
       "3        0.917    0.083\n",
       "4        0.728    0.272"
      ]
     },
     "execution_count": 102,
     "metadata": {},
     "output_type": "execute_result"
    }
   ],
   "source": [
    "# View raw probabilities (output from the model)\n",
    "\n",
    "y_pred_proba = logit.predict_proba(X_train_scaled)\n",
    "y_pred_proba = pd.DataFrame(y_pred_proba, columns = ['traditional', 'charter'])\n",
    "y_pred_proba.head().round(3)"
   ]
  },
  {
   "cell_type": "code",
   "execution_count": 103,
   "id": "c01589d0",
   "metadata": {},
   "outputs": [
    {
     "name": "stdout",
     "output_type": "stream",
     "text": [
      "              precision    recall  f1-score   support\n",
      "\n",
      "           0       0.90      1.00      0.95      2040\n",
      "           1       0.00      0.00      0.00       230\n",
      "\n",
      "    accuracy                           0.90      2270\n",
      "   macro avg       0.45      0.50      0.47      2270\n",
      "weighted avg       0.81      0.90      0.85      2270\n",
      "\n"
     ]
    }
   ],
   "source": [
    "#classification report\n",
    "print(classification_report(y_train, y_pred))"
   ]
  },
  {
   "cell_type": "code",
   "execution_count": 104,
   "id": "582ed63b",
   "metadata": {},
   "outputs": [
    {
     "name": "stdout",
     "output_type": "stream",
     "text": [
      "Coefficient: \n",
      " [-1.84559825e-05 -5.79795044e-06 -9.02539262e-02  0.00000000e+00]\n"
     ]
    }
   ],
   "source": [
    "# look at model 1 coefficents\n",
    " \n",
    "print('Coefficient: \\n', logit.coef_[0])"
   ]
  },
  {
   "cell_type": "code",
   "execution_count": 105,
   "id": "cb3a48b6",
   "metadata": {},
   "outputs": [
    {
     "data": {
      "text/html": [
       "<div>\n",
       "<style scoped>\n",
       "    .dataframe tbody tr th:only-of-type {\n",
       "        vertical-align: middle;\n",
       "    }\n",
       "\n",
       "    .dataframe tbody tr th {\n",
       "        vertical-align: top;\n",
       "    }\n",
       "\n",
       "    .dataframe thead th {\n",
       "        text-align: right;\n",
       "    }\n",
       "</style>\n",
       "<table border=\"1\" class=\"dataframe\">\n",
       "  <thead>\n",
       "    <tr style=\"text-align: right;\">\n",
       "      <th></th>\n",
       "      <th>coeffs</th>\n",
       "    </tr>\n",
       "  </thead>\n",
       "  <tbody>\n",
       "    <tr>\n",
       "      <th>discipline_percent</th>\n",
       "      <td>-0.090254</td>\n",
       "    </tr>\n",
       "    <tr>\n",
       "      <th>enrollment</th>\n",
       "      <td>-0.000018</td>\n",
       "    </tr>\n",
       "    <tr>\n",
       "      <th>disciplined</th>\n",
       "      <td>-0.000006</td>\n",
       "    </tr>\n",
       "    <tr>\n",
       "      <th>baseline_prediction</th>\n",
       "      <td>0.000000</td>\n",
       "    </tr>\n",
       "  </tbody>\n",
       "</table>\n",
       "</div>"
      ],
      "text/plain": [
       "                       coeffs\n",
       "discipline_percent  -0.090254\n",
       "enrollment          -0.000018\n",
       "disciplined         -0.000006\n",
       "baseline_prediction  0.000000"
      ]
     },
     "execution_count": 105,
     "metadata": {},
     "output_type": "execute_result"
    }
   ],
   "source": [
    "# Make a dataframe of coefficients and feature names\n",
    "\n",
    "log_coeffs = pd.DataFrame(logit.coef_[0], index = X_train_scaled.columns,\n",
    "                          columns = ['coeffs']).sort_values(by = 'coeffs', ascending = True)\n",
    "log_coeffs"
   ]
  },
  {
   "cell_type": "code",
   "execution_count": 106,
   "id": "cf13f1a0",
   "metadata": {},
   "outputs": [
    {
     "data": {
      "text/html": [
       "<div>\n",
       "<style scoped>\n",
       "    .dataframe tbody tr th:only-of-type {\n",
       "        vertical-align: middle;\n",
       "    }\n",
       "\n",
       "    .dataframe tbody tr th {\n",
       "        vertical-align: top;\n",
       "    }\n",
       "\n",
       "    .dataframe thead th {\n",
       "        text-align: right;\n",
       "    }\n",
       "</style>\n",
       "<table border=\"1\" class=\"dataframe\">\n",
       "  <thead>\n",
       "    <tr style=\"text-align: right;\">\n",
       "      <th></th>\n",
       "      <th>coeffs</th>\n",
       "    </tr>\n",
       "  </thead>\n",
       "  <tbody>\n",
       "    <tr>\n",
       "      <th>discipline_percent</th>\n",
       "      <td>0.913699</td>\n",
       "    </tr>\n",
       "    <tr>\n",
       "      <th>enrollment</th>\n",
       "      <td>0.999982</td>\n",
       "    </tr>\n",
       "    <tr>\n",
       "      <th>disciplined</th>\n",
       "      <td>0.999994</td>\n",
       "    </tr>\n",
       "    <tr>\n",
       "      <th>baseline_prediction</th>\n",
       "      <td>1.000000</td>\n",
       "    </tr>\n",
       "  </tbody>\n",
       "</table>\n",
       "</div>"
      ],
      "text/plain": [
       "                       coeffs\n",
       "discipline_percent   0.913699\n",
       "enrollment           0.999982\n",
       "disciplined          0.999994\n",
       "baseline_prediction  1.000000"
      ]
     },
     "execution_count": 106,
     "metadata": {},
     "output_type": "execute_result"
    }
   ],
   "source": [
    "# convert from log odds to odds (exponentiate)\n",
    "odds = np.exp(log_coeffs)\n",
    "odds\n"
   ]
  },
  {
   "cell_type": "markdown",
   "id": "abb58d34",
   "metadata": {},
   "source": [
    "## Best Performing Model is KNN (now to validate and test)"
   ]
  },
  {
   "cell_type": "code",
   "execution_count": 107,
   "id": "f6ee145c",
   "metadata": {},
   "outputs": [],
   "source": [
    "# weights = ['uniform', 'density']\n",
    "knn = KNeighborsClassifier(n_neighbors=5, weights='uniform')"
   ]
  },
  {
   "cell_type": "code",
   "execution_count": 108,
   "id": "7f2d09ef",
   "metadata": {},
   "outputs": [
    {
     "data": {
      "text/plain": [
       "KNeighborsClassifier()"
      ]
     },
     "execution_count": 108,
     "metadata": {},
     "output_type": "execute_result"
    }
   ],
   "source": [
    "knn.fit(X_validate_scaled, y_validate)"
   ]
  },
  {
   "cell_type": "code",
   "execution_count": 109,
   "id": "87ad7e8d",
   "metadata": {},
   "outputs": [],
   "source": [
    "y_pred = knn.predict(X_validate_scaled)"
   ]
  },
  {
   "cell_type": "code",
   "execution_count": 110,
   "id": "d6d1166b",
   "metadata": {},
   "outputs": [],
   "source": [
    "y_pred_proba = knn.predict_proba(X_validate_scaled)"
   ]
  },
  {
   "cell_type": "code",
   "execution_count": 111,
   "id": "ae2116a4",
   "metadata": {},
   "outputs": [
    {
     "name": "stdout",
     "output_type": "stream",
     "text": [
      "Accuracy of KNN classifier on training set: 0.91\n"
     ]
    }
   ],
   "source": [
    "print('Accuracy of KNN classifier on training set: {:.2f}'\n",
    "     .format(knn.score(X_validate_scaled, y_validate)))"
   ]
  },
  {
   "cell_type": "code",
   "execution_count": 112,
   "id": "21d166c3",
   "metadata": {},
   "outputs": [
    {
     "name": "stdout",
     "output_type": "stream",
     "text": [
      "[[864  11]\n",
      " [ 74  25]]\n"
     ]
    }
   ],
   "source": [
    "print(confusion_matrix(y_validate, y_pred))"
   ]
  },
  {
   "cell_type": "code",
   "execution_count": 113,
   "id": "615e8157",
   "metadata": {},
   "outputs": [
    {
     "name": "stdout",
     "output_type": "stream",
     "text": [
      "              precision    recall  f1-score   support\n",
      "\n",
      "           0       0.92      0.99      0.95       875\n",
      "           1       0.69      0.25      0.37        99\n",
      "\n",
      "    accuracy                           0.91       974\n",
      "   macro avg       0.81      0.62      0.66       974\n",
      "weighted avg       0.90      0.91      0.89       974\n",
      "\n"
     ]
    }
   ],
   "source": [
    "print(classification_report(y_validate, y_pred))"
   ]
  },
  {
   "cell_type": "code",
   "execution_count": 114,
   "id": "0b9ae86e",
   "metadata": {},
   "outputs": [],
   "source": [
    "pred_dict = {\n",
    "    'model': [],\n",
    "    'accuracy': [],\n",
    "    'true_positive_rate': [],\n",
    "    'false_positive_rate': [],\n",
    "    'true_negative_rate': [],\n",
    "    'false_negative_rate': [],\n",
    "    'precision': [],\n",
    "    'recall': [],\n",
    "    'f1_score': [],\n",
    "    'support_0': [],\n",
    "    'support_1': []\n",
    "}\n",
    "\n",
    "for n in [5, 10, 20]:\n",
    "    knn = KNeighborsClassifier(n_neighbors=n)\n",
    "    \n",
    "    knn.fit(X_validate_scaled, y_validate)\n",
    "    \n",
    "    y_preds = knn.predict(X_validate_scaled)\n",
    "    \n",
    "    TN, FP, FN, TP = confusion_matrix(y_validate, y_preds).ravel()\n",
    "    ALL = TP + TN + FP + FN\n",
    "    \n",
    "    accuracy = (TP + TN)/ALL\n",
    "    true_positive_rate = TP/(TP+FN)\n",
    "    false_positive_rate = FP/(FP+TN)\n",
    "    true_negative_rate = TN/(TN+FP)\n",
    "    false_negative_rate = FN/(FN+TP)\n",
    "    precision = TP/(TP+FP)\n",
    "    recall = TP/(TP+FN)\n",
    "    f1_score = 2*(precision*recall)/(precision+recall)\n",
    "    support_pos = TP + FN\n",
    "    support_neg = FP + TN\n",
    "    \n",
    "    pred_dict['model'].append(f'knn_n_{n}')\n",
    "    pred_dict['accuracy'].append(accuracy)\n",
    "    pred_dict['true_positive_rate'].append(true_positive_rate)\n",
    "    pred_dict['false_positive_rate'].append(false_positive_rate)\n",
    "    pred_dict['true_negative_rate'].append(true_negative_rate)\n",
    "    pred_dict['false_negative_rate'].append(false_negative_rate)\n",
    "    pred_dict['precision'].append(precision)\n",
    "    pred_dict['recall'].append(recall)\n",
    "    pred_dict['f1_score'].append(f1_score)\n",
    "    pred_dict['support_0'].append(support_pos)\n",
    "    pred_dict['support_1'].append(support_neg)"
   ]
  },
  {
   "cell_type": "code",
   "execution_count": 115,
   "id": "955a3f56",
   "metadata": {},
   "outputs": [
    {
     "data": {
      "text/html": [
       "<div>\n",
       "<style scoped>\n",
       "    .dataframe tbody tr th:only-of-type {\n",
       "        vertical-align: middle;\n",
       "    }\n",
       "\n",
       "    .dataframe tbody tr th {\n",
       "        vertical-align: top;\n",
       "    }\n",
       "\n",
       "    .dataframe thead th {\n",
       "        text-align: right;\n",
       "    }\n",
       "</style>\n",
       "<table border=\"1\" class=\"dataframe\">\n",
       "  <thead>\n",
       "    <tr style=\"text-align: right;\">\n",
       "      <th></th>\n",
       "      <th>model</th>\n",
       "      <th>accuracy</th>\n",
       "      <th>true_positive_rate</th>\n",
       "      <th>false_positive_rate</th>\n",
       "      <th>true_negative_rate</th>\n",
       "      <th>false_negative_rate</th>\n",
       "      <th>precision</th>\n",
       "      <th>recall</th>\n",
       "      <th>f1_score</th>\n",
       "      <th>support_0</th>\n",
       "      <th>support_1</th>\n",
       "    </tr>\n",
       "  </thead>\n",
       "  <tbody>\n",
       "    <tr>\n",
       "      <th>0</th>\n",
       "      <td>knn_n_5</td>\n",
       "      <td>0.912731</td>\n",
       "      <td>0.252525</td>\n",
       "      <td>0.012571</td>\n",
       "      <td>0.987429</td>\n",
       "      <td>0.747475</td>\n",
       "      <td>0.694444</td>\n",
       "      <td>0.252525</td>\n",
       "      <td>0.370370</td>\n",
       "      <td>99</td>\n",
       "      <td>875</td>\n",
       "    </tr>\n",
       "    <tr>\n",
       "      <th>1</th>\n",
       "      <td>knn_n_10</td>\n",
       "      <td>0.906571</td>\n",
       "      <td>0.131313</td>\n",
       "      <td>0.005714</td>\n",
       "      <td>0.994286</td>\n",
       "      <td>0.868687</td>\n",
       "      <td>0.722222</td>\n",
       "      <td>0.131313</td>\n",
       "      <td>0.222222</td>\n",
       "      <td>99</td>\n",
       "      <td>875</td>\n",
       "    </tr>\n",
       "    <tr>\n",
       "      <th>2</th>\n",
       "      <td>knn_n_20</td>\n",
       "      <td>0.901437</td>\n",
       "      <td>0.030303</td>\n",
       "      <td>0.000000</td>\n",
       "      <td>1.000000</td>\n",
       "      <td>0.969697</td>\n",
       "      <td>1.000000</td>\n",
       "      <td>0.030303</td>\n",
       "      <td>0.058824</td>\n",
       "      <td>99</td>\n",
       "      <td>875</td>\n",
       "    </tr>\n",
       "  </tbody>\n",
       "</table>\n",
       "</div>"
      ],
      "text/plain": [
       "      model  accuracy  true_positive_rate  false_positive_rate  \\\n",
       "0   knn_n_5  0.912731            0.252525             0.012571   \n",
       "1  knn_n_10  0.906571            0.131313             0.005714   \n",
       "2  knn_n_20  0.901437            0.030303             0.000000   \n",
       "\n",
       "   true_negative_rate  false_negative_rate  precision    recall  f1_score  \\\n",
       "0            0.987429             0.747475   0.694444  0.252525  0.370370   \n",
       "1            0.994286             0.868687   0.722222  0.131313  0.222222   \n",
       "2            1.000000             0.969697   1.000000  0.030303  0.058824   \n",
       "\n",
       "   support_0  support_1  \n",
       "0         99        875  \n",
       "1         99        875  \n",
       "2         99        875  "
      ]
     },
     "execution_count": 115,
     "metadata": {},
     "output_type": "execute_result"
    }
   ],
   "source": [
    "pd.DataFrame(pred_dict)"
   ]
  },
  {
   "cell_type": "code",
   "execution_count": 116,
   "id": "8c34ff48",
   "metadata": {},
   "outputs": [
    {
     "data": {
      "text/html": [
       "<div>\n",
       "<style scoped>\n",
       "    .dataframe tbody tr th:only-of-type {\n",
       "        vertical-align: middle;\n",
       "    }\n",
       "\n",
       "    .dataframe tbody tr th {\n",
       "        vertical-align: top;\n",
       "    }\n",
       "\n",
       "    .dataframe thead th {\n",
       "        text-align: right;\n",
       "    }\n",
       "</style>\n",
       "<table border=\"1\" class=\"dataframe\">\n",
       "  <thead>\n",
       "    <tr style=\"text-align: right;\">\n",
       "      <th></th>\n",
       "      <th>0</th>\n",
       "      <th>1</th>\n",
       "      <th>2</th>\n",
       "    </tr>\n",
       "  </thead>\n",
       "  <tbody>\n",
       "    <tr>\n",
       "      <th>model</th>\n",
       "      <td>knn_n_5</td>\n",
       "      <td>knn_n_10</td>\n",
       "      <td>knn_n_20</td>\n",
       "    </tr>\n",
       "    <tr>\n",
       "      <th>accuracy</th>\n",
       "      <td>0.912731</td>\n",
       "      <td>0.906571</td>\n",
       "      <td>0.901437</td>\n",
       "    </tr>\n",
       "    <tr>\n",
       "      <th>true_positive_rate</th>\n",
       "      <td>0.252525</td>\n",
       "      <td>0.131313</td>\n",
       "      <td>0.030303</td>\n",
       "    </tr>\n",
       "    <tr>\n",
       "      <th>false_positive_rate</th>\n",
       "      <td>0.012571</td>\n",
       "      <td>0.005714</td>\n",
       "      <td>0.0</td>\n",
       "    </tr>\n",
       "    <tr>\n",
       "      <th>true_negative_rate</th>\n",
       "      <td>0.987429</td>\n",
       "      <td>0.994286</td>\n",
       "      <td>1.0</td>\n",
       "    </tr>\n",
       "    <tr>\n",
       "      <th>false_negative_rate</th>\n",
       "      <td>0.747475</td>\n",
       "      <td>0.868687</td>\n",
       "      <td>0.969697</td>\n",
       "    </tr>\n",
       "    <tr>\n",
       "      <th>precision</th>\n",
       "      <td>0.694444</td>\n",
       "      <td>0.722222</td>\n",
       "      <td>1.0</td>\n",
       "    </tr>\n",
       "    <tr>\n",
       "      <th>recall</th>\n",
       "      <td>0.252525</td>\n",
       "      <td>0.131313</td>\n",
       "      <td>0.030303</td>\n",
       "    </tr>\n",
       "    <tr>\n",
       "      <th>f1_score</th>\n",
       "      <td>0.37037</td>\n",
       "      <td>0.222222</td>\n",
       "      <td>0.058824</td>\n",
       "    </tr>\n",
       "    <tr>\n",
       "      <th>support_0</th>\n",
       "      <td>99</td>\n",
       "      <td>99</td>\n",
       "      <td>99</td>\n",
       "    </tr>\n",
       "    <tr>\n",
       "      <th>support_1</th>\n",
       "      <td>875</td>\n",
       "      <td>875</td>\n",
       "      <td>875</td>\n",
       "    </tr>\n",
       "  </tbody>\n",
       "</table>\n",
       "</div>"
      ],
      "text/plain": [
       "                            0         1         2\n",
       "model                 knn_n_5  knn_n_10  knn_n_20\n",
       "accuracy             0.912731  0.906571  0.901437\n",
       "true_positive_rate   0.252525  0.131313  0.030303\n",
       "false_positive_rate  0.012571  0.005714       0.0\n",
       "true_negative_rate   0.987429  0.994286       1.0\n",
       "false_negative_rate  0.747475  0.868687  0.969697\n",
       "precision            0.694444  0.722222       1.0\n",
       "recall               0.252525  0.131313  0.030303\n",
       "f1_score              0.37037  0.222222  0.058824\n",
       "support_0                  99        99        99\n",
       "support_1                 875       875       875"
      ]
     },
     "execution_count": 116,
     "metadata": {},
     "output_type": "execute_result"
    }
   ],
   "source": [
    "pd.DataFrame(pred_dict).T"
   ]
  },
  {
   "cell_type": "code",
   "execution_count": 117,
   "id": "aebf842f",
   "metadata": {},
   "outputs": [
    {
     "data": {
      "text/html": [
       "<div>\n",
       "<style scoped>\n",
       "    .dataframe tbody tr th:only-of-type {\n",
       "        vertical-align: middle;\n",
       "    }\n",
       "\n",
       "    .dataframe tbody tr th {\n",
       "        vertical-align: top;\n",
       "    }\n",
       "\n",
       "    .dataframe thead th {\n",
       "        text-align: right;\n",
       "    }\n",
       "</style>\n",
       "<table border=\"1\" class=\"dataframe\">\n",
       "  <thead>\n",
       "    <tr style=\"text-align: right;\">\n",
       "      <th>model</th>\n",
       "      <th>knn_n_5</th>\n",
       "      <th>knn_n_10</th>\n",
       "      <th>knn_n_20</th>\n",
       "    </tr>\n",
       "  </thead>\n",
       "  <tbody>\n",
       "    <tr>\n",
       "      <th>accuracy</th>\n",
       "      <td>0.912731</td>\n",
       "      <td>0.906571</td>\n",
       "      <td>0.901437</td>\n",
       "    </tr>\n",
       "    <tr>\n",
       "      <th>true_positive_rate</th>\n",
       "      <td>0.252525</td>\n",
       "      <td>0.131313</td>\n",
       "      <td>0.030303</td>\n",
       "    </tr>\n",
       "    <tr>\n",
       "      <th>false_positive_rate</th>\n",
       "      <td>0.012571</td>\n",
       "      <td>0.005714</td>\n",
       "      <td>0.0</td>\n",
       "    </tr>\n",
       "    <tr>\n",
       "      <th>true_negative_rate</th>\n",
       "      <td>0.987429</td>\n",
       "      <td>0.994286</td>\n",
       "      <td>1.0</td>\n",
       "    </tr>\n",
       "    <tr>\n",
       "      <th>false_negative_rate</th>\n",
       "      <td>0.747475</td>\n",
       "      <td>0.868687</td>\n",
       "      <td>0.969697</td>\n",
       "    </tr>\n",
       "    <tr>\n",
       "      <th>precision</th>\n",
       "      <td>0.694444</td>\n",
       "      <td>0.722222</td>\n",
       "      <td>1.0</td>\n",
       "    </tr>\n",
       "    <tr>\n",
       "      <th>recall</th>\n",
       "      <td>0.252525</td>\n",
       "      <td>0.131313</td>\n",
       "      <td>0.030303</td>\n",
       "    </tr>\n",
       "    <tr>\n",
       "      <th>f1_score</th>\n",
       "      <td>0.37037</td>\n",
       "      <td>0.222222</td>\n",
       "      <td>0.058824</td>\n",
       "    </tr>\n",
       "    <tr>\n",
       "      <th>support_0</th>\n",
       "      <td>99</td>\n",
       "      <td>99</td>\n",
       "      <td>99</td>\n",
       "    </tr>\n",
       "    <tr>\n",
       "      <th>support_1</th>\n",
       "      <td>875</td>\n",
       "      <td>875</td>\n",
       "      <td>875</td>\n",
       "    </tr>\n",
       "  </tbody>\n",
       "</table>\n",
       "</div>"
      ],
      "text/plain": [
       "model                 knn_n_5  knn_n_10  knn_n_20\n",
       "accuracy             0.912731  0.906571  0.901437\n",
       "true_positive_rate   0.252525  0.131313  0.030303\n",
       "false_positive_rate  0.012571  0.005714       0.0\n",
       "true_negative_rate   0.987429  0.994286       1.0\n",
       "false_negative_rate  0.747475  0.868687  0.969697\n",
       "precision            0.694444  0.722222       1.0\n",
       "recall               0.252525  0.131313  0.030303\n",
       "f1_score              0.37037  0.222222  0.058824\n",
       "support_0                  99        99        99\n",
       "support_1                 875       875       875"
      ]
     },
     "execution_count": 117,
     "metadata": {},
     "output_type": "execute_result"
    }
   ],
   "source": [
    "validate_scaled_pred_df = pd.DataFrame(pred_dict).T\n",
    "validate_scaled_pred_df.columns = validate_scaled_pred_df.iloc[0]\n",
    "validate_scaled_pred_df = validate_scaled_pred_df.drop(validate_scaled_pred_df.index[0])\n",
    "validate_scaled_pred_df"
   ]
  },
  {
   "cell_type": "markdown",
   "id": "fd52b85d",
   "metadata": {},
   "source": [
    "## Test"
   ]
  },
  {
   "cell_type": "code",
   "execution_count": 118,
   "id": "a6a41ea0",
   "metadata": {},
   "outputs": [],
   "source": [
    "# weights = ['uniform', 'density']\n",
    "knn = KNeighborsClassifier(n_neighbors=5, weights='uniform')"
   ]
  },
  {
   "cell_type": "code",
   "execution_count": 119,
   "id": "ea7eacd2",
   "metadata": {},
   "outputs": [
    {
     "data": {
      "text/plain": [
       "KNeighborsClassifier()"
      ]
     },
     "execution_count": 119,
     "metadata": {},
     "output_type": "execute_result"
    }
   ],
   "source": [
    "knn.fit(X_test_scaled, y_test)"
   ]
  },
  {
   "cell_type": "code",
   "execution_count": 120,
   "id": "91b48f2d",
   "metadata": {},
   "outputs": [],
   "source": [
    "y_pred = knn.predict(X_test_scaled)"
   ]
  },
  {
   "cell_type": "code",
   "execution_count": 121,
   "id": "c116e9cd",
   "metadata": {},
   "outputs": [],
   "source": [
    "y_pred_proba = knn.predict_proba(X_test_scaled)"
   ]
  },
  {
   "cell_type": "code",
   "execution_count": 122,
   "id": "f242807d",
   "metadata": {},
   "outputs": [
    {
     "name": "stdout",
     "output_type": "stream",
     "text": [
      "Accuracy of KNN classifier on training set: 0.91\n"
     ]
    }
   ],
   "source": [
    "print('Accuracy of KNN classifier on training set: {:.2f}'\n",
    "     .format(knn.score(X_test_scaled, y_test)))"
   ]
  },
  {
   "cell_type": "code",
   "execution_count": 123,
   "id": "4c218ef2",
   "metadata": {},
   "outputs": [
    {
     "name": "stdout",
     "output_type": "stream",
     "text": [
      "[[723   6]\n",
      " [ 67  15]]\n"
     ]
    }
   ],
   "source": [
    "print(confusion_matrix(y_test, y_pred))"
   ]
  },
  {
   "cell_type": "code",
   "execution_count": 124,
   "id": "2905c18d",
   "metadata": {},
   "outputs": [
    {
     "name": "stdout",
     "output_type": "stream",
     "text": [
      "              precision    recall  f1-score   support\n",
      "\n",
      "           0       0.92      0.99      0.95       729\n",
      "           1       0.71      0.18      0.29        82\n",
      "\n",
      "    accuracy                           0.91       811\n",
      "   macro avg       0.81      0.59      0.62       811\n",
      "weighted avg       0.89      0.91      0.89       811\n",
      "\n"
     ]
    }
   ],
   "source": [
    "print(classification_report(y_test, y_pred))"
   ]
  },
  {
   "cell_type": "code",
   "execution_count": 125,
   "id": "f7fb99a3",
   "metadata": {},
   "outputs": [],
   "source": [
    "pred_dict = {\n",
    "    'model': [],\n",
    "    'accuracy': [],\n",
    "    'true_positive_rate': [],\n",
    "    'false_positive_rate': [],\n",
    "    'true_negative_rate': [],\n",
    "    'false_negative_rate': [],\n",
    "    'precision': [],\n",
    "    'recall': [],\n",
    "    'f1_score': [],\n",
    "    'support_0': [],\n",
    "    'support_1': []\n",
    "}\n",
    "\n",
    "for n in [5, 10, 20]:\n",
    "    knn = KNeighborsClassifier(n_neighbors=n)\n",
    "    \n",
    "    knn.fit(X_test_scaled, y_test)\n",
    "    \n",
    "    y_preds = knn.predict(X_test_scaled)\n",
    "    \n",
    "    TN, FP, FN, TP = confusion_matrix(y_test, y_preds).ravel()\n",
    "    ALL = TP + TN + FP + FN\n",
    "    \n",
    "    accuracy = (TP + TN)/ALL\n",
    "    true_positive_rate = TP/(TP+FN)\n",
    "    false_positive_rate = FP/(FP+TN)\n",
    "    true_negative_rate = TN/(TN+FP)\n",
    "    false_negative_rate = FN/(FN+TP)\n",
    "    precision = TP/(TP+FP)\n",
    "    recall = TP/(TP+FN)\n",
    "    f1_score = 2*(precision*recall)/(precision+recall)\n",
    "    support_pos = TP + FN\n",
    "    support_neg = FP + TN\n",
    "    \n",
    "    pred_dict['model'].append(f'knn_n_{n}')\n",
    "    pred_dict['accuracy'].append(accuracy)\n",
    "    pred_dict['true_positive_rate'].append(true_positive_rate)\n",
    "    pred_dict['false_positive_rate'].append(false_positive_rate)\n",
    "    pred_dict['true_negative_rate'].append(true_negative_rate)\n",
    "    pred_dict['false_negative_rate'].append(false_negative_rate)\n",
    "    pred_dict['precision'].append(precision)\n",
    "    pred_dict['recall'].append(recall)\n",
    "    pred_dict['f1_score'].append(f1_score)\n",
    "    pred_dict['support_0'].append(support_pos)\n",
    "    pred_dict['support_1'].append(support_neg)"
   ]
  },
  {
   "cell_type": "code",
   "execution_count": 126,
   "id": "15e11944",
   "metadata": {},
   "outputs": [
    {
     "data": {
      "text/html": [
       "<div>\n",
       "<style scoped>\n",
       "    .dataframe tbody tr th:only-of-type {\n",
       "        vertical-align: middle;\n",
       "    }\n",
       "\n",
       "    .dataframe tbody tr th {\n",
       "        vertical-align: top;\n",
       "    }\n",
       "\n",
       "    .dataframe thead th {\n",
       "        text-align: right;\n",
       "    }\n",
       "</style>\n",
       "<table border=\"1\" class=\"dataframe\">\n",
       "  <thead>\n",
       "    <tr style=\"text-align: right;\">\n",
       "      <th></th>\n",
       "      <th>model</th>\n",
       "      <th>accuracy</th>\n",
       "      <th>true_positive_rate</th>\n",
       "      <th>false_positive_rate</th>\n",
       "      <th>true_negative_rate</th>\n",
       "      <th>false_negative_rate</th>\n",
       "      <th>precision</th>\n",
       "      <th>recall</th>\n",
       "      <th>f1_score</th>\n",
       "      <th>support_0</th>\n",
       "      <th>support_1</th>\n",
       "    </tr>\n",
       "  </thead>\n",
       "  <tbody>\n",
       "    <tr>\n",
       "      <th>0</th>\n",
       "      <td>knn_n_5</td>\n",
       "      <td>0.909988</td>\n",
       "      <td>0.182927</td>\n",
       "      <td>0.00823</td>\n",
       "      <td>0.99177</td>\n",
       "      <td>0.817073</td>\n",
       "      <td>0.714286</td>\n",
       "      <td>0.182927</td>\n",
       "      <td>0.291262</td>\n",
       "      <td>82</td>\n",
       "      <td>729</td>\n",
       "    </tr>\n",
       "    <tr>\n",
       "      <th>1</th>\n",
       "      <td>knn_n_10</td>\n",
       "      <td>0.901356</td>\n",
       "      <td>0.024390</td>\n",
       "      <td>0.00000</td>\n",
       "      <td>1.00000</td>\n",
       "      <td>0.975610</td>\n",
       "      <td>1.000000</td>\n",
       "      <td>0.024390</td>\n",
       "      <td>0.047619</td>\n",
       "      <td>82</td>\n",
       "      <td>729</td>\n",
       "    </tr>\n",
       "    <tr>\n",
       "      <th>2</th>\n",
       "      <td>knn_n_20</td>\n",
       "      <td>0.898890</td>\n",
       "      <td>0.000000</td>\n",
       "      <td>0.00000</td>\n",
       "      <td>1.00000</td>\n",
       "      <td>1.000000</td>\n",
       "      <td>NaN</td>\n",
       "      <td>0.000000</td>\n",
       "      <td>NaN</td>\n",
       "      <td>82</td>\n",
       "      <td>729</td>\n",
       "    </tr>\n",
       "  </tbody>\n",
       "</table>\n",
       "</div>"
      ],
      "text/plain": [
       "      model  accuracy  true_positive_rate  false_positive_rate  \\\n",
       "0   knn_n_5  0.909988            0.182927              0.00823   \n",
       "1  knn_n_10  0.901356            0.024390              0.00000   \n",
       "2  knn_n_20  0.898890            0.000000              0.00000   \n",
       "\n",
       "   true_negative_rate  false_negative_rate  precision    recall  f1_score  \\\n",
       "0             0.99177             0.817073   0.714286  0.182927  0.291262   \n",
       "1             1.00000             0.975610   1.000000  0.024390  0.047619   \n",
       "2             1.00000             1.000000        NaN  0.000000       NaN   \n",
       "\n",
       "   support_0  support_1  \n",
       "0         82        729  \n",
       "1         82        729  \n",
       "2         82        729  "
      ]
     },
     "execution_count": 126,
     "metadata": {},
     "output_type": "execute_result"
    }
   ],
   "source": [
    "pd.DataFrame(pred_dict)"
   ]
  },
  {
   "cell_type": "code",
   "execution_count": 127,
   "id": "5b99fb79",
   "metadata": {},
   "outputs": [
    {
     "data": {
      "text/html": [
       "<div>\n",
       "<style scoped>\n",
       "    .dataframe tbody tr th:only-of-type {\n",
       "        vertical-align: middle;\n",
       "    }\n",
       "\n",
       "    .dataframe tbody tr th {\n",
       "        vertical-align: top;\n",
       "    }\n",
       "\n",
       "    .dataframe thead th {\n",
       "        text-align: right;\n",
       "    }\n",
       "</style>\n",
       "<table border=\"1\" class=\"dataframe\">\n",
       "  <thead>\n",
       "    <tr style=\"text-align: right;\">\n",
       "      <th></th>\n",
       "      <th>0</th>\n",
       "      <th>1</th>\n",
       "      <th>2</th>\n",
       "    </tr>\n",
       "  </thead>\n",
       "  <tbody>\n",
       "    <tr>\n",
       "      <th>model</th>\n",
       "      <td>knn_n_5</td>\n",
       "      <td>knn_n_10</td>\n",
       "      <td>knn_n_20</td>\n",
       "    </tr>\n",
       "    <tr>\n",
       "      <th>accuracy</th>\n",
       "      <td>0.909988</td>\n",
       "      <td>0.901356</td>\n",
       "      <td>0.89889</td>\n",
       "    </tr>\n",
       "    <tr>\n",
       "      <th>true_positive_rate</th>\n",
       "      <td>0.182927</td>\n",
       "      <td>0.02439</td>\n",
       "      <td>0.0</td>\n",
       "    </tr>\n",
       "    <tr>\n",
       "      <th>false_positive_rate</th>\n",
       "      <td>0.00823</td>\n",
       "      <td>0.0</td>\n",
       "      <td>0.0</td>\n",
       "    </tr>\n",
       "    <tr>\n",
       "      <th>true_negative_rate</th>\n",
       "      <td>0.99177</td>\n",
       "      <td>1.0</td>\n",
       "      <td>1.0</td>\n",
       "    </tr>\n",
       "    <tr>\n",
       "      <th>false_negative_rate</th>\n",
       "      <td>0.817073</td>\n",
       "      <td>0.97561</td>\n",
       "      <td>1.0</td>\n",
       "    </tr>\n",
       "    <tr>\n",
       "      <th>precision</th>\n",
       "      <td>0.714286</td>\n",
       "      <td>1.0</td>\n",
       "      <td>NaN</td>\n",
       "    </tr>\n",
       "    <tr>\n",
       "      <th>recall</th>\n",
       "      <td>0.182927</td>\n",
       "      <td>0.02439</td>\n",
       "      <td>0.0</td>\n",
       "    </tr>\n",
       "    <tr>\n",
       "      <th>f1_score</th>\n",
       "      <td>0.291262</td>\n",
       "      <td>0.047619</td>\n",
       "      <td>NaN</td>\n",
       "    </tr>\n",
       "    <tr>\n",
       "      <th>support_0</th>\n",
       "      <td>82</td>\n",
       "      <td>82</td>\n",
       "      <td>82</td>\n",
       "    </tr>\n",
       "    <tr>\n",
       "      <th>support_1</th>\n",
       "      <td>729</td>\n",
       "      <td>729</td>\n",
       "      <td>729</td>\n",
       "    </tr>\n",
       "  </tbody>\n",
       "</table>\n",
       "</div>"
      ],
      "text/plain": [
       "                            0         1         2\n",
       "model                 knn_n_5  knn_n_10  knn_n_20\n",
       "accuracy             0.909988  0.901356   0.89889\n",
       "true_positive_rate   0.182927   0.02439       0.0\n",
       "false_positive_rate   0.00823       0.0       0.0\n",
       "true_negative_rate    0.99177       1.0       1.0\n",
       "false_negative_rate  0.817073   0.97561       1.0\n",
       "precision            0.714286       1.0       NaN\n",
       "recall               0.182927   0.02439       0.0\n",
       "f1_score             0.291262  0.047619       NaN\n",
       "support_0                  82        82        82\n",
       "support_1                 729       729       729"
      ]
     },
     "execution_count": 127,
     "metadata": {},
     "output_type": "execute_result"
    }
   ],
   "source": [
    "pd.DataFrame(pred_dict).T"
   ]
  },
  {
   "cell_type": "code",
   "execution_count": 128,
   "id": "e77dff36",
   "metadata": {},
   "outputs": [
    {
     "data": {
      "text/html": [
       "<div>\n",
       "<style scoped>\n",
       "    .dataframe tbody tr th:only-of-type {\n",
       "        vertical-align: middle;\n",
       "    }\n",
       "\n",
       "    .dataframe tbody tr th {\n",
       "        vertical-align: top;\n",
       "    }\n",
       "\n",
       "    .dataframe thead th {\n",
       "        text-align: right;\n",
       "    }\n",
       "</style>\n",
       "<table border=\"1\" class=\"dataframe\">\n",
       "  <thead>\n",
       "    <tr style=\"text-align: right;\">\n",
       "      <th>model</th>\n",
       "      <th>knn_n_5</th>\n",
       "      <th>knn_n_10</th>\n",
       "      <th>knn_n_20</th>\n",
       "    </tr>\n",
       "  </thead>\n",
       "  <tbody>\n",
       "    <tr>\n",
       "      <th>accuracy</th>\n",
       "      <td>0.909988</td>\n",
       "      <td>0.901356</td>\n",
       "      <td>0.89889</td>\n",
       "    </tr>\n",
       "    <tr>\n",
       "      <th>true_positive_rate</th>\n",
       "      <td>0.182927</td>\n",
       "      <td>0.02439</td>\n",
       "      <td>0.0</td>\n",
       "    </tr>\n",
       "    <tr>\n",
       "      <th>false_positive_rate</th>\n",
       "      <td>0.00823</td>\n",
       "      <td>0.0</td>\n",
       "      <td>0.0</td>\n",
       "    </tr>\n",
       "    <tr>\n",
       "      <th>true_negative_rate</th>\n",
       "      <td>0.99177</td>\n",
       "      <td>1.0</td>\n",
       "      <td>1.0</td>\n",
       "    </tr>\n",
       "    <tr>\n",
       "      <th>false_negative_rate</th>\n",
       "      <td>0.817073</td>\n",
       "      <td>0.97561</td>\n",
       "      <td>1.0</td>\n",
       "    </tr>\n",
       "    <tr>\n",
       "      <th>precision</th>\n",
       "      <td>0.714286</td>\n",
       "      <td>1.0</td>\n",
       "      <td>NaN</td>\n",
       "    </tr>\n",
       "    <tr>\n",
       "      <th>recall</th>\n",
       "      <td>0.182927</td>\n",
       "      <td>0.02439</td>\n",
       "      <td>0.0</td>\n",
       "    </tr>\n",
       "    <tr>\n",
       "      <th>f1_score</th>\n",
       "      <td>0.291262</td>\n",
       "      <td>0.047619</td>\n",
       "      <td>NaN</td>\n",
       "    </tr>\n",
       "    <tr>\n",
       "      <th>support_0</th>\n",
       "      <td>82</td>\n",
       "      <td>82</td>\n",
       "      <td>82</td>\n",
       "    </tr>\n",
       "    <tr>\n",
       "      <th>support_1</th>\n",
       "      <td>729</td>\n",
       "      <td>729</td>\n",
       "      <td>729</td>\n",
       "    </tr>\n",
       "  </tbody>\n",
       "</table>\n",
       "</div>"
      ],
      "text/plain": [
       "model                 knn_n_5  knn_n_10 knn_n_20\n",
       "accuracy             0.909988  0.901356  0.89889\n",
       "true_positive_rate   0.182927   0.02439      0.0\n",
       "false_positive_rate   0.00823       0.0      0.0\n",
       "true_negative_rate    0.99177       1.0      1.0\n",
       "false_negative_rate  0.817073   0.97561      1.0\n",
       "precision            0.714286       1.0      NaN\n",
       "recall               0.182927   0.02439      0.0\n",
       "f1_score             0.291262  0.047619      NaN\n",
       "support_0                  82        82       82\n",
       "support_1                 729       729      729"
      ]
     },
     "execution_count": 128,
     "metadata": {},
     "output_type": "execute_result"
    }
   ],
   "source": [
    "test_scaled_pred_df = pd.DataFrame(pred_dict).T\n",
    "test_scaled_pred_df.columns = test_scaled_pred_df.iloc[0]\n",
    "test_scaled_pred_df = test_scaled_pred_df.drop(test_scaled_pred_df.index[0])\n",
    "test_scaled_pred_df"
   ]
  },
  {
   "cell_type": "markdown",
   "id": "4bd9e58c",
   "metadata": {},
   "source": [
    "## Conclusion"
   ]
  },
  {
   "cell_type": "markdown",
   "id": "851a550e",
   "metadata": {},
   "source": [
    "After modeling with 4 models, I have concluded that even though I had a \"best\" it didn't predict charter school status any better than baseline.  Looking at the data, some school districts have more discipline incidents than they do students enrolled, which really makes me wonder what the drivers are behind such a dramatic number."
   ]
  },
  {
   "cell_type": "markdown",
   "id": "bf90d99b",
   "metadata": {},
   "source": [
    "## Next Steps"
   ]
  },
  {
   "cell_type": "markdown",
   "id": "5b005727",
   "metadata": {},
   "source": [
    "I will use this data for another individual project and I would use more of the discipline data types and not just the whole number.  I will be able to break down the discipline by socio-economic staus, race, ethnicity, special. ed. services receiver, location, and by offense."
   ]
  },
  {
   "cell_type": "markdown",
   "id": "330f372e",
   "metadata": {},
   "source": [
    "## Recommendations"
   ]
  },
  {
   "cell_type": "markdown",
   "id": "65ca158f",
   "metadata": {},
   "source": [
    "Revisit this data over the holidays and feature engineer more variables, and look into other discipline reports that break it down by school.  I think this will better help in future modeling."
   ]
  }
 ],
 "metadata": {
  "kernelspec": {
   "display_name": "Python 3 (ipykernel)",
   "language": "python",
   "name": "python3"
  },
  "language_info": {
   "codemirror_mode": {
    "name": "ipython",
    "version": 3
   },
   "file_extension": ".py",
   "mimetype": "text/x-python",
   "name": "python",
   "nbconvert_exporter": "python",
   "pygments_lexer": "ipython3",
   "version": "3.9.12"
  }
 },
 "nbformat": 4,
 "nbformat_minor": 5
}
