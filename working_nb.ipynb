{
 "cells": [
  {
   "cell_type": "code",
   "execution_count": 1,
   "id": "f8c962cb",
   "metadata": {},
   "outputs": [],
   "source": [
    "%matplotlib inline\n",
    "from env import user, password, host\n",
    "from math import sqrt \n",
    "from matplotlib.colors import ListedColormap\n",
    "from scipy import stats\n",
    "from scipy.stats import spearmanr, pearsonr\n",
    "from sklearn import neighbors, datasets\n",
    "from sklearn.ensemble import RandomForestClassifier\n",
    "from sklearn.feature_selection import SelectKBest, RFE, f_regression, SequentialFeatureSelector\n",
    "from sklearn.impute import SimpleImputer\n",
    "from sklearn.linear_model import LinearRegression, LassoLars, TweedieRegressor\n",
    "from sklearn.metrics import classification_report, confusion_matrix, ConfusionMatrixDisplay\n",
    "from sklearn.metrics import mean_squared_error, r2_score, explained_variance_score \n",
    "from sklearn.model_selection import train_test_split\n",
    "from sklearn.neighbors import KNeighborsClassifier\n",
    "from sklearn.preprocessing import MinMaxScaler, StandardScaler, RobustScaler, QuantileTransformer, PolynomialFeatures\n",
    "import math\n",
    "import matplotlib.pyplot as plt\n",
    "import numpy as np\n",
    "import os\n",
    "import pandas as pd\n",
    "import requests\n",
    "import seaborn as sns\n",
    "import statsmodels.api as sm\n",
    "import warnings\n",
    "\n",
    "\n",
    "plt.rc('figure', figsize=(13, 7))\n",
    "plt.rc('font', size=16)\n",
    "plt.style.use('seaborn-whitegrid')\n",
    "warnings.filterwarnings(\"ignore\")"
   ]
  },
  {
   "cell_type": "code",
   "execution_count": 2,
   "id": "51ca56fd",
   "metadata": {},
   "outputs": [],
   "source": [
    "df = pd.read_csv('DISTRICT_summary_22.csv')"
   ]
  },
  {
   "cell_type": "code",
   "execution_count": 3,
   "id": "3d8bbab9",
   "metadata": {},
   "outputs": [
    {
     "data": {
      "text/html": [
       "<div>\n",
       "<style scoped>\n",
       "    .dataframe tbody tr th:only-of-type {\n",
       "        vertical-align: middle;\n",
       "    }\n",
       "\n",
       "    .dataframe tbody tr th {\n",
       "        vertical-align: top;\n",
       "    }\n",
       "\n",
       "    .dataframe thead th {\n",
       "        text-align: right;\n",
       "    }\n",
       "</style>\n",
       "<table border=\"1\" class=\"dataframe\">\n",
       "  <thead>\n",
       "    <tr style=\"text-align: right;\">\n",
       "      <th></th>\n",
       "      <th>AGGREGATION LEVEL</th>\n",
       "      <th>REGION</th>\n",
       "      <th>DISTNAME</th>\n",
       "      <th>DISTRICT</th>\n",
       "      <th>CHARTER_STATUS</th>\n",
       "      <th>SECTION</th>\n",
       "      <th>HEADING</th>\n",
       "      <th>HEADING NAME</th>\n",
       "      <th>YR22</th>\n",
       "    </tr>\n",
       "  </thead>\n",
       "  <tbody>\n",
       "    <tr>\n",
       "      <th>0</th>\n",
       "      <td>DISTRICT SUMMARY</td>\n",
       "      <td>10.0</td>\n",
       "      <td>A W BROWN LEADERSHIP ACADEMY</td>\n",
       "      <td>57816.0</td>\n",
       "      <td>OPEN ENROLLMENT CHARTER</td>\n",
       "      <td>A-PARTICIPATION</td>\n",
       "      <td>A01</td>\n",
       "      <td>DISTRICT CUMULATIVE YEAR END ENROLLMENT</td>\n",
       "      <td>1177.0</td>\n",
       "    </tr>\n",
       "    <tr>\n",
       "      <th>1</th>\n",
       "      <td>DISTRICT SUMMARY</td>\n",
       "      <td>10.0</td>\n",
       "      <td>A W BROWN LEADERSHIP ACADEMY</td>\n",
       "      <td>57816.0</td>\n",
       "      <td>OPEN ENROLLMENT CHARTER</td>\n",
       "      <td>A-PARTICIPATION</td>\n",
       "      <td>A02</td>\n",
       "      <td>DISTRICT DISCIPLINE POPULATION</td>\n",
       "      <td>156.0</td>\n",
       "    </tr>\n",
       "    <tr>\n",
       "      <th>2</th>\n",
       "      <td>DISTRICT SUMMARY</td>\n",
       "      <td>10.0</td>\n",
       "      <td>A W BROWN LEADERSHIP ACADEMY</td>\n",
       "      <td>57816.0</td>\n",
       "      <td>OPEN ENROLLMENT CHARTER</td>\n",
       "      <td>A-PARTICIPATION</td>\n",
       "      <td>A03</td>\n",
       "      <td>DISTRICT DISCIPLINE RECORD COUNT</td>\n",
       "      <td>248.0</td>\n",
       "    </tr>\n",
       "    <tr>\n",
       "      <th>3</th>\n",
       "      <td>DISTRICT SUMMARY</td>\n",
       "      <td>10.0</td>\n",
       "      <td>A W BROWN LEADERSHIP ACADEMY</td>\n",
       "      <td>57816.0</td>\n",
       "      <td>OPEN ENROLLMENT CHARTER</td>\n",
       "      <td>B-DISCIPLINE DATA TRENDS</td>\n",
       "      <td>B10</td>\n",
       "      <td>COUNT OF STUDENTS SUSPENDED IN SCHOOL</td>\n",
       "      <td>45.0</td>\n",
       "    </tr>\n",
       "    <tr>\n",
       "      <th>4</th>\n",
       "      <td>DISTRICT SUMMARY</td>\n",
       "      <td>10.0</td>\n",
       "      <td>A W BROWN LEADERSHIP ACADEMY</td>\n",
       "      <td>57816.0</td>\n",
       "      <td>OPEN ENROLLMENT CHARTER</td>\n",
       "      <td>B-DISCIPLINE DATA TRENDS</td>\n",
       "      <td>B13</td>\n",
       "      <td>STUDENTS SUSPENDED OUT OF SCHOOL</td>\n",
       "      <td>132.0</td>\n",
       "    </tr>\n",
       "  </tbody>\n",
       "</table>\n",
       "</div>"
      ],
      "text/plain": [
       "  AGGREGATION LEVEL  REGION                      DISTNAME  DISTRICT  \\\n",
       "0  DISTRICT SUMMARY    10.0  A W BROWN LEADERSHIP ACADEMY   57816.0   \n",
       "1  DISTRICT SUMMARY    10.0  A W BROWN LEADERSHIP ACADEMY   57816.0   \n",
       "2  DISTRICT SUMMARY    10.0  A W BROWN LEADERSHIP ACADEMY   57816.0   \n",
       "3  DISTRICT SUMMARY    10.0  A W BROWN LEADERSHIP ACADEMY   57816.0   \n",
       "4  DISTRICT SUMMARY    10.0  A W BROWN LEADERSHIP ACADEMY   57816.0   \n",
       "\n",
       "            CHARTER_STATUS                   SECTION HEADING  \\\n",
       "0  OPEN ENROLLMENT CHARTER           A-PARTICIPATION     A01   \n",
       "1  OPEN ENROLLMENT CHARTER           A-PARTICIPATION     A02   \n",
       "2  OPEN ENROLLMENT CHARTER           A-PARTICIPATION     A03   \n",
       "3  OPEN ENROLLMENT CHARTER  B-DISCIPLINE DATA TRENDS     B10   \n",
       "4  OPEN ENROLLMENT CHARTER  B-DISCIPLINE DATA TRENDS     B13   \n",
       "\n",
       "                              HEADING NAME    YR22  \n",
       "0  DISTRICT CUMULATIVE YEAR END ENROLLMENT  1177.0  \n",
       "1           DISTRICT DISCIPLINE POPULATION   156.0  \n",
       "2         DISTRICT DISCIPLINE RECORD COUNT   248.0  \n",
       "3    COUNT OF STUDENTS SUSPENDED IN SCHOOL    45.0  \n",
       "4         STUDENTS SUSPENDED OUT OF SCHOOL   132.0  "
      ]
     },
     "execution_count": 3,
     "metadata": {},
     "output_type": "execute_result"
    }
   ],
   "source": [
    "df.head()"
   ]
  },
  {
   "cell_type": "code",
   "execution_count": 4,
   "id": "d2680298",
   "metadata": {},
   "outputs": [
    {
     "data": {
      "text/html": [
       "<div>\n",
       "<style scoped>\n",
       "    .dataframe tbody tr th:only-of-type {\n",
       "        vertical-align: middle;\n",
       "    }\n",
       "\n",
       "    .dataframe tbody tr th {\n",
       "        vertical-align: top;\n",
       "    }\n",
       "\n",
       "    .dataframe thead th {\n",
       "        text-align: right;\n",
       "    }\n",
       "</style>\n",
       "<table border=\"1\" class=\"dataframe\">\n",
       "  <thead>\n",
       "    <tr style=\"text-align: right;\">\n",
       "      <th></th>\n",
       "      <th>AGGREGATION LEVEL</th>\n",
       "      <th>REGION</th>\n",
       "      <th>DISTNAME</th>\n",
       "      <th>DISTRICT</th>\n",
       "      <th>CHARTER_STATUS</th>\n",
       "      <th>SECTION</th>\n",
       "      <th>HEADING</th>\n",
       "      <th>HEADING NAME</th>\n",
       "      <th>YR22</th>\n",
       "    </tr>\n",
       "  </thead>\n",
       "  <tbody>\n",
       "    <tr>\n",
       "      <th>66486</th>\n",
       "      <td>DISTRICT SUMMARY</td>\n",
       "      <td>15.0</td>\n",
       "      <td>ZEPHYR ISD</td>\n",
       "      <td>25906.0</td>\n",
       "      <td>TRADITIONAL ISD/CSD</td>\n",
       "      <td>W-REASON INCIDENT COUNTS</td>\n",
       "      <td>G61</td>\n",
       "      <td>61-BULLYING \u001a TEC 37.0052(B)</td>\n",
       "      <td>-999.0</td>\n",
       "    </tr>\n",
       "    <tr>\n",
       "      <th>66487</th>\n",
       "      <td>DISTRICT SUMMARY</td>\n",
       "      <td>15.0</td>\n",
       "      <td>ZEPHYR ISD</td>\n",
       "      <td>25906.0</td>\n",
       "      <td>TRADITIONAL ISD/CSD</td>\n",
       "      <td>X-DISCIPLINE ACTION COUNTS</td>\n",
       "      <td>H05</td>\n",
       "      <td>05-OUT-OF-SCHOOL SUSPENSION</td>\n",
       "      <td>-999.0</td>\n",
       "    </tr>\n",
       "    <tr>\n",
       "      <th>66488</th>\n",
       "      <td>DISTRICT SUMMARY</td>\n",
       "      <td>15.0</td>\n",
       "      <td>ZEPHYR ISD</td>\n",
       "      <td>25906.0</td>\n",
       "      <td>TRADITIONAL ISD/CSD</td>\n",
       "      <td>X-DISCIPLINE ACTION COUNTS</td>\n",
       "      <td>H06</td>\n",
       "      <td>06-IN-SCHOOL SUSPENSION</td>\n",
       "      <td>-999.0</td>\n",
       "    </tr>\n",
       "    <tr>\n",
       "      <th>66489</th>\n",
       "      <td>-999 indicates counts or percentages are not a...</td>\n",
       "      <td>NaN</td>\n",
       "      <td>NaN</td>\n",
       "      <td>NaN</td>\n",
       "      <td>NaN</td>\n",
       "      <td>NaN</td>\n",
       "      <td>NaN</td>\n",
       "      <td>NaN</td>\n",
       "      <td>NaN</td>\n",
       "    </tr>\n",
       "    <tr>\n",
       "      <th>66490</th>\n",
       "      <td>Masked numbers are typically small although la...</td>\n",
       "      <td>NaN</td>\n",
       "      <td>NaN</td>\n",
       "      <td>NaN</td>\n",
       "      <td>NaN</td>\n",
       "      <td>NaN</td>\n",
       "      <td>NaN</td>\n",
       "      <td>NaN</td>\n",
       "      <td>NaN</td>\n",
       "    </tr>\n",
       "  </tbody>\n",
       "</table>\n",
       "</div>"
      ],
      "text/plain": [
       "                                       AGGREGATION LEVEL  REGION    DISTNAME  \\\n",
       "66486                                   DISTRICT SUMMARY    15.0  ZEPHYR ISD   \n",
       "66487                                   DISTRICT SUMMARY    15.0  ZEPHYR ISD   \n",
       "66488                                   DISTRICT SUMMARY    15.0  ZEPHYR ISD   \n",
       "66489  -999 indicates counts or percentages are not a...     NaN         NaN   \n",
       "66490  Masked numbers are typically small although la...     NaN         NaN   \n",
       "\n",
       "       DISTRICT       CHARTER_STATUS                     SECTION HEADING  \\\n",
       "66486   25906.0  TRADITIONAL ISD/CSD    W-REASON INCIDENT COUNTS     G61   \n",
       "66487   25906.0  TRADITIONAL ISD/CSD  X-DISCIPLINE ACTION COUNTS     H05   \n",
       "66488   25906.0  TRADITIONAL ISD/CSD  X-DISCIPLINE ACTION COUNTS     H06   \n",
       "66489       NaN                  NaN                         NaN     NaN   \n",
       "66490       NaN                  NaN                         NaN     NaN   \n",
       "\n",
       "                       HEADING NAME   YR22  \n",
       "66486  61-BULLYING \u001a TEC 37.0052(B) -999.0  \n",
       "66487   05-OUT-OF-SCHOOL SUSPENSION -999.0  \n",
       "66488       06-IN-SCHOOL SUSPENSION -999.0  \n",
       "66489                           NaN    NaN  \n",
       "66490                           NaN    NaN  "
      ]
     },
     "execution_count": 4,
     "metadata": {},
     "output_type": "execute_result"
    }
   ],
   "source": [
    "df.tail()"
   ]
  },
  {
   "cell_type": "code",
   "execution_count": 5,
   "id": "39df01ab",
   "metadata": {},
   "outputs": [],
   "source": [
    "df = df.rename(columns={'AGGREGATION LEVEL':'agg_level', 'REGION':'region', 'DISTNAME':'dist_name', 'DISTRICT':'district_num', 'CHARTER_STATUS':'charter_status', 'SECTION':'section', 'HEADING':'heading', 'HEADING NAME':'heading_name', 'YR22': 'num_of_students'})"
   ]
  },
  {
   "cell_type": "code",
   "execution_count": 6,
   "id": "ec98d87d",
   "metadata": {},
   "outputs": [
    {
     "data": {
      "text/plain": [
       "(66491, 9)"
      ]
     },
     "execution_count": 6,
     "metadata": {},
     "output_type": "execute_result"
    }
   ],
   "source": [
    "df.shape"
   ]
  },
  {
   "cell_type": "code",
   "execution_count": 7,
   "id": "f211678e",
   "metadata": {},
   "outputs": [
    {
     "data": {
      "text/plain": [
       "Index(['agg_level', 'region', 'dist_name', 'district_num', 'charter_status',\n",
       "       'section', 'heading', 'heading_name', 'num_of_students'],\n",
       "      dtype='object')"
      ]
     },
     "execution_count": 7,
     "metadata": {},
     "output_type": "execute_result"
    }
   ],
   "source": [
    "df.columns"
   ]
  },
  {
   "cell_type": "code",
   "execution_count": 8,
   "id": "387d3bcc",
   "metadata": {},
   "outputs": [
    {
     "name": "stdout",
     "output_type": "stream",
     "text": [
      "<class 'pandas.core.frame.DataFrame'>\n",
      "RangeIndex: 66491 entries, 0 to 66490\n",
      "Data columns (total 9 columns):\n",
      " #   Column           Non-Null Count  Dtype  \n",
      "---  ------           --------------  -----  \n",
      " 0   agg_level        66491 non-null  object \n",
      " 1   region           66489 non-null  float64\n",
      " 2   dist_name        66489 non-null  object \n",
      " 3   district_num     66489 non-null  float64\n",
      " 4   charter_status   66489 non-null  object \n",
      " 5   section          66489 non-null  object \n",
      " 6   heading          66489 non-null  object \n",
      " 7   heading_name     66489 non-null  object \n",
      " 8   num_of_students  66489 non-null  float64\n",
      "dtypes: float64(3), object(6)\n",
      "memory usage: 4.6+ MB\n"
     ]
    }
   ],
   "source": [
    "df.info()"
   ]
  },
  {
   "cell_type": "code",
   "execution_count": 9,
   "id": "62d574d9",
   "metadata": {},
   "outputs": [],
   "source": [
    " #return a new dataframe by dropping rows\n",
    "# from dataframe using their\n",
    "# respective index position\n",
    "df = df.drop([df.index[66489], df.index[66490]])"
   ]
  },
  {
   "cell_type": "code",
   "execution_count": 10,
   "id": "18bbbd5b",
   "metadata": {},
   "outputs": [],
   "source": [
    "df['charter_encoded'] = df.charter_status.map({'OPEN ENROLLMENT CHARTER': 1, 'TRADITIONAL ISD/CSD':0})"
   ]
  },
  {
   "cell_type": "code",
   "execution_count": 11,
   "id": "3155d8d5",
   "metadata": {},
   "outputs": [],
   "source": [
    "df=df[(df.heading == 'A01') | (df.heading ==  'A03')]"
   ]
  },
  {
   "cell_type": "code",
   "execution_count": 12,
   "id": "2c97338d",
   "metadata": {},
   "outputs": [],
   "source": [
    "df['heading_encoded'] = df.heading.map({'A01': 1, 'A03':0})"
   ]
  },
  {
   "cell_type": "code",
   "execution_count": 13,
   "id": "2c92c5d6",
   "metadata": {},
   "outputs": [
    {
     "data": {
      "text/html": [
       "<div>\n",
       "<style scoped>\n",
       "    .dataframe tbody tr th:only-of-type {\n",
       "        vertical-align: middle;\n",
       "    }\n",
       "\n",
       "    .dataframe tbody tr th {\n",
       "        vertical-align: top;\n",
       "    }\n",
       "\n",
       "    .dataframe thead th {\n",
       "        text-align: right;\n",
       "    }\n",
       "</style>\n",
       "<table border=\"1\" class=\"dataframe\">\n",
       "  <thead>\n",
       "    <tr style=\"text-align: right;\">\n",
       "      <th></th>\n",
       "      <th>agg_level</th>\n",
       "      <th>region</th>\n",
       "      <th>dist_name</th>\n",
       "      <th>district_num</th>\n",
       "      <th>charter_status</th>\n",
       "      <th>section</th>\n",
       "      <th>heading</th>\n",
       "      <th>heading_name</th>\n",
       "      <th>num_of_students</th>\n",
       "      <th>charter_encoded</th>\n",
       "      <th>heading_encoded</th>\n",
       "    </tr>\n",
       "  </thead>\n",
       "  <tbody>\n",
       "    <tr>\n",
       "      <th>0</th>\n",
       "      <td>DISTRICT SUMMARY</td>\n",
       "      <td>10.0</td>\n",
       "      <td>A W BROWN LEADERSHIP ACADEMY</td>\n",
       "      <td>57816.0</td>\n",
       "      <td>OPEN ENROLLMENT CHARTER</td>\n",
       "      <td>A-PARTICIPATION</td>\n",
       "      <td>A01</td>\n",
       "      <td>DISTRICT CUMULATIVE YEAR END ENROLLMENT</td>\n",
       "      <td>1177.0</td>\n",
       "      <td>1</td>\n",
       "      <td>1</td>\n",
       "    </tr>\n",
       "    <tr>\n",
       "      <th>2</th>\n",
       "      <td>DISTRICT SUMMARY</td>\n",
       "      <td>10.0</td>\n",
       "      <td>A W BROWN LEADERSHIP ACADEMY</td>\n",
       "      <td>57816.0</td>\n",
       "      <td>OPEN ENROLLMENT CHARTER</td>\n",
       "      <td>A-PARTICIPATION</td>\n",
       "      <td>A03</td>\n",
       "      <td>DISTRICT DISCIPLINE RECORD COUNT</td>\n",
       "      <td>248.0</td>\n",
       "      <td>1</td>\n",
       "      <td>0</td>\n",
       "    </tr>\n",
       "    <tr>\n",
       "      <th>33</th>\n",
       "      <td>DISTRICT SUMMARY</td>\n",
       "      <td>10.0</td>\n",
       "      <td>A+ ACADEMY</td>\n",
       "      <td>57829.0</td>\n",
       "      <td>OPEN ENROLLMENT CHARTER</td>\n",
       "      <td>A-PARTICIPATION</td>\n",
       "      <td>A01</td>\n",
       "      <td>DISTRICT CUMULATIVE YEAR END ENROLLMENT</td>\n",
       "      <td>1620.0</td>\n",
       "      <td>1</td>\n",
       "      <td>1</td>\n",
       "    </tr>\n",
       "    <tr>\n",
       "      <th>35</th>\n",
       "      <td>DISTRICT SUMMARY</td>\n",
       "      <td>10.0</td>\n",
       "      <td>A+ ACADEMY</td>\n",
       "      <td>57829.0</td>\n",
       "      <td>OPEN ENROLLMENT CHARTER</td>\n",
       "      <td>A-PARTICIPATION</td>\n",
       "      <td>A03</td>\n",
       "      <td>DISTRICT DISCIPLINE RECORD COUNT</td>\n",
       "      <td>428.0</td>\n",
       "      <td>1</td>\n",
       "      <td>0</td>\n",
       "    </tr>\n",
       "    <tr>\n",
       "      <th>92</th>\n",
       "      <td>DISTRICT SUMMARY</td>\n",
       "      <td>4.0</td>\n",
       "      <td>A+ UNLIMITED POTENTIAL</td>\n",
       "      <td>101871.0</td>\n",
       "      <td>OPEN ENROLLMENT CHARTER</td>\n",
       "      <td>A-PARTICIPATION</td>\n",
       "      <td>A01</td>\n",
       "      <td>DISTRICT CUMULATIVE YEAR END ENROLLMENT</td>\n",
       "      <td>171.0</td>\n",
       "      <td>1</td>\n",
       "      <td>1</td>\n",
       "    </tr>\n",
       "    <tr>\n",
       "      <th>...</th>\n",
       "      <td>...</td>\n",
       "      <td>...</td>\n",
       "      <td>...</td>\n",
       "      <td>...</td>\n",
       "      <td>...</td>\n",
       "      <td>...</td>\n",
       "      <td>...</td>\n",
       "      <td>...</td>\n",
       "      <td>...</td>\n",
       "      <td>...</td>\n",
       "      <td>...</td>\n",
       "    </tr>\n",
       "    <tr>\n",
       "      <th>66359</th>\n",
       "      <td>DISTRICT SUMMARY</td>\n",
       "      <td>1.0</td>\n",
       "      <td>ZAPATA COUNTY ISD</td>\n",
       "      <td>253901.0</td>\n",
       "      <td>TRADITIONAL ISD/CSD</td>\n",
       "      <td>A-PARTICIPATION</td>\n",
       "      <td>A03</td>\n",
       "      <td>DISTRICT DISCIPLINE RECORD COUNT</td>\n",
       "      <td>550.0</td>\n",
       "      <td>0</td>\n",
       "      <td>0</td>\n",
       "    </tr>\n",
       "    <tr>\n",
       "      <th>66425</th>\n",
       "      <td>DISTRICT SUMMARY</td>\n",
       "      <td>7.0</td>\n",
       "      <td>ZAVALLA ISD</td>\n",
       "      <td>3906.0</td>\n",
       "      <td>TRADITIONAL ISD/CSD</td>\n",
       "      <td>A-PARTICIPATION</td>\n",
       "      <td>A01</td>\n",
       "      <td>DISTRICT CUMULATIVE YEAR END ENROLLMENT</td>\n",
       "      <td>338.0</td>\n",
       "      <td>0</td>\n",
       "      <td>1</td>\n",
       "    </tr>\n",
       "    <tr>\n",
       "      <th>66427</th>\n",
       "      <td>DISTRICT SUMMARY</td>\n",
       "      <td>7.0</td>\n",
       "      <td>ZAVALLA ISD</td>\n",
       "      <td>3906.0</td>\n",
       "      <td>TRADITIONAL ISD/CSD</td>\n",
       "      <td>A-PARTICIPATION</td>\n",
       "      <td>A03</td>\n",
       "      <td>DISTRICT DISCIPLINE RECORD COUNT</td>\n",
       "      <td>74.0</td>\n",
       "      <td>0</td>\n",
       "      <td>0</td>\n",
       "    </tr>\n",
       "    <tr>\n",
       "      <th>66461</th>\n",
       "      <td>DISTRICT SUMMARY</td>\n",
       "      <td>15.0</td>\n",
       "      <td>ZEPHYR ISD</td>\n",
       "      <td>25906.0</td>\n",
       "      <td>TRADITIONAL ISD/CSD</td>\n",
       "      <td>A-PARTICIPATION</td>\n",
       "      <td>A01</td>\n",
       "      <td>DISTRICT CUMULATIVE YEAR END ENROLLMENT</td>\n",
       "      <td>224.0</td>\n",
       "      <td>0</td>\n",
       "      <td>1</td>\n",
       "    </tr>\n",
       "    <tr>\n",
       "      <th>66463</th>\n",
       "      <td>DISTRICT SUMMARY</td>\n",
       "      <td>15.0</td>\n",
       "      <td>ZEPHYR ISD</td>\n",
       "      <td>25906.0</td>\n",
       "      <td>TRADITIONAL ISD/CSD</td>\n",
       "      <td>A-PARTICIPATION</td>\n",
       "      <td>A03</td>\n",
       "      <td>DISTRICT DISCIPLINE RECORD COUNT</td>\n",
       "      <td>10.0</td>\n",
       "      <td>0</td>\n",
       "      <td>0</td>\n",
       "    </tr>\n",
       "  </tbody>\n",
       "</table>\n",
       "<p>2239 rows × 11 columns</p>\n",
       "</div>"
      ],
      "text/plain": [
       "              agg_level  region                     dist_name  district_num  \\\n",
       "0      DISTRICT SUMMARY    10.0  A W BROWN LEADERSHIP ACADEMY       57816.0   \n",
       "2      DISTRICT SUMMARY    10.0  A W BROWN LEADERSHIP ACADEMY       57816.0   \n",
       "33     DISTRICT SUMMARY    10.0                    A+ ACADEMY       57829.0   \n",
       "35     DISTRICT SUMMARY    10.0                    A+ ACADEMY       57829.0   \n",
       "92     DISTRICT SUMMARY     4.0        A+ UNLIMITED POTENTIAL      101871.0   \n",
       "...                 ...     ...                           ...           ...   \n",
       "66359  DISTRICT SUMMARY     1.0             ZAPATA COUNTY ISD      253901.0   \n",
       "66425  DISTRICT SUMMARY     7.0                   ZAVALLA ISD        3906.0   \n",
       "66427  DISTRICT SUMMARY     7.0                   ZAVALLA ISD        3906.0   \n",
       "66461  DISTRICT SUMMARY    15.0                    ZEPHYR ISD       25906.0   \n",
       "66463  DISTRICT SUMMARY    15.0                    ZEPHYR ISD       25906.0   \n",
       "\n",
       "                charter_status          section heading  \\\n",
       "0      OPEN ENROLLMENT CHARTER  A-PARTICIPATION     A01   \n",
       "2      OPEN ENROLLMENT CHARTER  A-PARTICIPATION     A03   \n",
       "33     OPEN ENROLLMENT CHARTER  A-PARTICIPATION     A01   \n",
       "35     OPEN ENROLLMENT CHARTER  A-PARTICIPATION     A03   \n",
       "92     OPEN ENROLLMENT CHARTER  A-PARTICIPATION     A01   \n",
       "...                        ...              ...     ...   \n",
       "66359      TRADITIONAL ISD/CSD  A-PARTICIPATION     A03   \n",
       "66425      TRADITIONAL ISD/CSD  A-PARTICIPATION     A01   \n",
       "66427      TRADITIONAL ISD/CSD  A-PARTICIPATION     A03   \n",
       "66461      TRADITIONAL ISD/CSD  A-PARTICIPATION     A01   \n",
       "66463      TRADITIONAL ISD/CSD  A-PARTICIPATION     A03   \n",
       "\n",
       "                                  heading_name  num_of_students  \\\n",
       "0      DISTRICT CUMULATIVE YEAR END ENROLLMENT           1177.0   \n",
       "2             DISTRICT DISCIPLINE RECORD COUNT            248.0   \n",
       "33     DISTRICT CUMULATIVE YEAR END ENROLLMENT           1620.0   \n",
       "35            DISTRICT DISCIPLINE RECORD COUNT            428.0   \n",
       "92     DISTRICT CUMULATIVE YEAR END ENROLLMENT            171.0   \n",
       "...                                        ...              ...   \n",
       "66359         DISTRICT DISCIPLINE RECORD COUNT            550.0   \n",
       "66425  DISTRICT CUMULATIVE YEAR END ENROLLMENT            338.0   \n",
       "66427         DISTRICT DISCIPLINE RECORD COUNT             74.0   \n",
       "66461  DISTRICT CUMULATIVE YEAR END ENROLLMENT            224.0   \n",
       "66463         DISTRICT DISCIPLINE RECORD COUNT             10.0   \n",
       "\n",
       "       charter_encoded  heading_encoded  \n",
       "0                    1                1  \n",
       "2                    1                0  \n",
       "33                   1                1  \n",
       "35                   1                0  \n",
       "92                   1                1  \n",
       "...                ...              ...  \n",
       "66359                0                0  \n",
       "66425                0                1  \n",
       "66427                0                0  \n",
       "66461                0                1  \n",
       "66463                0                0  \n",
       "\n",
       "[2239 rows x 11 columns]"
      ]
     },
     "execution_count": 13,
     "metadata": {},
     "output_type": "execute_result"
    }
   ],
   "source": [
    "df[(df.num_of_students != -999)]"
   ]
  },
  {
   "cell_type": "code",
   "execution_count": 14,
   "id": "0fd1b7db",
   "metadata": {},
   "outputs": [
    {
     "name": "stdout",
     "output_type": "stream",
     "text": [
      "<class 'pandas.core.frame.DataFrame'>\n",
      "Int64Index: 2334 entries, 0 to 66463\n",
      "Data columns (total 11 columns):\n",
      " #   Column           Non-Null Count  Dtype  \n",
      "---  ------           --------------  -----  \n",
      " 0   agg_level        2334 non-null   object \n",
      " 1   region           2334 non-null   float64\n",
      " 2   dist_name        2334 non-null   object \n",
      " 3   district_num     2334 non-null   float64\n",
      " 4   charter_status   2334 non-null   object \n",
      " 5   section          2334 non-null   object \n",
      " 6   heading          2334 non-null   object \n",
      " 7   heading_name     2334 non-null   object \n",
      " 8   num_of_students  2334 non-null   float64\n",
      " 9   charter_encoded  2334 non-null   int64  \n",
      " 10  heading_encoded  2334 non-null   int64  \n",
      "dtypes: float64(3), int64(2), object(6)\n",
      "memory usage: 218.8+ KB\n"
     ]
    }
   ],
   "source": [
    "df.info()"
   ]
  },
  {
   "cell_type": "code",
   "execution_count": 15,
   "id": "41074c34",
   "metadata": {},
   "outputs": [
    {
     "data": {
      "text/html": [
       "<div>\n",
       "<style scoped>\n",
       "    .dataframe tbody tr th:only-of-type {\n",
       "        vertical-align: middle;\n",
       "    }\n",
       "\n",
       "    .dataframe tbody tr th {\n",
       "        vertical-align: top;\n",
       "    }\n",
       "\n",
       "    .dataframe thead th {\n",
       "        text-align: right;\n",
       "    }\n",
       "</style>\n",
       "<table border=\"1\" class=\"dataframe\">\n",
       "  <thead>\n",
       "    <tr style=\"text-align: right;\">\n",
       "      <th></th>\n",
       "      <th>agg_level</th>\n",
       "      <th>region</th>\n",
       "      <th>dist_name</th>\n",
       "      <th>district_num</th>\n",
       "      <th>charter_status</th>\n",
       "      <th>section</th>\n",
       "      <th>heading</th>\n",
       "      <th>heading_name</th>\n",
       "      <th>num_of_students</th>\n",
       "      <th>charter_encoded</th>\n",
       "      <th>heading_encoded</th>\n",
       "    </tr>\n",
       "  </thead>\n",
       "  <tbody>\n",
       "    <tr>\n",
       "      <th>66359</th>\n",
       "      <td>DISTRICT SUMMARY</td>\n",
       "      <td>1.0</td>\n",
       "      <td>ZAPATA COUNTY ISD</td>\n",
       "      <td>253901.0</td>\n",
       "      <td>TRADITIONAL ISD/CSD</td>\n",
       "      <td>A-PARTICIPATION</td>\n",
       "      <td>A03</td>\n",
       "      <td>DISTRICT DISCIPLINE RECORD COUNT</td>\n",
       "      <td>550.0</td>\n",
       "      <td>0</td>\n",
       "      <td>0</td>\n",
       "    </tr>\n",
       "    <tr>\n",
       "      <th>66425</th>\n",
       "      <td>DISTRICT SUMMARY</td>\n",
       "      <td>7.0</td>\n",
       "      <td>ZAVALLA ISD</td>\n",
       "      <td>3906.0</td>\n",
       "      <td>TRADITIONAL ISD/CSD</td>\n",
       "      <td>A-PARTICIPATION</td>\n",
       "      <td>A01</td>\n",
       "      <td>DISTRICT CUMULATIVE YEAR END ENROLLMENT</td>\n",
       "      <td>338.0</td>\n",
       "      <td>0</td>\n",
       "      <td>1</td>\n",
       "    </tr>\n",
       "    <tr>\n",
       "      <th>66427</th>\n",
       "      <td>DISTRICT SUMMARY</td>\n",
       "      <td>7.0</td>\n",
       "      <td>ZAVALLA ISD</td>\n",
       "      <td>3906.0</td>\n",
       "      <td>TRADITIONAL ISD/CSD</td>\n",
       "      <td>A-PARTICIPATION</td>\n",
       "      <td>A03</td>\n",
       "      <td>DISTRICT DISCIPLINE RECORD COUNT</td>\n",
       "      <td>74.0</td>\n",
       "      <td>0</td>\n",
       "      <td>0</td>\n",
       "    </tr>\n",
       "    <tr>\n",
       "      <th>66461</th>\n",
       "      <td>DISTRICT SUMMARY</td>\n",
       "      <td>15.0</td>\n",
       "      <td>ZEPHYR ISD</td>\n",
       "      <td>25906.0</td>\n",
       "      <td>TRADITIONAL ISD/CSD</td>\n",
       "      <td>A-PARTICIPATION</td>\n",
       "      <td>A01</td>\n",
       "      <td>DISTRICT CUMULATIVE YEAR END ENROLLMENT</td>\n",
       "      <td>224.0</td>\n",
       "      <td>0</td>\n",
       "      <td>1</td>\n",
       "    </tr>\n",
       "    <tr>\n",
       "      <th>66463</th>\n",
       "      <td>DISTRICT SUMMARY</td>\n",
       "      <td>15.0</td>\n",
       "      <td>ZEPHYR ISD</td>\n",
       "      <td>25906.0</td>\n",
       "      <td>TRADITIONAL ISD/CSD</td>\n",
       "      <td>A-PARTICIPATION</td>\n",
       "      <td>A03</td>\n",
       "      <td>DISTRICT DISCIPLINE RECORD COUNT</td>\n",
       "      <td>10.0</td>\n",
       "      <td>0</td>\n",
       "      <td>0</td>\n",
       "    </tr>\n",
       "  </tbody>\n",
       "</table>\n",
       "</div>"
      ],
      "text/plain": [
       "              agg_level  region          dist_name  district_num  \\\n",
       "66359  DISTRICT SUMMARY     1.0  ZAPATA COUNTY ISD      253901.0   \n",
       "66425  DISTRICT SUMMARY     7.0        ZAVALLA ISD        3906.0   \n",
       "66427  DISTRICT SUMMARY     7.0        ZAVALLA ISD        3906.0   \n",
       "66461  DISTRICT SUMMARY    15.0         ZEPHYR ISD       25906.0   \n",
       "66463  DISTRICT SUMMARY    15.0         ZEPHYR ISD       25906.0   \n",
       "\n",
       "            charter_status          section heading  \\\n",
       "66359  TRADITIONAL ISD/CSD  A-PARTICIPATION     A03   \n",
       "66425  TRADITIONAL ISD/CSD  A-PARTICIPATION     A01   \n",
       "66427  TRADITIONAL ISD/CSD  A-PARTICIPATION     A03   \n",
       "66461  TRADITIONAL ISD/CSD  A-PARTICIPATION     A01   \n",
       "66463  TRADITIONAL ISD/CSD  A-PARTICIPATION     A03   \n",
       "\n",
       "                                  heading_name  num_of_students  \\\n",
       "66359         DISTRICT DISCIPLINE RECORD COUNT            550.0   \n",
       "66425  DISTRICT CUMULATIVE YEAR END ENROLLMENT            338.0   \n",
       "66427         DISTRICT DISCIPLINE RECORD COUNT             74.0   \n",
       "66461  DISTRICT CUMULATIVE YEAR END ENROLLMENT            224.0   \n",
       "66463         DISTRICT DISCIPLINE RECORD COUNT             10.0   \n",
       "\n",
       "       charter_encoded  heading_encoded  \n",
       "66359                0                0  \n",
       "66425                0                1  \n",
       "66427                0                0  \n",
       "66461                0                1  \n",
       "66463                0                0  "
      ]
     },
     "execution_count": 15,
     "metadata": {},
     "output_type": "execute_result"
    }
   ],
   "source": [
    "df.tail()"
   ]
  },
  {
   "cell_type": "code",
   "execution_count": null,
   "id": "f3e30fba",
   "metadata": {},
   "outputs": [],
   "source": [
    "# Creating a list of our numeric columns\n",
    "numcols = [col for col in df.columns if df[col].dtype != 'O']"
   ]
  },
  {
   "cell_type": "code",
   "execution_count": null,
   "id": "16851e4c",
   "metadata": {},
   "outputs": [],
   "source": [
    "# Creating a list of our categorical columns\n",
    "catcols = [col for col in df.columns if df[col].dtype == 'O']"
   ]
  },
  {
   "cell_type": "code",
   "execution_count": null,
   "id": "04acd5ae",
   "metadata": {},
   "outputs": [],
   "source": [
    "# Describe the object columns\n",
    "for col in catcols:\n",
    "    print(f\"Column: {col}\")\n",
    "    print(df[col].value_counts())\n",
    "    print(\"--------\")\n",
    "    print(df[col].value_counts(normalize=True, dropna=False))\n",
    "    print(\"=================\")"
   ]
  },
  {
   "cell_type": "code",
   "execution_count": null,
   "id": "6cd9f6db",
   "metadata": {},
   "outputs": [],
   "source": [
    "# Histograms of numeric columns\n",
    "for col in numcols:\n",
    "    print(col)\n",
    "    df[col].hist()\n",
    "    plt.show()"
   ]
  },
  {
   "cell_type": "code",
   "execution_count": null,
   "id": "0c5e964d",
   "metadata": {},
   "outputs": [],
   "source": [
    "df = df.drop_duplicates()"
   ]
  },
  {
   "cell_type": "code",
   "execution_count": null,
   "id": "8504d1eb",
   "metadata": {},
   "outputs": [],
   "source": [
    "sns.boxplot(data=train, x='species', y='petal_width')\n",
    "plt.show"
   ]
  },
  {
   "cell_type": "code",
   "execution_count": 16,
   "id": "d28dd359",
   "metadata": {},
   "outputs": [
    {
     "data": {
      "text/plain": [
       "(2334, 11)"
      ]
     },
     "execution_count": 16,
     "metadata": {},
     "output_type": "execute_result"
    }
   ],
   "source": [
    "df.shape"
   ]
  },
  {
   "cell_type": "code",
   "execution_count": 24,
   "id": "b098e5bf",
   "metadata": {},
   "outputs": [
    {
     "data": {
      "text/html": [
       "<div>\n",
       "<style scoped>\n",
       "    .dataframe tbody tr th:only-of-type {\n",
       "        vertical-align: middle;\n",
       "    }\n",
       "\n",
       "    .dataframe tbody tr th {\n",
       "        vertical-align: top;\n",
       "    }\n",
       "\n",
       "    .dataframe thead th {\n",
       "        text-align: right;\n",
       "    }\n",
       "</style>\n",
       "<table border=\"1\" class=\"dataframe\">\n",
       "  <thead>\n",
       "    <tr style=\"text-align: right;\">\n",
       "      <th>heading</th>\n",
       "    </tr>\n",
       "    <tr>\n",
       "      <th>district_num</th>\n",
       "    </tr>\n",
       "  </thead>\n",
       "  <tbody>\n",
       "    <tr>\n",
       "      <th>1902.0</th>\n",
       "    </tr>\n",
       "    <tr>\n",
       "      <th>1903.0</th>\n",
       "    </tr>\n",
       "    <tr>\n",
       "      <th>1904.0</th>\n",
       "    </tr>\n",
       "    <tr>\n",
       "      <th>1906.0</th>\n",
       "    </tr>\n",
       "    <tr>\n",
       "      <th>1907.0</th>\n",
       "    </tr>\n",
       "    <tr>\n",
       "      <th>...</th>\n",
       "    </tr>\n",
       "    <tr>\n",
       "      <th>252902.0</th>\n",
       "    </tr>\n",
       "    <tr>\n",
       "      <th>252903.0</th>\n",
       "    </tr>\n",
       "    <tr>\n",
       "      <th>253901.0</th>\n",
       "    </tr>\n",
       "    <tr>\n",
       "      <th>254901.0</th>\n",
       "    </tr>\n",
       "    <tr>\n",
       "      <th>254902.0</th>\n",
       "    </tr>\n",
       "  </tbody>\n",
       "</table>\n",
       "<p>1207 rows × 0 columns</p>\n",
       "</div>"
      ],
      "text/plain": [
       "Empty DataFrame\n",
       "Columns: []\n",
       "Index: [1902.0, 1903.0, 1904.0, 1906.0, 1907.0, 1908.0, 1909.0, 2901.0, 3801.0, 3902.0, 3903.0, 3904.0, 3905.0, 3906.0, 3907.0, 4901.0, 5901.0, 5902.0, 5904.0, 6902.0, 7901.0, 7902.0, 7904.0, 7905.0, 7906.0, 8901.0, 8902.0, 8903.0, 9901.0, 10901.0, 10902.0, 11901.0, 11902.0, 11904.0, 11905.0, 12901.0, 13801.0, 13901.0, 13902.0, 13903.0, 13905.0, 14801.0, 14803.0, 14804.0, 14901.0, 14902.0, 14903.0, 14905.0, 14906.0, 14907.0, 14908.0, 14909.0, 14910.0, 15801.0, 15802.0, 15805.0, 15806.0, 15807.0, 15808.0, 15809.0, 15814.0, 15815.0, 15822.0, 15825.0, 15827.0, 15828.0, 15830.0, 15831.0, 15833.0, 15834.0, 15835.0, 15836.0, 15838.0, 15839.0, 15840.0, 15841.0, 15842.0, 15843.0, 15901.0, 15904.0, 15905.0, 15906.0, 15907.0, 15908.0, 15909.0, 15910.0, 15911.0, 15912.0, 15913.0, 15914.0, 15915.0, 15916.0, 15917.0, 16901.0, 16902.0, 17901.0, 18901.0, 18902.0, 18903.0, 18904.0, ...]\n",
       "\n",
       "[1207 rows x 0 columns]"
      ]
     },
     "execution_count": 24,
     "metadata": {},
     "output_type": "execute_result"
    }
   ],
   "source": [
    "df.pivot_table(index='district_num', columns='heading', values='heading_name')"
   ]
  },
  {
   "cell_type": "code",
   "execution_count": 17,
   "id": "a9a8f919",
   "metadata": {},
   "outputs": [
    {
     "data": {
      "text/html": [
       "<div>\n",
       "<style scoped>\n",
       "    .dataframe tbody tr th:only-of-type {\n",
       "        vertical-align: middle;\n",
       "    }\n",
       "\n",
       "    .dataframe tbody tr th {\n",
       "        vertical-align: top;\n",
       "    }\n",
       "\n",
       "    .dataframe thead th {\n",
       "        text-align: right;\n",
       "    }\n",
       "</style>\n",
       "<table border=\"1\" class=\"dataframe\">\n",
       "  <thead>\n",
       "    <tr style=\"text-align: right;\">\n",
       "      <th></th>\n",
       "      <th>region</th>\n",
       "      <th>district_num</th>\n",
       "      <th>num_of_students</th>\n",
       "      <th>charter_encoded</th>\n",
       "      <th>heading_encoded</th>\n",
       "    </tr>\n",
       "  </thead>\n",
       "  <tbody>\n",
       "    <tr>\n",
       "      <th>count</th>\n",
       "      <td>2334.000000</td>\n",
       "      <td>2334.000000</td>\n",
       "      <td>2334.000000</td>\n",
       "      <td>2334.000000</td>\n",
       "      <td>2334.000000</td>\n",
       "    </tr>\n",
       "    <tr>\n",
       "      <th>mean</th>\n",
       "      <td>10.472579</td>\n",
       "      <td>122764.976007</td>\n",
       "      <td>3100.125536</td>\n",
       "      <td>0.136247</td>\n",
       "      <td>0.517138</td>\n",
       "    </tr>\n",
       "    <tr>\n",
       "      <th>std</th>\n",
       "      <td>5.336983</td>\n",
       "      <td>72846.905427</td>\n",
       "      <td>10208.688544</td>\n",
       "      <td>0.343124</td>\n",
       "      <td>0.499813</td>\n",
       "    </tr>\n",
       "    <tr>\n",
       "      <th>min</th>\n",
       "      <td>1.000000</td>\n",
       "      <td>1902.000000</td>\n",
       "      <td>-999.000000</td>\n",
       "      <td>0.000000</td>\n",
       "      <td>0.000000</td>\n",
       "    </tr>\n",
       "    <tr>\n",
       "      <th>25%</th>\n",
       "      <td>6.000000</td>\n",
       "      <td>60914.000000</td>\n",
       "      <td>153.000000</td>\n",
       "      <td>0.000000</td>\n",
       "      <td>0.000000</td>\n",
       "    </tr>\n",
       "    <tr>\n",
       "      <th>50%</th>\n",
       "      <td>10.000000</td>\n",
       "      <td>110907.500000</td>\n",
       "      <td>540.000000</td>\n",
       "      <td>0.000000</td>\n",
       "      <td>1.000000</td>\n",
       "    </tr>\n",
       "    <tr>\n",
       "      <th>75%</th>\n",
       "      <td>15.000000</td>\n",
       "      <td>182905.750000</td>\n",
       "      <td>1881.750000</td>\n",
       "      <td>0.000000</td>\n",
       "      <td>1.000000</td>\n",
       "    </tr>\n",
       "    <tr>\n",
       "      <th>max</th>\n",
       "      <td>20.000000</td>\n",
       "      <td>254902.000000</td>\n",
       "      <td>211658.000000</td>\n",
       "      <td>1.000000</td>\n",
       "      <td>1.000000</td>\n",
       "    </tr>\n",
       "  </tbody>\n",
       "</table>\n",
       "</div>"
      ],
      "text/plain": [
       "            region   district_num  num_of_students  charter_encoded  \\\n",
       "count  2334.000000    2334.000000      2334.000000      2334.000000   \n",
       "mean     10.472579  122764.976007      3100.125536         0.136247   \n",
       "std       5.336983   72846.905427     10208.688544         0.343124   \n",
       "min       1.000000    1902.000000      -999.000000         0.000000   \n",
       "25%       6.000000   60914.000000       153.000000         0.000000   \n",
       "50%      10.000000  110907.500000       540.000000         0.000000   \n",
       "75%      15.000000  182905.750000      1881.750000         0.000000   \n",
       "max      20.000000  254902.000000    211658.000000         1.000000   \n",
       "\n",
       "       heading_encoded  \n",
       "count      2334.000000  \n",
       "mean          0.517138  \n",
       "std           0.499813  \n",
       "min           0.000000  \n",
       "25%           0.000000  \n",
       "50%           1.000000  \n",
       "75%           1.000000  \n",
       "max           1.000000  "
      ]
     },
     "execution_count": 17,
     "metadata": {},
     "output_type": "execute_result"
    }
   ],
   "source": [
    "df.describe()"
   ]
  },
  {
   "cell_type": "code",
   "execution_count": 18,
   "id": "53ecd97f",
   "metadata": {},
   "outputs": [
    {
     "data": {
      "text/html": [
       "<div>\n",
       "<style scoped>\n",
       "    .dataframe tbody tr th:only-of-type {\n",
       "        vertical-align: middle;\n",
       "    }\n",
       "\n",
       "    .dataframe tbody tr th {\n",
       "        vertical-align: top;\n",
       "    }\n",
       "\n",
       "    .dataframe thead th {\n",
       "        text-align: right;\n",
       "    }\n",
       "</style>\n",
       "<table border=\"1\" class=\"dataframe\">\n",
       "  <thead>\n",
       "    <tr style=\"text-align: right;\">\n",
       "      <th></th>\n",
       "      <th>agg_level</th>\n",
       "      <th>region</th>\n",
       "      <th>dist_name</th>\n",
       "      <th>district_num</th>\n",
       "      <th>charter_status</th>\n",
       "      <th>section</th>\n",
       "      <th>heading</th>\n",
       "      <th>heading_name</th>\n",
       "      <th>num_of_students</th>\n",
       "      <th>charter_encoded</th>\n",
       "      <th>heading_encoded</th>\n",
       "    </tr>\n",
       "  </thead>\n",
       "  <tbody>\n",
       "  </tbody>\n",
       "</table>\n",
       "</div>"
      ],
      "text/plain": [
       "Empty DataFrame\n",
       "Columns: [agg_level, region, dist_name, district_num, charter_status, section, heading, heading_name, num_of_students, charter_encoded, heading_encoded]\n",
       "Index: []"
      ]
     },
     "execution_count": 18,
     "metadata": {},
     "output_type": "execute_result"
    }
   ],
   "source": [
    "df[df[['district_num', 'heading_name', 'num_of_students']].duplicated()]"
   ]
  },
  {
   "cell_type": "code",
   "execution_count": 20,
   "id": "f437a204",
   "metadata": {},
   "outputs": [],
   "source": [
    "df1=df.pivot(index='district_num', columns='heading_name', values= 'num_of_students')"
   ]
  },
  {
   "cell_type": "code",
   "execution_count": 21,
   "id": "4ace29bf",
   "metadata": {},
   "outputs": [
    {
     "data": {
      "text/html": [
       "<div>\n",
       "<style scoped>\n",
       "    .dataframe tbody tr th:only-of-type {\n",
       "        vertical-align: middle;\n",
       "    }\n",
       "\n",
       "    .dataframe tbody tr th {\n",
       "        vertical-align: top;\n",
       "    }\n",
       "\n",
       "    .dataframe thead th {\n",
       "        text-align: right;\n",
       "    }\n",
       "</style>\n",
       "<table border=\"1\" class=\"dataframe\">\n",
       "  <thead>\n",
       "    <tr style=\"text-align: right;\">\n",
       "      <th>heading_name</th>\n",
       "      <th>DISTRICT CUMULATIVE YEAR END ENROLLMENT</th>\n",
       "      <th>DISTRICT DISCIPLINE RECORD COUNT</th>\n",
       "    </tr>\n",
       "    <tr>\n",
       "      <th>district_num</th>\n",
       "      <th></th>\n",
       "      <th></th>\n",
       "    </tr>\n",
       "  </thead>\n",
       "  <tbody>\n",
       "    <tr>\n",
       "      <th>1902.0</th>\n",
       "      <td>609.0</td>\n",
       "      <td>62.0</td>\n",
       "    </tr>\n",
       "    <tr>\n",
       "      <th>1903.0</th>\n",
       "      <td>1301.0</td>\n",
       "      <td>246.0</td>\n",
       "    </tr>\n",
       "    <tr>\n",
       "      <th>1904.0</th>\n",
       "      <td>868.0</td>\n",
       "      <td>204.0</td>\n",
       "    </tr>\n",
       "    <tr>\n",
       "      <th>1906.0</th>\n",
       "      <td>367.0</td>\n",
       "      <td>69.0</td>\n",
       "    </tr>\n",
       "    <tr>\n",
       "      <th>1907.0</th>\n",
       "      <td>3648.0</td>\n",
       "      <td>1031.0</td>\n",
       "    </tr>\n",
       "  </tbody>\n",
       "</table>\n",
       "</div>"
      ],
      "text/plain": [
       "heading_name  DISTRICT CUMULATIVE YEAR END ENROLLMENT  \\\n",
       "district_num                                            \n",
       "1902.0                                          609.0   \n",
       "1903.0                                         1301.0   \n",
       "1904.0                                          868.0   \n",
       "1906.0                                          367.0   \n",
       "1907.0                                         3648.0   \n",
       "\n",
       "heading_name  DISTRICT DISCIPLINE RECORD COUNT  \n",
       "district_num                                    \n",
       "1902.0                                    62.0  \n",
       "1903.0                                   246.0  \n",
       "1904.0                                   204.0  \n",
       "1906.0                                    69.0  \n",
       "1907.0                                  1031.0  "
      ]
     },
     "execution_count": 21,
     "metadata": {},
     "output_type": "execute_result"
    }
   ],
   "source": [
    "df1.head()"
   ]
  },
  {
   "cell_type": "code",
   "execution_count": null,
   "id": "6dd77919",
   "metadata": {},
   "outputs": [],
   "source": [
    "df1"
   ]
  },
  {
   "cell_type": "code",
   "execution_count": null,
   "id": "aef5d38a",
   "metadata": {},
   "outputs": [],
   "source": [
    "pd.crosstab(df.embarked, df.embark_town)"
   ]
  },
  {
   "cell_type": "code",
   "execution_count": null,
   "id": "45227e1c",
   "metadata": {},
   "outputs": [],
   "source": [
    "def split_tea_data(df):\n",
    "    '''\n",
    "    This function performs split on telco data, stratify churn.\n",
    "    Returns train, validate, and test dfs.\n",
    "    '''\n",
    "    train_validate, test = train_test_split(df, test_size=.2, \n",
    "                                        random_state=123, \n",
    "                                        stratify=df.charter_encoded)\n",
    "    train, validate = train_test_split(train_validate, test_size=.3, \n",
    "                                   random_state=123, \n",
    "                                   stratify=train_validate.charter_encoded)\n",
    "    return train, validate, test"
   ]
  },
  {
   "cell_type": "code",
   "execution_count": null,
   "id": "a63ec97a",
   "metadata": {},
   "outputs": [],
   "source": [
    "train, validate, test= split_tea_data(df) "
   ]
  },
  {
   "cell_type": "code",
   "execution_count": null,
   "id": "8cf4a6ce",
   "metadata": {},
   "outputs": [],
   "source": [
    "train.shape"
   ]
  },
  {
   "cell_type": "code",
   "execution_count": null,
   "id": "c212db4a",
   "metadata": {},
   "outputs": [],
   "source": [
    "validate.shape"
   ]
  },
  {
   "cell_type": "code",
   "execution_count": null,
   "id": "d94474da",
   "metadata": {},
   "outputs": [],
   "source": [
    "test.shape"
   ]
  },
  {
   "cell_type": "code",
   "execution_count": null,
   "id": "32ecfbd8",
   "metadata": {},
   "outputs": [],
   "source": [
    "for col in train.columns:\n",
    "    plt.hist(train[col])\n",
    "    plt.title(col)\n",
    "    plt.show()\n"
   ]
  },
  {
   "cell_type": "code",
   "execution_count": null,
   "id": "46b345a2",
   "metadata": {},
   "outputs": [],
   "source": [
    "sns.pairplot(train, hue='charter_encoded', corner=True)\n",
    "plt.show()\n"
   ]
  },
  {
   "cell_type": "code",
   "execution_count": null,
   "id": "20798ac1",
   "metadata": {},
   "outputs": [],
   "source": [
    "train.corr()"
   ]
  },
  {
   "cell_type": "code",
   "execution_count": null,
   "id": "bf196b34",
   "metadata": {},
   "outputs": [],
   "source": [
    "plt.figure(figsize=(8, 12))\n",
    "heatmap = sns.heatmap(train.corr(method='spearman')[['home_value']].sort_values(by='home_value', ascending=False), vmin=-1, vmax=1, annot=True, cmap='BrBG')\n",
    "heatmap.set_title('Features Correlating with Home Price', fontdict={'fontsize':18}, pad=16);"
   ]
  },
  {
   "cell_type": "code",
   "execution_count": null,
   "id": "ed44e1bc",
   "metadata": {},
   "outputs": [],
   "source": [
    "sns.heatmap(train.corr(), cmap='mako', center=0, annot=True)\n",
    "plt.show()"
   ]
  },
  {
   "cell_type": "code",
   "execution_count": null,
   "id": "a72519fb",
   "metadata": {},
   "outputs": [],
   "source": [
    "train.head()"
   ]
  },
  {
   "cell_type": "code",
   "execution_count": null,
   "id": "f3405d09",
   "metadata": {},
   "outputs": [],
   "source": [
    "def scale_data(train, \n",
    "               validate, \n",
    "               test, \n",
    "               columns_to_scale = ['region', 'district_num','charter_encoded', 'heading_encoded',  'num_of_students'],\n",
    "               return_scaler=False):\n",
    "    '''\n",
    "    Scales the 3 data splits. \n",
    "    Takes in train, validate, and test data splits and returns their scaled counterparts.\n",
    "    If return_scalar is True, the scaler object will be returned as well\n",
    "    '''\n",
    "    # make copies of our original data so we dont gronk up anything\n",
    "    train_scaled = train.copy()\n",
    "    validate_scaled = validate.copy()\n",
    "    test_scaled = test.copy()\n",
    "    #     make the thing\n",
    "    scaler = MinMaxScaler()\n",
    "    #     fit the thing\n",
    "    scaler.fit(train[columns_to_scale])\n",
    "    # applying the scaler:\n",
    "    train_scaled[columns_to_scale] = pd.DataFrame(scaler.transform(train[columns_to_scale]),\n",
    "                                                  columns=train[columns_to_scale].columns.values).set_index([train.index.values])\n",
    "                                                  \n",
    "    validate_scaled[columns_to_scale] = pd.DataFrame(scaler.transform(validate[columns_to_scale]),\n",
    "                                           columns=validate[columns_to_scale].columns.values).set_index([validate.index.values])\n",
    "    \n",
    "    test_scaled[columns_to_scale] = pd.DataFrame(scaler.transform(test[columns_to_scale]),\n",
    "                                                 columns=test[columns_to_scale].columns.values).set_index([test.index.values])\n",
    "    \n",
    "    if return_scaler:\n",
    "        return scaler, train_scaled, validate_scaled, test_scaled\n",
    "    else:\n",
    "        return train_scaled, validate_scaled, test_scaled"
   ]
  },
  {
   "cell_type": "code",
   "execution_count": null,
   "id": "0332db74",
   "metadata": {},
   "outputs": [],
   "source": [
    "train_scaled, validate_scaled, test_scaled=scale_data(train, validate, test)"
   ]
  },
  {
   "cell_type": "code",
   "execution_count": null,
   "id": "27bcf14f",
   "metadata": {},
   "outputs": [],
   "source": [
    "train_scaled.head()"
   ]
  },
  {
   "cell_type": "code",
   "execution_count": null,
   "id": "88a2ff38",
   "metadata": {},
   "outputs": [],
   "source": [
    "validate_scaled.head()"
   ]
  },
  {
   "cell_type": "code",
   "execution_count": null,
   "id": "18c3a7fd",
   "metadata": {},
   "outputs": [],
   "source": [
    "test_scaled.head()"
   ]
  },
  {
   "cell_type": "code",
   "execution_count": null,
   "id": "253cbd35",
   "metadata": {},
   "outputs": [],
   "source": [
    "spearman_train_corr= train.corr(method='spearman')\n",
    "spearman_train_corr"
   ]
  },
  {
   "cell_type": "code",
   "execution_count": null,
   "id": "feec350c",
   "metadata": {},
   "outputs": [],
   "source": [
    "train_scaled.num_of_students.hist()\n"
   ]
  },
  {
   "cell_type": "code",
   "execution_count": null,
   "id": "23875e40",
   "metadata": {},
   "outputs": [],
   "source": [
    "df.charter_encoded.value_counts()"
   ]
  },
  {
   "cell_type": "code",
   "execution_count": null,
   "id": "46ceac3c",
   "metadata": {},
   "outputs": [],
   "source": [
    "train_scaled.groupby('heading', group_keys=True).apply(lambda x: x)\n",
    "      "
   ]
  },
  {
   "cell_type": "code",
   "execution_count": null,
   "id": "5980657e",
   "metadata": {},
   "outputs": [],
   "source": [
    "df.groupby(\"Animal\", group_keys=False).apply(lambda x: x)"
   ]
  },
  {
   "cell_type": "code",
   "execution_count": null,
   "id": "5559e238",
   "metadata": {},
   "outputs": [],
   "source": []
  },
  {
   "cell_type": "code",
   "execution_count": null,
   "id": "5015bedb",
   "metadata": {},
   "outputs": [],
   "source": []
  },
  {
   "cell_type": "code",
   "execution_count": null,
   "id": "bee885b6",
   "metadata": {},
   "outputs": [],
   "source": []
  },
  {
   "cell_type": "code",
   "execution_count": null,
   "id": "4e04e2ec",
   "metadata": {},
   "outputs": [],
   "source": []
  },
  {
   "cell_type": "code",
   "execution_count": null,
   "id": "231954b8",
   "metadata": {},
   "outputs": [],
   "source": []
  },
  {
   "cell_type": "code",
   "execution_count": null,
   "id": "eb6bf38f",
   "metadata": {},
   "outputs": [],
   "source": []
  },
  {
   "cell_type": "code",
   "execution_count": null,
   "id": "250600a5",
   "metadata": {},
   "outputs": [],
   "source": [
    "\n",
    "tstat, p = stats.ttest_ind(df.sepal_length,\n",
    "                versicolor.sepal_length, \n",
    "                equal_var=False\n",
    "               )"
   ]
  },
  {
   "cell_type": "code",
   "execution_count": null,
   "id": "edf628f5",
   "metadata": {},
   "outputs": [],
   "source": [
    "\n",
    "tstat"
   ]
  },
  {
   "cell_type": "code",
   "execution_count": null,
   "id": "eec6e7a0",
   "metadata": {},
   "outputs": [],
   "source": [
    "p"
   ]
  },
  {
   "cell_type": "code",
   "execution_count": null,
   "id": "4dfa576b",
   "metadata": {},
   "outputs": [],
   "source": [
    "stats.mannwhitneyu(virginica.sepal_width, \n",
    "                   versicolor.sepal_width\n",
    "                  )"
   ]
  },
  {
   "cell_type": "code",
   "execution_count": null,
   "id": "d53126bb",
   "metadata": {},
   "outputs": [],
   "source": [
    "train['age_bin'] = pd.cut(train.age, [0, 40, 80])\n",
    "train\n"
   ]
  },
  {
   "cell_type": "code",
   "execution_count": null,
   "id": "4458c424",
   "metadata": {},
   "outputs": [],
   "source": [
    "df = df.rename(columns={'sale_amount': 'quantity'})"
   ]
  },
  {
   "cell_type": "code",
   "execution_count": null,
   "id": "a09ac68c",
   "metadata": {},
   "outputs": [],
   "source": [
    "df = df.fillna(0)"
   ]
  },
  {
   "cell_type": "code",
   "execution_count": null,
   "id": "c2dd9dd6",
   "metadata": {},
   "outputs": [],
   "source": [
    "#Distribution of target variable\n",
    "plt.hist(x=df['logerror'], bins=20)\n",
    "plt.xlim(-1, 1)\n"
   ]
  },
  {
   "cell_type": "code",
   "execution_count": null,
   "id": "0c1919d6",
   "metadata": {},
   "outputs": [],
   "source": [
    "#Visualize distribution of target variable\n",
    "plt.hist(df['spending_score'])\n"
   ]
  },
  {
   "cell_type": "code",
   "execution_count": null,
   "id": "560af5b9",
   "metadata": {},
   "outputs": [],
   "source": [
    "df.columns"
   ]
  },
  {
   "cell_type": "code",
   "execution_count": null,
   "id": "55a6b91e",
   "metadata": {},
   "outputs": [],
   "source": [
    " # Get dummies for non-binary categorical variables\n",
    "    dummy1_df = pd.get_dummies(df[['section', \\\n",
    "                              'heading', \\\n",
    "                              'heading_name', \\\n",
    "                              'device_protection', \\\n",
    "                              'streaming_tv', \\\n",
    "                              'streaming_movies', \\\n",
    "                              'internet_service_type'\n",
    "                              ]], dummy_na=False, \\\n",
    "                              drop_first=True)\n",
    "    "
   ]
  },
  {
   "cell_type": "code",
   "execution_count": null,
   "id": "fba62cba",
   "metadata": {},
   "outputs": [],
   "source": [
    "#Split my data into three subsets\n",
    "seed = 123\n",
    "\n",
    "train, test_val = train_test_split(mall_df, train_size=0.7,\n",
    "                                   random_state=seed)\n",
    "\n",
    "test, val = train_test_split(test_val, train_size=0.5,\n",
    "                                       random_state=seed)\n",
    "\n",
    "mall_train.shape, mall_val.shape, mall_test.shape\n"
   ]
  },
  {
   "cell_type": "code",
   "execution_count": null,
   "id": "7bc8e54a",
   "metadata": {},
   "outputs": [],
   "source": [
    "# 80/20 train test split\n",
    "train, test = train_test_split(df, train_size=0.8, random_state=1349, stratify=df.species)\n",
    "# 70/30 train validate split\n",
    "train, validate = train_test_split(train, train_size=0.7, random_state=1349, stratify=train.species)\n"
   ]
  },
  {
   "cell_type": "code",
   "execution_count": null,
   "id": "b2bd6a4d",
   "metadata": {},
   "outputs": [],
   "source": [
    "train.shape, validate.shape, test.shape"
   ]
  },
  {
   "cell_type": "code",
   "execution_count": null,
   "id": "47497ec6",
   "metadata": {},
   "outputs": [],
   "source": [
    "#Check get_dummies works as expected on my training data\n",
    "pd.get_dummies(mall_train)"
   ]
  },
  {
   "cell_type": "code",
   "execution_count": null,
   "id": "d7da2f18",
   "metadata": {},
   "outputs": [],
   "source": [
    "#Create the dataframe with dummies for gender and drop redundant column\n",
    "mall_train = pd.get_dummies(mall_train)\n",
    "\n",
    "mall_train.drop(columns=['gender_Male'], inplace=True)\n",
    "\n",
    "mall_train.head()\n"
   ]
  },
  {
   "cell_type": "code",
   "execution_count": null,
   "id": "a8d343f6",
   "metadata": {},
   "outputs": [],
   "source": [
    "#Initialize the scaler and fit/transform a couple columns in my training data\n",
    "mms = MinMaxScaler()\n",
    "\n",
    "mall_train[['age', 'annual_income']] = mms.fit_transform(mall_train[['age',\n",
    "                                                                     'annual_income']])\n",
    "\n",
    "mall_train.head()\n"
   ]
  },
  {
   "cell_type": "code",
   "execution_count": null,
   "id": "7f3ab4b9",
   "metadata": {},
   "outputs": [],
   "source": []
  },
  {
   "cell_type": "code",
   "execution_count": null,
   "id": "ae7e345d",
   "metadata": {},
   "outputs": [],
   "source": [
    "stats.levene(\n",
    "    train[train.age <= 40].spending_score,\n",
    "    train[train.age > 40].spending_score\n",
    ")"
   ]
  },
  {
   "cell_type": "code",
   "execution_count": null,
   "id": "402185f3",
   "metadata": {},
   "outputs": [],
   "source": [
    "stats.ttest_ind(\n",
    "    train[train.age <= 40].spending_score,\n",
    "    train[train.age > 40].spending_score,\n",
    "    equal_var=False\n",
    ")"
   ]
  },
  {
   "cell_type": "code",
   "execution_count": null,
   "id": "25a2b046",
   "metadata": {},
   "outputs": [],
   "source": [
    "Exercises Part 1 Continue in your classification_exercises.ipynb notebook. As always, add, commit, and push your changes. Section 1 - iris_db: Using iris data from our mySQL server and the methods used in the lesson above: Acquire, prepare & split your data.\n",
    "\n",
    "Target: Species\n",
    "\n",
    "Null H:There is no difference in Sepal length between species.\n",
    "\n",
    "Alt H: There is a difference in Sepal length between species.\n",
    "\n",
    "Univariate Stats For each measurement type (quantitative variable): create a histogram, boxplot, & compute descriptive statistics (using .describe()). For each species (categorical variable): create a frequency table and a bar plot of those frequencies. Document takeaways & any actions.\n",
    "\n"
   ]
  },
  {
   "cell_type": "code",
   "execution_count": null,
   "id": "7120b548",
   "metadata": {},
   "outputs": [],
   "source": [
    "Takeaway: Categorical column (species are even distributed) due to training split with 28 of each species.\n",
    "\n",
    "Bivariate Stats\n",
    "\n",
    "Visualize each measurement type (y-axis) with the species variable (x-axis) using barplots, adding a horizontal line showing the overall mean of the metric (y-axis).\n",
    "\n",
    "For each measurement type, compute the descriptive statistics for each species.\n",
    "\n",
    "For virginica & versicolor: Compare the mean petal_width using the Mann-Whitney test (scipy.stats.mannwhitneyu) to see if there is a significant difference between the two groups. Do the same for the other measurement types.\n",
    "\n",
    "Document takeaways & any actions."
   ]
  },
  {
   "cell_type": "code",
   "execution_count": null,
   "id": "7eecb73b",
   "metadata": {},
   "outputs": [],
   "source": [
    "Multivariate Stats\n",
    "\n",
    "Visualize the interaction of each measurement type with the others using a pairplot (or scatter matrix or something similar) and add color to represent species.\n",
    "\n",
    "Visualize two numeric variables of the species. Hint: sns.relplot with hue or col\n",
    "\n",
    "Create a swarmplot using a melted dataframe of all your numeric variables. The x-axis should be the variable name, the y-axis the measure. Add another dimension using color to represent species. Document takeaways from this visualization.\n",
    "\n",
    "Ask a specific question of the data, such as: is the sepal area signficantly different in virginica compared to setosa? Answer the question through both a plot and using a mann-whitney or t-test. If you use a t-test, be sure assumptions are met (independence, normality, equal variance).\n",
    "\n",
    "Document takeaways and any actions."
   ]
  },
  {
   "cell_type": "code",
   "execution_count": null,
   "id": "cba9ee27",
   "metadata": {},
   "outputs": [],
   "source": []
  },
  {
   "cell_type": "code",
   "execution_count": null,
   "id": "67b61e7b",
   "metadata": {},
   "outputs": [],
   "source": []
  }
 ],
 "metadata": {
  "kernelspec": {
   "display_name": "Python 3 (ipykernel)",
   "language": "python",
   "name": "python3"
  },
  "language_info": {
   "codemirror_mode": {
    "name": "ipython",
    "version": 3
   },
   "file_extension": ".py",
   "mimetype": "text/x-python",
   "name": "python",
   "nbconvert_exporter": "python",
   "pygments_lexer": "ipython3",
   "version": "3.9.12"
  }
 },
 "nbformat": 4,
 "nbformat_minor": 5
}
