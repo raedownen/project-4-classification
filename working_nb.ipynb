{
 "cells": [
  {
   "cell_type": "code",
   "execution_count": 1,
   "id": "f8c962cb",
   "metadata": {},
   "outputs": [],
   "source": [
    "#Step 1: Import the libraries\n",
    "%matplotlib inline\n",
    "import matplotlib.pyplot as plt\n",
    "from matplotlib.colors import ListedColormap\n",
    "from env import user, password, host\n",
    "from scipy.stats import levene, ttest_ind\n",
    "from sklearn.ensemble import RandomForestClassifier\n",
    "from sklearn.impute import SimpleImputer\n",
    "from sklearn.linear_model import LogisticRegression\n",
    "from sklearn.metrics import classification_report, confusion_matrix, ConfusionMatrixDisplay, plot_confusion_matrix\n",
    "from sklearn.model_selection import train_test_split\n",
    "from sklearn.neighbors import KNeighborsClassifier\n",
    "from sklearn.preprocessing import MinMaxScaler\n",
    "from sklearn.tree import DecisionTreeClassifier, plot_tree, export_text\n",
    "import math\n",
    "import numpy as np\n",
    "import os\n",
    "import pandas as pd\n",
    "import requests\n",
    "import seaborn as sns\n",
    "import statsmodels.api as sm\n",
    "import warnings\n",
    "warnings.filterwarnings(\"ignore\")\n",
    "\n",
    "#import my  modules created for this report\n",
    "#import wrangle as w\n",
    "#import explore as e\n",
    "#import model as m"
   ]
  },
  {
   "cell_type": "markdown",
   "id": "8eaee838",
   "metadata": {},
   "source": [
    "Step 2: Fetch data"
   ]
  },
  {
   "cell_type": "code",
   "execution_count": 2,
   "id": "a0f0045e",
   "metadata": {},
   "outputs": [],
   "source": [
    "def get_tea_data():\n",
    "    df22 = pd.read_csv('DISTRICT_summary_22.csv')\n",
    "    df21 = pd.read_csv('DISTRICT_summary_21.csv')\n",
    "    df20 = pd.read_csv('DISTRICT_summary_20.csv')\n",
    "    df19 = pd.read_csv('DISTRICT_summary_19.csv')\n",
    "    "
   ]
  },
  {
   "cell_type": "code",
   "execution_count": 3,
   "id": "7786efd9",
   "metadata": {},
   "outputs": [],
   "source": [
    "get_tea_data()"
   ]
  },
  {
   "cell_type": "code",
   "execution_count": 4,
   "id": "51ca56fd",
   "metadata": {},
   "outputs": [],
   "source": [
    "#df22 = pd.read_csv('DISTRICT_summary_22.csv')"
   ]
  },
  {
   "cell_type": "code",
   "execution_count": 5,
   "id": "b890ffc9",
   "metadata": {},
   "outputs": [],
   "source": [
    "#df21 = pd.read_csv('DISTRICT_summary_21.csv')"
   ]
  },
  {
   "cell_type": "code",
   "execution_count": 6,
   "id": "f124b87f",
   "metadata": {},
   "outputs": [],
   "source": [
    "#df20 = pd.read_csv('DISTRICT_summary_20.csv')"
   ]
  },
  {
   "cell_type": "code",
   "execution_count": 7,
   "id": "c7aae103",
   "metadata": {},
   "outputs": [],
   "source": [
    "#df19 = pd.read_csv('DISTRICT_summary_19.csv')"
   ]
  },
  {
   "cell_type": "code",
   "execution_count": 8,
   "id": "3d8bbab9",
   "metadata": {},
   "outputs": [
    {
     "ename": "NameError",
     "evalue": "name 'df22' is not defined",
     "output_type": "error",
     "traceback": [
      "\u001b[0;31m---------------------------------------------------------------------------\u001b[0m",
      "\u001b[0;31mNameError\u001b[0m                                 Traceback (most recent call last)",
      "Input \u001b[0;32mIn [8]\u001b[0m, in \u001b[0;36m<cell line: 1>\u001b[0;34m()\u001b[0m\n\u001b[0;32m----> 1\u001b[0m \u001b[43mdf22\u001b[49m\u001b[38;5;241m.\u001b[39mhead()\n",
      "\u001b[0;31mNameError\u001b[0m: name 'df22' is not defined"
     ]
    }
   ],
   "source": [
    "df22.head()"
   ]
  },
  {
   "cell_type": "code",
   "execution_count": null,
   "id": "920628b2",
   "metadata": {},
   "outputs": [],
   "source": [
    "df21.head()"
   ]
  },
  {
   "cell_type": "code",
   "execution_count": null,
   "id": "96b7fba7",
   "metadata": {},
   "outputs": [],
   "source": [
    "df20.head()"
   ]
  },
  {
   "cell_type": "code",
   "execution_count": null,
   "id": "481b0384",
   "metadata": {},
   "outputs": [],
   "source": [
    "df19.head()"
   ]
  },
  {
   "cell_type": "raw",
   "id": "c6edec46",
   "metadata": {},
   "source": [
    "#looking at the dataframes, I see that charter status is the target variable for the classifiction model\n",
    "#Step 3: Determine the target variable"
   ]
  },
  {
   "cell_type": "code",
   "execution_count": null,
   "id": "ff29b49f",
   "metadata": {},
   "outputs": [],
   "source": [
    "df = df.rename(columns={'AGGREGATION LEVEL':'agg_level', 'REGION':'region', 'DISTNAME':'dist_name', 'DISTRICT':'district_num', 'CHARTER_STATUS':'charter_status', 'SECTION':'section', 'HEADING':'heading', 'HEADING NAME':'heading_name'})"
   ]
  },
  {
   "cell_type": "code",
   "execution_count": null,
   "id": "7e844bc9",
   "metadata": {},
   "outputs": [],
   "source": [
    "df19 = df19.rename(columns={'AGGREGATION LEVEL':'agg_level', 'REGION':'region', 'DISTNAME':'dist_name', 'DISTRICT':'district_num', 'CHARTER_STATUS':'charter_status', 'SECTION':'section', 'HEADING':'heading', 'HEADING NAME':'heading_name'})"
   ]
  },
  {
   "cell_type": "code",
   "execution_count": null,
   "id": "d2680298",
   "metadata": {},
   "outputs": [],
   "source": [
    "df20 = df20.rename(columns={'AGGREGATION LEVEL':'agg_level', 'REGION':'region', 'DISTNAME':'dist_name', 'DISTRICT':'district_num', 'CHARTER_STATUS':'charter_status', 'SECTION':'section', 'HEADING':'heading', 'HEADING NAME':'heading_name'})"
   ]
  },
  {
   "cell_type": "code",
   "execution_count": null,
   "id": "b042f436",
   "metadata": {},
   "outputs": [],
   "source": [
    "df21 = df21.rename(columns={'AGGREGATION LEVEL':'agg_level', 'REGION':'region', 'DISTNAME':'dist_name', 'DISTRICT':'district_num', 'CHARTER_STATUS':'charter_status', 'SECTION':'section', 'HEADING':'heading', 'HEADING NAME':'heading_name'})"
   ]
  },
  {
   "cell_type": "code",
   "execution_count": null,
   "id": "39df01ab",
   "metadata": {},
   "outputs": [],
   "source": [
    "df22 = df22.rename(columns={'AGGREGATION LEVEL':'agg_level', 'REGION':'region', 'DISTNAME':'dist_name', 'DISTRICT':'district_num', 'CHARTER_STATUS':'charter_status', 'SECTION':'section', 'HEADING':'heading', 'HEADING NAME':'heading_name'})"
   ]
  },
  {
   "cell_type": "code",
   "execution_count": null,
   "id": "ec98d87d",
   "metadata": {},
   "outputs": [],
   "source": [
    "df19.info()"
   ]
  },
  {
   "cell_type": "code",
   "execution_count": null,
   "id": "0f4d829c",
   "metadata": {},
   "outputs": [],
   "source": [
    "df20.info()"
   ]
  },
  {
   "cell_type": "code",
   "execution_count": null,
   "id": "b4c3b656",
   "metadata": {},
   "outputs": [],
   "source": [
    "df21.info()"
   ]
  },
  {
   "cell_type": "code",
   "execution_count": null,
   "id": "4e62a9e6",
   "metadata": {},
   "outputs": [],
   "source": [
    "df22.info()"
   ]
  },
  {
   "cell_type": "code",
   "execution_count": null,
   "id": "18bbbd5b",
   "metadata": {},
   "outputs": [],
   "source": [
    "df19['charter_encoded'] = df19.charter_status.map({'OPEN ENROLLMENT CHARTER': 1, 'TRADITIONAL ISD/CSD':0})"
   ]
  },
  {
   "cell_type": "code",
   "execution_count": null,
   "id": "c0d58fa7",
   "metadata": {},
   "outputs": [],
   "source": [
    "df20['charter_encoded'] = df20.charter_status.map({'OPEN ENROLLMENT CHARTER': 1, 'TRADITIONAL ISD/CSD':0})"
   ]
  },
  {
   "cell_type": "code",
   "execution_count": null,
   "id": "9257d7d4",
   "metadata": {},
   "outputs": [],
   "source": [
    "df21['charter_encoded'] = df21.charter_status.map({'OPEN ENROLLMENT CHARTER': 1, 'TRADITIONAL ISD/CSD':0})"
   ]
  },
  {
   "cell_type": "code",
   "execution_count": null,
   "id": "ea2bcfa0",
   "metadata": {},
   "outputs": [],
   "source": [
    "df22['charter_encoded'] = df22.charter_status.map({'OPEN ENROLLMENT CHARTER': 1, 'TRADITIONAL ISD/CSD':0})"
   ]
  },
  {
   "cell_type": "code",
   "execution_count": null,
   "id": "6584bd57",
   "metadata": {},
   "outputs": [],
   "source": [
    "df19.head()"
   ]
  },
  {
   "cell_type": "code",
   "execution_count": null,
   "id": "277cc945",
   "metadata": {},
   "outputs": [],
   "source": [
    "df22=df22[(df22.heading == 'A01') | (df22.heading ==  'A03')]"
   ]
  },
  {
   "cell_type": "code",
   "execution_count": null,
   "id": "ae74cc69",
   "metadata": {},
   "outputs": [],
   "source": [
    "df22.head()"
   ]
  },
  {
   "cell_type": "code",
   "execution_count": null,
   "id": "966c21ca",
   "metadata": {},
   "outputs": [],
   "source": [
    "df21=df21[(df21.heading == 'A01') | (df21.heading ==  'A03')]"
   ]
  },
  {
   "cell_type": "code",
   "execution_count": null,
   "id": "eb3214d0",
   "metadata": {},
   "outputs": [],
   "source": [
    "df20=df20[(df20.heading == 'A01') | (df20.heading ==  'A03')]"
   ]
  },
  {
   "cell_type": "code",
   "execution_count": null,
   "id": "e89dfcd8",
   "metadata": {},
   "outputs": [],
   "source": [
    "df19=df19[(df19.heading == 'A01') | (df19.heading ==  'A03')]"
   ]
  },
  {
   "cell_type": "code",
   "execution_count": null,
   "id": "9ecd5603",
   "metadata": {},
   "outputs": [],
   "source": [
    "df19.head()"
   ]
  },
  {
   "cell_type": "code",
   "execution_count": null,
   "id": "42959da7",
   "metadata": {},
   "outputs": [],
   "source": [
    "df19['heading_encoded'] = df19.heading.map({'A01': 1, 'A03':0})"
   ]
  },
  {
   "cell_type": "code",
   "execution_count": null,
   "id": "d277dfc1",
   "metadata": {},
   "outputs": [],
   "source": [
    "df20['heading_encoded'] = df20.heading.map({'A01': 1, 'A03':0})"
   ]
  },
  {
   "cell_type": "code",
   "execution_count": null,
   "id": "7e00ad3f",
   "metadata": {},
   "outputs": [],
   "source": [
    "df21['heading_encoded'] = df21.heading.map({'A01': 1, 'A03':0})"
   ]
  },
  {
   "cell_type": "code",
   "execution_count": null,
   "id": "a310b552",
   "metadata": {},
   "outputs": [],
   "source": [
    "df22['heading_encoded'] = df22.heading.map({'A01': 1, 'A03':0})"
   ]
  },
  {
   "cell_type": "code",
   "execution_count": null,
   "id": "be67b531",
   "metadata": {},
   "outputs": [],
   "source": [
    "df19.head()"
   ]
  },
  {
   "cell_type": "code",
   "execution_count": null,
   "id": "2c92c5d6",
   "metadata": {},
   "outputs": [],
   "source": [
    "df19=df19[(df19.YR19 != -999)]"
   ]
  },
  {
   "cell_type": "code",
   "execution_count": null,
   "id": "d8a2e034",
   "metadata": {},
   "outputs": [],
   "source": [
    "df20=df20[(df20.YR20 != -999)]"
   ]
  },
  {
   "cell_type": "code",
   "execution_count": null,
   "id": "9d8b7f01",
   "metadata": {},
   "outputs": [],
   "source": [
    "df21=df21[(df21.YR21 != -999)]"
   ]
  },
  {
   "cell_type": "code",
   "execution_count": null,
   "id": "09b40236",
   "metadata": {},
   "outputs": [],
   "source": [
    "df22=df22[(df22.YR22 != -999)]"
   ]
  },
  {
   "cell_type": "code",
   "execution_count": null,
   "id": "345f9e34",
   "metadata": {},
   "outputs": [],
   "source": [
    "df19.head()"
   ]
  },
  {
   "cell_type": "code",
   "execution_count": null,
   "id": "1fc5f6c1",
   "metadata": {},
   "outputs": [],
   "source": [
    "df19.drop_duplicates()"
   ]
  },
  {
   "cell_type": "code",
   "execution_count": null,
   "id": "0fd1b7db",
   "metadata": {},
   "outputs": [],
   "source": [
    "df20.drop_duplicates()"
   ]
  },
  {
   "cell_type": "code",
   "execution_count": null,
   "id": "bbf65e22",
   "metadata": {},
   "outputs": [],
   "source": [
    "df21.drop_duplicates()"
   ]
  },
  {
   "cell_type": "code",
   "execution_count": null,
   "id": "42099cca",
   "metadata": {},
   "outputs": [],
   "source": [
    "df22.drop_duplicates()"
   ]
  },
  {
   "cell_type": "code",
   "execution_count": null,
   "id": "63ad7ed3",
   "metadata": {},
   "outputs": [],
   "source": [
    "df22.info()"
   ]
  },
  {
   "cell_type": "code",
   "execution_count": null,
   "id": "b343c8d2",
   "metadata": {},
   "outputs": [],
   "source": [
    "df21.info()"
   ]
  },
  {
   "cell_type": "code",
   "execution_count": null,
   "id": "161f9377",
   "metadata": {},
   "outputs": [],
   "source": [
    "df20.info()"
   ]
  },
  {
   "cell_type": "code",
   "execution_count": null,
   "id": "521c2f03",
   "metadata": {},
   "outputs": [],
   "source": [
    "df19.info()"
   ]
  },
  {
   "cell_type": "code",
   "execution_count": null,
   "id": "53ecd97f",
   "metadata": {},
   "outputs": [],
   "source": [
    "df19.dropna()"
   ]
  },
  {
   "cell_type": "code",
   "execution_count": null,
   "id": "f97eeab9",
   "metadata": {},
   "outputs": [],
   "source": [
    "df20.dropna()"
   ]
  },
  {
   "cell_type": "code",
   "execution_count": null,
   "id": "2ba18bba",
   "metadata": {},
   "outputs": [],
   "source": [
    "df21.dropna()"
   ]
  },
  {
   "cell_type": "code",
   "execution_count": null,
   "id": "3c037ff7",
   "metadata": {},
   "outputs": [],
   "source": [
    "df22.dropna()"
   ]
  },
  {
   "cell_type": "code",
   "execution_count": null,
   "id": "f437a204",
   "metadata": {},
   "outputs": [],
   "source": [
    "df19pivot=df19.pivot(index='district_num', columns='heading_name', values= 'YR19').dropna()"
   ]
  },
  {
   "cell_type": "code",
   "execution_count": null,
   "id": "d9d20ec8",
   "metadata": {},
   "outputs": [],
   "source": [
    "df20pivot=df20.pivot(index='district_num', columns='heading_name', values= 'YR20').dropna()"
   ]
  },
  {
   "cell_type": "code",
   "execution_count": null,
   "id": "f190150d",
   "metadata": {},
   "outputs": [],
   "source": [
    "df21pivot=df21.pivot(index='district_num', columns='heading_name', values= 'YR21').dropna()"
   ]
  },
  {
   "cell_type": "code",
   "execution_count": null,
   "id": "1bc1818e",
   "metadata": {},
   "outputs": [],
   "source": [
    "df22pivot=df22.pivot(index='district_num', columns='heading_name', values= 'YR22').dropna()"
   ]
  },
  {
   "cell_type": "code",
   "execution_count": null,
   "id": "f26a47a6",
   "metadata": {},
   "outputs": [],
   "source": [
    "df19=df19.drop(columns=['heading', 'heading_name','heading_encoded','YR19'])"
   ]
  },
  {
   "cell_type": "code",
   "execution_count": null,
   "id": "e6e6c381",
   "metadata": {},
   "outputs": [],
   "source": [
    "df20=df20.drop(columns=['heading', 'heading_name', 'heading_encoded','YR20'])"
   ]
  },
  {
   "cell_type": "code",
   "execution_count": null,
   "id": "51debe4a",
   "metadata": {},
   "outputs": [],
   "source": [
    "df21=df21.drop(columns=['heading', 'heading_name', 'heading_encoded','YR21'])"
   ]
  },
  {
   "cell_type": "code",
   "execution_count": null,
   "id": "a6807791",
   "metadata": {},
   "outputs": [],
   "source": [
    "df22=df22.drop(columns=['heading', 'heading_name', 'heading_encoded','YR22'])"
   ]
  },
  {
   "cell_type": "code",
   "execution_count": null,
   "id": "54b7b504",
   "metadata": {},
   "outputs": [],
   "source": [
    "d22=df22.drop_duplicates()"
   ]
  },
  {
   "cell_type": "code",
   "execution_count": null,
   "id": "60fa1bfd",
   "metadata": {},
   "outputs": [],
   "source": [
    "df21=df21.drop_duplicates()"
   ]
  },
  {
   "cell_type": "code",
   "execution_count": null,
   "id": "e8e7f50f",
   "metadata": {},
   "outputs": [],
   "source": [
    "df20=df20.drop_duplicates()"
   ]
  },
  {
   "cell_type": "code",
   "execution_count": null,
   "id": "95e74c95",
   "metadata": {},
   "outputs": [],
   "source": [
    "df19=df19.drop_duplicates()"
   ]
  },
  {
   "cell_type": "code",
   "execution_count": null,
   "id": "fc956f0a",
   "metadata": {},
   "outputs": [],
   "source": [
    "df19=df19.merge(df19pivot,how= 'right', on= 'district_num')"
   ]
  },
  {
   "cell_type": "code",
   "execution_count": null,
   "id": "5d664ffd",
   "metadata": {},
   "outputs": [],
   "source": [
    "df20=df20.merge(df20pivot,how= 'right', on= 'district_num')"
   ]
  },
  {
   "cell_type": "code",
   "execution_count": null,
   "id": "d84271ac",
   "metadata": {},
   "outputs": [],
   "source": [
    "df21=df21.merge(df21pivot,how= 'right', on= 'district_num')"
   ]
  },
  {
   "cell_type": "code",
   "execution_count": null,
   "id": "6f25bce3",
   "metadata": {},
   "outputs": [],
   "source": [
    "df22=df22.merge(df22pivot,how= 'right', on= 'district_num')"
   ]
  },
  {
   "cell_type": "code",
   "execution_count": null,
   "id": "ebf6c2c0",
   "metadata": {},
   "outputs": [],
   "source": [
    "df19.head()"
   ]
  },
  {
   "cell_type": "code",
   "execution_count": null,
   "id": "faec1ee4",
   "metadata": {},
   "outputs": [],
   "source": [
    "df20.head()"
   ]
  },
  {
   "cell_type": "code",
   "execution_count": null,
   "id": "e2d189c5",
   "metadata": {},
   "outputs": [],
   "source": [
    "df21.head()"
   ]
  },
  {
   "cell_type": "code",
   "execution_count": null,
   "id": "5bddfb0f",
   "metadata": {},
   "outputs": [],
   "source": [
    "df22.head()"
   ]
  },
  {
   "cell_type": "code",
   "execution_count": null,
   "id": "367d4d3f",
   "metadata": {},
   "outputs": [],
   "source": [
    "df19 = df19.rename(columns={'DISTRICT CUMULATIVE YEAR END ENROLLMENT': 'enrollment', 'DISTRICT DISCIPLINE RECORD COUNT':'disciplined'})"
   ]
  },
  {
   "cell_type": "code",
   "execution_count": null,
   "id": "58c7d176",
   "metadata": {},
   "outputs": [],
   "source": [
    "df20 = df20.rename(columns={'DISTRICT CUMULATIVE YEAR END ENROLLMENT': 'enrollment', 'DISTRICT DISCIPLINE RECORD COUNT':'disciplined'})"
   ]
  },
  {
   "cell_type": "code",
   "execution_count": null,
   "id": "123beaec",
   "metadata": {},
   "outputs": [],
   "source": [
    "df21 = df21.rename(columns={'DISTRICT CUMULATIVE YEAR END ENROLLMENT': 'enrollment', 'DISTRICT DISCIPLINE RECORD COUNT':'disciplined'})"
   ]
  },
  {
   "cell_type": "code",
   "execution_count": null,
   "id": "aeff7972",
   "metadata": {},
   "outputs": [],
   "source": [
    "df22 = df22.rename(columns={'DISTRICT CUMULATIVE YEAR END ENROLLMENT': 'enrollment', 'DISTRICT DISCIPLINE RECORD COUNT':'disciplined'})"
   ]
  },
  {
   "cell_type": "code",
   "execution_count": null,
   "id": "05f76e2c",
   "metadata": {},
   "outputs": [],
   "source": [
    "df19.head()"
   ]
  },
  {
   "cell_type": "code",
   "execution_count": null,
   "id": "4b5f3f7b",
   "metadata": {},
   "outputs": [],
   "source": [
    "# Step 4: Creation of predictors variables\n",
    "\n",
    "df19['discipline_percent']= ((df19['disciplined']/df19['enrollment'])*100).round({'discipline_percent': 0})\n"
   ]
  },
  {
   "cell_type": "code",
   "execution_count": null,
   "id": "890d6de0",
   "metadata": {},
   "outputs": [],
   "source": [
    "df19=df19.round({'discipline_percent': 0})"
   ]
  },
  {
   "cell_type": "code",
   "execution_count": null,
   "id": "a1b1c12a",
   "metadata": {},
   "outputs": [],
   "source": [
    "df19.head()"
   ]
  },
  {
   "cell_type": "code",
   "execution_count": null,
   "id": "ec40bd67",
   "metadata": {},
   "outputs": [],
   "source": [
    "df20['discipline_percent']= (df20['disciplined']/df20['enrollment'])*100"
   ]
  },
  {
   "cell_type": "code",
   "execution_count": null,
   "id": "4ace29bf",
   "metadata": {},
   "outputs": [],
   "source": [
    "df20=df20.round({'discipline_percent': 0})"
   ]
  },
  {
   "cell_type": "code",
   "execution_count": null,
   "id": "c36a2b65",
   "metadata": {},
   "outputs": [],
   "source": [
    "df21['discipline_percent']= (df21['disciplined']/df21['enrollment'])*100"
   ]
  },
  {
   "cell_type": "code",
   "execution_count": null,
   "id": "6dd77919",
   "metadata": {},
   "outputs": [],
   "source": [
    "df21=df21.round({'discipline_percent': 0})"
   ]
  },
  {
   "cell_type": "code",
   "execution_count": null,
   "id": "ed848b9d",
   "metadata": {},
   "outputs": [],
   "source": [
    "df22['discipline_percent']= (df22['disciplined']/df22['enrollment'])*100"
   ]
  },
  {
   "cell_type": "code",
   "execution_count": null,
   "id": "6605558c",
   "metadata": {},
   "outputs": [],
   "source": [
    "df22=df22.round({'discipline_percent': 0})"
   ]
  },
  {
   "cell_type": "code",
   "execution_count": null,
   "id": "d2864e5c",
   "metadata": {},
   "outputs": [],
   "source": [
    "df22.drop_duplicates()"
   ]
  },
  {
   "cell_type": "code",
   "execution_count": null,
   "id": "fb277d09",
   "metadata": {},
   "outputs": [],
   "source": [
    "df21.drop_duplicates()"
   ]
  },
  {
   "cell_type": "code",
   "execution_count": null,
   "id": "85e98eed",
   "metadata": {},
   "outputs": [],
   "source": [
    "df20.drop_duplicates()"
   ]
  },
  {
   "cell_type": "code",
   "execution_count": null,
   "id": "f10de6f5",
   "metadata": {},
   "outputs": [],
   "source": [
    "df19.drop_duplicates()"
   ]
  },
  {
   "cell_type": "code",
   "execution_count": null,
   "id": "fd592106",
   "metadata": {},
   "outputs": [],
   "source": [
    "df19.head()"
   ]
  },
  {
   "cell_type": "code",
   "execution_count": null,
   "id": "1e69830e",
   "metadata": {},
   "outputs": [],
   "source": [
    "df20.head()"
   ]
  },
  {
   "cell_type": "code",
   "execution_count": null,
   "id": "19e971b5",
   "metadata": {},
   "outputs": [],
   "source": [
    "df21.head()"
   ]
  },
  {
   "cell_type": "code",
   "execution_count": null,
   "id": "3a5e7bcc",
   "metadata": {},
   "outputs": [],
   "source": [
    "df22.head()"
   ]
  },
  {
   "cell_type": "code",
   "execution_count": null,
   "id": "c7cf9438",
   "metadata": {},
   "outputs": [],
   "source": [
    "df19.info()"
   ]
  },
  {
   "cell_type": "code",
   "execution_count": null,
   "id": "e466eea4",
   "metadata": {},
   "outputs": [],
   "source": [
    "df20.info()"
   ]
  },
  {
   "cell_type": "code",
   "execution_count": null,
   "id": "3cd874c2",
   "metadata": {},
   "outputs": [],
   "source": [
    "df21.info()"
   ]
  },
  {
   "cell_type": "code",
   "execution_count": null,
   "id": "c43f6b30",
   "metadata": {},
   "outputs": [],
   "source": [
    "df22.info()"
   ]
  },
  {
   "cell_type": "code",
   "execution_count": null,
   "id": "44cda2c8",
   "metadata": {},
   "outputs": [],
   "source": [
    "df= pd.concat([df19,df20,df21,df22], ignore_index=True)"
   ]
  },
  {
   "cell_type": "code",
   "execution_count": null,
   "id": "5a158418",
   "metadata": {},
   "outputs": [],
   "source": [
    "df.info()"
   ]
  },
  {
   "cell_type": "code",
   "execution_count": null,
   "id": "18bc9a9c",
   "metadata": {},
   "outputs": [],
   "source": [
    "df= df.drop(columns=['agg_level', 'region', 'district_num', 'section','charter_status'])"
   ]
  },
  {
   "cell_type": "code",
   "execution_count": null,
   "id": "6d90c99f",
   "metadata": {},
   "outputs": [],
   "source": [
    "df.head()"
   ]
  },
  {
   "cell_type": "code",
   "execution_count": null,
   "id": "45227e1c",
   "metadata": {},
   "outputs": [],
   "source": [
    "#Step 5: Test and train dataset split\n",
    "def split_tea_data(df):\n",
    "    '''\n",
    "    This function performs split on tea data, stratify charter_encoded.\n",
    "    Returns train, validate, and test dfs.\n",
    "    '''\n",
    "    train_validate, test = train_test_split(df, test_size=.2, \n",
    "                                        random_state=123, \n",
    "                                        stratify=df.charter_encoded)\n",
    "    train, validate = train_test_split(train_validate, test_size=.3, \n",
    "                                   random_state=123, \n",
    "                                   stratify=train_validate.charter_encoded)\n",
    "    return train, validate, test"
   ]
  },
  {
   "cell_type": "code",
   "execution_count": null,
   "id": "a63ec97a",
   "metadata": {},
   "outputs": [],
   "source": [
    "train, validate, test= split_tea_data(df) "
   ]
  },
  {
   "cell_type": "code",
   "execution_count": null,
   "id": "a72519fb",
   "metadata": {},
   "outputs": [],
   "source": [
    "train.head()"
   ]
  },
  {
   "cell_type": "code",
   "execution_count": null,
   "id": "8cf4a6ce",
   "metadata": {},
   "outputs": [],
   "source": [
    "train.shape"
   ]
  },
  {
   "cell_type": "code",
   "execution_count": null,
   "id": "c212db4a",
   "metadata": {},
   "outputs": [],
   "source": [
    "validate.shape"
   ]
  },
  {
   "cell_type": "code",
   "execution_count": null,
   "id": "d94474da",
   "metadata": {},
   "outputs": [],
   "source": [
    "test.shape"
   ]
  },
  {
   "cell_type": "code",
   "execution_count": null,
   "id": "a44353e6",
   "metadata": {},
   "outputs": [],
   "source": [
    "# Stratification means we'll get even proportions of the target variable in each data set\n",
    "train.charter_encoded.mean(), validate.charter_encoded.mean(), test.charter_encoded.mean()\n"
   ]
  },
  {
   "cell_type": "code",
   "execution_count": null,
   "id": "03e561f4",
   "metadata": {},
   "outputs": [],
   "source": [
    "train.describe()"
   ]
  },
  {
   "cell_type": "markdown",
   "id": "dac4e799",
   "metadata": {},
   "source": [
    "1. Does enrollment, disciplined, or disciplne_percent type affect charter status?\n",
    "H0: There is not a relationship between the variables (enrollment, disciplined, or disciplne_percent) and charter status.\n",
    "HA:There is a relationship between the variables (enrollment, disciplined, or disciplne_percent) and charter status."
   ]
  },
  {
   "cell_type": "code",
   "execution_count": null,
   "id": "7fb968ec",
   "metadata": {},
   "outputs": [],
   "source": [
    "# created a cross tab to see the if enrollment had an impact on charter status.\n",
    "print('Is there a relationship between enrollment and charter_encoded?')\n",
    "pd.crosstab(train.charter_encoded, train.enrollment, normalize='index').plot.bar(stacked=False)"
   ]
  },
  {
   "cell_type": "code",
   "execution_count": null,
   "id": "eefe744e",
   "metadata": {},
   "outputs": [],
   "source": [
    "# created a cross tab to see the if disciplined had an impact on charter status.\n",
    "print('Is there a relationship between disciplined and charter_encoded?')\n",
    "pd.crosstab(train.charter_encoded, train.disciplined, normalize='index').plot.bar(stacked=False)"
   ]
  },
  {
   "cell_type": "code",
   "execution_count": null,
   "id": "c60c55a8",
   "metadata": {},
   "outputs": [],
   "source": [
    "train.charter_encoded.value_counts()"
   ]
  },
  {
   "cell_type": "code",
   "execution_count": null,
   "id": "5613cd6b",
   "metadata": {},
   "outputs": [],
   "source": [
    "sns.histplot(x='enrollment', data=train, kde=True)"
   ]
  },
  {
   "cell_type": "code",
   "execution_count": null,
   "id": "8490f57e",
   "metadata": {},
   "outputs": [],
   "source": [
    "sns.histplot(x='disciplined', data=train, kde=True)"
   ]
  },
  {
   "cell_type": "code",
   "execution_count": null,
   "id": "74351804",
   "metadata": {},
   "outputs": [],
   "source": [
    "sns.histplot(x='discipline_percent', data=train, kde=True)"
   ]
  },
  {
   "cell_type": "code",
   "execution_count": null,
   "id": "1af22453",
   "metadata": {},
   "outputs": [],
   "source": [
    "sns.histplot(x='charter_encoded', data=train, kde=True)"
   ]
  },
  {
   "cell_type": "markdown",
   "id": "6f4147f8",
   "metadata": {},
   "source": [
    "Univariate analysis involves describing the distribution of a single variable, including its central tendency (including the mean, median, and mode) and dispersion (including the range and quartiles of the data-set, and measures of spread such as the variance and standard deviation). The shape of the distribution may also be described via indices such as skewness and kurtosis. Characteristics of a variable's distribution may also be depicted in graphical or tabular format, including histograms and stem-and-leaf display."
   ]
  },
  {
   "cell_type": "code",
   "execution_count": null,
   "id": "1d81ce96",
   "metadata": {},
   "outputs": [],
   "source": [
    "sns.kdeplot(x='charter_encoded', data=train, hue='disciplined')"
   ]
  },
  {
   "cell_type": "code",
   "execution_count": null,
   "id": "863c3650",
   "metadata": {},
   "outputs": [],
   "source": [
    "sns.boxplot(x=train['discipline_percent'])"
   ]
  },
  {
   "cell_type": "code",
   "execution_count": null,
   "id": "ec3eac2a",
   "metadata": {},
   "outputs": [],
   "source": [
    "sns.boxplot(x=train['disciplined'])"
   ]
  },
  {
   "cell_type": "code",
   "execution_count": null,
   "id": "21f9569d",
   "metadata": {
    "scrolled": true
   },
   "outputs": [],
   "source": [
    "sns.boxplot(x=train['enrollment'])"
   ]
  },
  {
   "cell_type": "code",
   "execution_count": null,
   "id": "bdcdd0d3",
   "metadata": {},
   "outputs": [],
   "source": [
    "sns.boxplot(x=train['charter_encoded'])"
   ]
  },
  {
   "cell_type": "code",
   "execution_count": null,
   "id": "78c5384a",
   "metadata": {},
   "outputs": [],
   "source": [
    "sns.violinplot(x=train['enrollment'])"
   ]
  },
  {
   "cell_type": "code",
   "execution_count": null,
   "id": "cd3f7663",
   "metadata": {},
   "outputs": [],
   "source": [
    "sns.violinplot(x=train['disciplined'])"
   ]
  },
  {
   "cell_type": "code",
   "execution_count": null,
   "id": "45392670",
   "metadata": {},
   "outputs": [],
   "source": [
    "sns.violinplot(x=train['discipline_percent'])"
   ]
  },
  {
   "cell_type": "code",
   "execution_count": null,
   "id": "d2f521fe",
   "metadata": {},
   "outputs": [],
   "source": [
    "sns.violinplot(x=train['charter_encoded'])"
   ]
  },
  {
   "cell_type": "code",
   "execution_count": null,
   "id": "996a8e3e",
   "metadata": {},
   "outputs": [],
   "source": [
    "train.describe(include='object')"
   ]
  },
  {
   "cell_type": "code",
   "execution_count": null,
   "id": "849c4539",
   "metadata": {},
   "outputs": [],
   "source": [
    "train['charter_encoded'].describe()"
   ]
  },
  {
   "cell_type": "markdown",
   "id": "eac9a8a8",
   "metadata": {},
   "source": [
    "When one variable is categorical and the other continuous, a box plot is common and when both are categorical a mosaic plot is common. "
   ]
  },
  {
   "cell_type": "markdown",
   "id": "d7e574e2",
   "metadata": {},
   "source": [
    "Some measures that are commonly used to describe a data set are measures of central tendency and measures of variability or dispersion. Measures of central tendency include the mean, median and mode, while measures of variability include the standard deviation (or variance), the minimum and maximum values of the variables, kurtosis and skewness.[5]"
   ]
  },
  {
   "cell_type": "markdown",
   "id": "ef657f46",
   "metadata": {},
   "source": [
    "Cross-tabulations and contingency tables"
   ]
  },
  {
   "cell_type": "markdown",
   "id": "b1fe95fe",
   "metadata": {},
   "source": [
    "describes the relationship between two different variables."
   ]
  },
  {
   "cell_type": "code",
   "execution_count": null,
   "id": "b276fd04",
   "metadata": {},
   "outputs": [],
   "source": [
    "fig, ax = plt.subplots(1, figsize=(10, 10))\n",
    "sns.boxplot(x=train['charter_encoded'], y=train['discipline_percent']);\n",
    "plt.xticks(rotation = 90)\n",
    "plt.show()"
   ]
  },
  {
   "cell_type": "markdown",
   "id": "86d9c370",
   "metadata": {},
   "source": [
    "percent and charter"
   ]
  },
  {
   "cell_type": "code",
   "execution_count": null,
   "id": "06a4d222",
   "metadata": {},
   "outputs": [],
   "source": [
    "fig, ax = plt.subplots(1, figsize=(10, 10))\n",
    "sns.boxplot(x=train['charter_encoded'], y=train['disciplined']);\n",
    "plt.xticks(rotation = 90)\n",
    "plt.show()"
   ]
  },
  {
   "cell_type": "code",
   "execution_count": null,
   "id": "9cca23f7",
   "metadata": {},
   "outputs": [],
   "source": [
    "fig, ax = plt.subplots(1, figsize=(10, 10))\n",
    "sns.boxplot(x=train['charter_encoded'], y=train['enrollment']);\n",
    "plt.xticks(rotation = 90)\n",
    "plt.show()"
   ]
  },
  {
   "cell_type": "markdown",
   "id": "ff45dea7",
   "metadata": {},
   "source": [
    "Acquire, prepare & split your data.\n",
    "\n",
    "Target: charter_encoded\n",
    "\n",
    "Null H:There is no difference in discipline_percent  between traditional school districts and charter school district.\n",
    "\n",
    "Alt H: There is a difference in discipline_percent between traditional school districts and charter school district.\n",
    "\n",
    "Univariate Stats For each quantitative variable): create a histogram, boxplot, & compute descriptive statistics (using .describe()). For categorical variable): create a frequency table and a bar plot of those frequencies. Document takeaways & any actions.\n",
    "\n"
   ]
  },
  {
   "cell_type": "code",
   "execution_count": null,
   "id": "6cd9f6db",
   "metadata": {
    "scrolled": false
   },
   "outputs": [],
   "source": [
    "# Creating a list of our numeric columns\n",
    "numcols = [col for col in train.columns if train[col].dtype != 'O']\n",
    "\n",
    "# Histograms of numeric columns\n",
    "for col in numcols:\n",
    "    print(col)\n",
    "    train[col].hist()\n",
    "    plt.show()"
   ]
  },
  {
   "cell_type": "code",
   "execution_count": null,
   "id": "9471a0ce",
   "metadata": {},
   "outputs": [],
   "source": [
    "sns.boxplot(data=train[[\"enrollment\", \"disciplined\"]], orient=\"h\")"
   ]
  },
  {
   "cell_type": "code",
   "execution_count": null,
   "id": "650f8b8a",
   "metadata": {},
   "outputs": [],
   "source": [
    "sns.boxplot(data=train[[\"discipline_percent\", \"charter_encoded\"]], orient=\"h\")"
   ]
  },
  {
   "cell_type": "code",
   "execution_count": null,
   "id": "6256d6a7",
   "metadata": {},
   "outputs": [],
   "source": [
    "# one way frequency table for the species column.\n",
    "freq_table = pd.crosstab(train['dist_name'], 'count')\n",
    "  \n",
    "freq_table"
   ]
  },
  {
   "cell_type": "markdown",
   "id": "6f4d8a54",
   "metadata": {},
   "source": [
    "Bivariate Stats\n",
    "\n",
    "Visualize each measurement type (y-axis) with the target variable (x-axis) using barplots, adding a horizontal line showing the overall mean of the metric (y-axis).\n",
    "\n",
    "\n",
    "\n",
    "Document takeaways & any actions."
   ]
  },
  {
   "cell_type": "markdown",
   "id": "8269c5c2",
   "metadata": {},
   "source": [
    "Interactions of 2 Variables\n",
    "For bivariate exploration, we should analyze each feature with respect to the target variable and document takewaways.\n",
    "\n",
    "A scatterplot will help us visualize numeric to numeric columns.\n",
    "\n",
    "A catplot, barplot, or boxplot will help us visualize categorical variables with numeric variables. A nice thing about a .barplot is that by setting the binary target to the y axis, we see proportions.\n",
    "\n",
    "Always write down what questions you have before you explore.\n",
    "\n",
    "Always document your findings and takeaways, even if the takeaway is \"There's nothing here between x and y\"\n",
    "\n",
    "Some findings from bi-variate exploration may need more detailed investigation with an additional variable..."
   ]
  },
  {
   "cell_type": "code",
   "execution_count": null,
   "id": "b80d144e",
   "metadata": {},
   "outputs": [],
   "source": [
    "sns.boxplot(data=train, x='charter_encoded', y='discipline_percent')\n",
    "plt.show"
   ]
  },
  {
   "cell_type": "code",
   "execution_count": null,
   "id": "8f7926bf",
   "metadata": {},
   "outputs": [],
   "source": [
    "sns.boxplot(data=train, x='charter_encoded', y='disciplined')\n",
    "plt.show"
   ]
  },
  {
   "cell_type": "code",
   "execution_count": null,
   "id": "c0bcf99a",
   "metadata": {},
   "outputs": [],
   "source": [
    "sns.boxplot(data=train, x='charter_encoded', y='enrollment')\n",
    "plt.show"
   ]
  },
  {
   "cell_type": "code",
   "execution_count": null,
   "id": "ee4ff67e",
   "metadata": {},
   "outputs": [],
   "source": [
    "sns.scatterplot(x=\"disciplined\",y=\"discipline_percent\",hue=\"charter_encoded\",data=train)\n"
   ]
  },
  {
   "cell_type": "code",
   "execution_count": null,
   "id": "5d61f282",
   "metadata": {},
   "outputs": [],
   "source": [
    "sns.scatterplot(x=\"disciplined\",y=\"enrollment\",hue=\"charter_encoded\",data=train)\n"
   ]
  },
  {
   "cell_type": "code",
   "execution_count": null,
   "id": "59c9a4b8",
   "metadata": {},
   "outputs": [],
   "source": [
    "sns.scatterplot(x=\"enrollment\",y=\"discipline_percent\",hue=\"charter_encoded\",data=train)\n"
   ]
  },
  {
   "cell_type": "markdown",
   "id": "0184a197",
   "metadata": {},
   "source": [
    "Step 1: Import the libraries\n",
    "Step 2: Fetch data\n",
    "Step 3: Determine the target variable\n",
    "Step 4: Creation of predictors variables\n",
    "Step 5: Test and train dataset split\n",
    "Step 6: Create the machine learning classification model using the train dataset\n",
    "Step 7: The classification model accuracy_score in Python\n",
    "Step 8: Prediction\n",
    "Step 9: Plotting classification data in matplotlib"
   ]
  },
  {
   "cell_type": "markdown",
   "id": "f3981caf",
   "metadata": {},
   "source": [
    "Multivariate Stats\n",
    "\n",
    "Visualize the interaction of each measurement type with the others using a pairplot (or scatter matrix or something similar) and add color to represent charter.\n",
    "\n",
    "Visualize two numeric variables of the charter. Hint: sns.relplot with hue or col\n",
    "\n",
    "Ask a specific question of the data, such as: is the charter_status signficantly different in traditional schools vs charter schools? Answer the question through both a plot and using a mann-whitney or t-test. If you use a t-test, be sure assumptions are met (independence, normality, equal variance).\n",
    "\n",
    "Document takeaways and any actions.document takeaways (nulls, datatypes to change, outliers, ideas for features, etc.)"
   ]
  },
  {
   "cell_type": "code",
   "execution_count": null,
   "id": "46b345a2",
   "metadata": {},
   "outputs": [],
   "source": [
    "sns.pairplot(train, hue='charter_encoded', corner=True)\n",
    "plt.show()\n"
   ]
  },
  {
   "cell_type": "markdown",
   "id": "d97790a2",
   "metadata": {},
   "source": [
    "train: in-sample, explore, impute mean, scale numeric data (max() - min()...), fit our ml algorithms, test our models.\n",
    "validate, test: represents future, unseen data\n",
    "validate: confirm our top models have not overfit, test our top n models on unseen data. Using validate performance results, we pick the top 1 model.\n",
    "test: out-of-sample, how we expect our top model to perform in production, on unseen data in the future. ONLY USED ON 1 MODEL."
   ]
  },
  {
   "cell_type": "markdown",
   "id": "a6a3671f",
   "metadata": {},
   "source": [
    "Visualize two numeric variables of the charter. Hint: sns.relplot with hue or col"
   ]
  },
  {
   "cell_type": "markdown",
   "id": "ebe5899d",
   "metadata": {},
   "source": [
    "Are you comparing, looking at the relationship or summary stats or visualizations with 2+ variables?\n",
    "Are you using an sklearn method?\n",
    "Are you moving into the explore stage of the pipeline?\n",
    "If ONE or more of these is yes, then you should be doing it on your train sample. If ALL are no, then the entire dataset is fine."
   ]
  },
  {
   "cell_type": "markdown",
   "id": "5e9f96df",
   "metadata": {},
   "source": [
    "Plot the interactions of each variable with the target. Document your takeaways.\n",
    "\n",
    "For numeric to numeric, use a scatterplot or lineplot\n",
    "\n",
    "For numeric to categorical variables, see https://seaborn.pydata.org/tutorial/categorical.html"
   ]
  },
  {
   "cell_type": "markdown",
   "id": "76a3384b",
   "metadata": {},
   "source": [
    "Multivariate Stats (more than 2 variables): Ask additional questions of the data, such as how subgroups compare to each-other and to the overall population. Answer questions using visualizations and/or hypothesis testing.\n",
    "\n",
    "If you're using seaborn's relplot or catplot, use the hue or col arguments to add extra dimension(s) to the visuals.\n",
    "Using sns.pairplot with hue may be helpful. With too many columns, however, it can produce visuals that are too noisy to be useful.\n",
    "See https://seaborn.pydata.org/tutorial/axis_grids.html for more multivariate options"
   ]
  },
  {
   "cell_type": "markdown",
   "id": "456e5606",
   "metadata": {},
   "source": [
    "Standing Orders for Exploration\n",
    "\n",
    "Document your initial questions or assumptions. Write them down (in your README or notebook) so they are concrete and not in your head.\n",
    "\n",
    "Document your takeaways after each visualization. Even if your takeaway is, \"there is nothing interesting between var1 and target\".\n",
    "\n",
    "Document your answer to each question.\n",
    "\n",
    "When you run statistical tests to answer your questions, Document your null and alternative hypothesis, the test you run, the test results, and your conclusion.\n",
    "\n",
    "Document your takeaways, in case that wasn't clear. It is a huge component of your final deliverable/analysis.\n",
    "\n",
    "Document your action plan. What are your next steps and/or new questions based on what you have learned? I recommend documenting, continuing through all of your questions, and then going back and taking action only after you have answered your initial questions.\n",
    "\n",
    "\n"
   ]
  },
  {
   "cell_type": "markdown",
   "id": "a8037a92",
   "metadata": {},
   "source": [
    "\n",
    "Comparing Numeric vs. a Categorical Example\n",
    "\n",
    "If the visual is not completely clear, the need for a hypothesis test increases."
   ]
  },
  {
   "cell_type": "markdown",
   "id": "9dd73c67",
   "metadata": {},
   "source": [
    "# Using discipline"
   ]
  },
  {
   "cell_type": "code",
   "execution_count": null,
   "id": "209bd6ab",
   "metadata": {},
   "outputs": [],
   "source": [
    "# histogram of churned customers\n",
    "charterdisc = train[train.charter_encoded==1].disciplined\n",
    "charterdisc.hist()"
   ]
  },
  {
   "cell_type": "code",
   "execution_count": null,
   "id": "fd355584",
   "metadata": {},
   "outputs": [],
   "source": [
    "# histogram of non-churned customers\n",
    "non_charterdisc = train[train.charter_encoded==0].disciplined\n",
    "non_charterdisc.hist()"
   ]
  },
  {
   "cell_type": "code",
   "execution_count": null,
   "id": "4df924a5",
   "metadata": {},
   "outputs": [],
   "source": [
    "mean_a = charterdisc.mean()\n",
    "mean_b = non_charterdisc.mean()"
   ]
  },
  {
   "cell_type": "code",
   "execution_count": null,
   "id": "4b188787",
   "metadata": {},
   "outputs": [],
   "source": [
    "mean_a, mean_b"
   ]
  },
  {
   "cell_type": "markdown",
   "id": "7bf8679f",
   "metadata": {},
   "source": [
    "# Hypothesis"
   ]
  },
  {
   "cell_type": "markdown",
   "id": "08c17973",
   "metadata": {},
   "source": [
    "\n",
    "### Null H: Mean of disciplined students is the same for charter schools and traditional schools.\n",
    "\n",
    "### Alt H: Mean of disciplined students is not the same for charter schools and traditional schools."
   ]
  },
  {
   "cell_type": "markdown",
   "id": "e994c5c6",
   "metadata": {},
   "source": [
    "First, set your confidence level and your alpha (Confidence level of 95% and alpha of 0.05 are good)\n",
    "Select the appropriate test for your 2 variables:\n",
    "Compare means with t-test\n",
    "Run tests, form conclusions, and document your results\n",
    "(rinse and then repeat with other variables of interest)"
   ]
  },
  {
   "cell_type": "raw",
   "id": "5700659d",
   "metadata": {},
   "source": [
    "# Refresher of procedure up to this point:\n",
    "# 1. ask a question of your data\n",
    "# 1a. turn that question into a proper hypothesis\n",
    "# 2. Is this a one-sample test or a two sample test?\n",
    "#  2*: are we comparing two subgroups (2 sample) or one subgroup against the population (1 sample)\n",
    "# 3. Is this a one-tailed or two-tailed test?\n",
    "# 3*: Do we want to compare inequality (!=, tw-tailed, p) or directed inequality (<,>, one-tailed, p/2)\n",
    "# 4: Make sure we establish a confidence level and alpha (usually alpha of 0.05)\n",
    "# 5: Perform the test ==> if conditions are met, record that you rejected H0\n",
    "# 5*: If we have a one-tailed test, tstat value must match comparison (i.e:\n",
    "# t should be positive if Ha: mu_a > mu_th) AND p-value must be below alpha (for \n",
    "# two tailed, or p/2 < alpha for one-tailed)\n"
   ]
  },
  {
   "cell_type": "code",
   "execution_count": null,
   "id": "94b8c426",
   "metadata": {},
   "outputs": [],
   "source": [
    "# remember that our confidence level determines our alpha, \n",
    "# which we use to compare to p\n",
    "alpha = 0.05"
   ]
  },
  {
   "cell_type": "markdown",
   "id": "d6e89d17",
   "metadata": {},
   "source": [
    "# 2 sample t-test"
   ]
  },
  {
   "cell_type": "code",
   "execution_count": null,
   "id": "5a9a7e7c",
   "metadata": {},
   "outputs": [],
   "source": [
    "# Mini H0: variances are equal between groups\n",
    "# Ha: variances are inequal between groups\n",
    "# alpha: 0.05\n",
    "stat, pval = stats.levene(charterdisc, non_charterdisc)"
   ]
  },
  {
   "cell_type": "code",
   "execution_count": null,
   "id": "b3cdfd26",
   "metadata": {},
   "outputs": [],
   "source": [
    "pval"
   ]
  },
  {
   "cell_type": "code",
   "execution_count": null,
   "id": "7348a071",
   "metadata": {},
   "outputs": [],
   "source": [
    "# implications of one-tailed two-sampled t-test:\n",
    "# p will be divided by two because we are only looking at one tail of the curve\n",
    "# we will pay attention to the sign of our t-statistic\n",
    "# t, p = t-test: (group A, group B) ==> comparison of mu_a > mu_b\n",
    "t, p = stats.ttest_ind(charterdisc, non_charterdisc, equal_var=False)\n",
    "t, p\n"
   ]
  },
  {
   "cell_type": "code",
   "execution_count": null,
   "id": "65322825",
   "metadata": {},
   "outputs": [],
   "source": [
    "print('Is p less than alpha? ', pval < alpha)"
   ]
  },
  {
   "cell_type": "code",
   "execution_count": null,
   "id": "82da261c",
   "metadata": {},
   "outputs": [],
   "source": [
    "if (t > 0) and ((p / 2) < alpha):\n",
    "    print('We can reject the null hypothesis')\n",
    "else:\n",
    "    print('we fail to reject the null hypothesis')"
   ]
  },
  {
   "cell_type": "code",
   "execution_count": null,
   "id": "827db97f",
   "metadata": {},
   "outputs": [],
   "source": [
    "t, p"
   ]
  },
  {
   "cell_type": "markdown",
   "id": "43057c52",
   "metadata": {},
   "source": [
    "# Using enrollment"
   ]
  },
  {
   "cell_type": "code",
   "execution_count": null,
   "id": "424a488d",
   "metadata": {},
   "outputs": [],
   "source": [
    "# histogram of churned customers\n",
    "charterenr = train[train.charter_encoded==1].enrollment\n",
    "charterenr.hist()"
   ]
  },
  {
   "cell_type": "code",
   "execution_count": null,
   "id": "dea06520",
   "metadata": {},
   "outputs": [],
   "source": [
    "# histogram of non-churned customers\n",
    "non_charterenr = train[train.charter_encoded==0].enrollment\n",
    "non_charterenr.hist()"
   ]
  },
  {
   "cell_type": "code",
   "execution_count": null,
   "id": "9b883b74",
   "metadata": {},
   "outputs": [],
   "source": [
    "mean_a = charterenr.mean()\n",
    "mean_b = non_charterenr.mean()"
   ]
  },
  {
   "cell_type": "code",
   "execution_count": null,
   "id": "7dbe26af",
   "metadata": {},
   "outputs": [],
   "source": [
    "mean_a, mean_b"
   ]
  },
  {
   "cell_type": "code",
   "execution_count": null,
   "id": "2c895dfb",
   "metadata": {},
   "outputs": [],
   "source": [
    "# remember that our confidence level determines our alpha, \n",
    "# which we use to compare to p\n",
    "alpha = 0.05"
   ]
  },
  {
   "cell_type": "code",
   "execution_count": null,
   "id": "5da3efe7",
   "metadata": {},
   "outputs": [],
   "source": [
    "# Mini H0: variances are equal between groups\n",
    "# Ha: variances are inequal between groups\n",
    "# alpha: 0.05\n",
    "stat, pval = stats.levene(charterenr, non_charterenr)"
   ]
  },
  {
   "cell_type": "code",
   "execution_count": null,
   "id": "384a8115",
   "metadata": {},
   "outputs": [],
   "source": [
    "pval"
   ]
  },
  {
   "cell_type": "code",
   "execution_count": null,
   "id": "debf1c97",
   "metadata": {},
   "outputs": [],
   "source": [
    "print('Is p less than alpha? ', pval < alpha)"
   ]
  },
  {
   "cell_type": "code",
   "execution_count": null,
   "id": "f6e1c1f5",
   "metadata": {},
   "outputs": [],
   "source": [
    "# implications of one-tailed two-sampled t-test:\n",
    "# p will be divided by two because we are only looking at one tail of the curve\n",
    "# we will pay attention to the sign of our t-statistic\n",
    "# t, p = t-test: (group A, group B) ==> comparison of mu_a > mu_b\n",
    "t, p = stats.ttest_ind(charterenr, non_charterenr, equal_var=False)\n",
    "t, p"
   ]
  },
  {
   "cell_type": "code",
   "execution_count": null,
   "id": "2bc60b70",
   "metadata": {},
   "outputs": [],
   "source": [
    "if (t > 0) and ((p / 2) < alpha):\n",
    "    print('We can reject the null hypothesis')\n",
    "else:\n",
    "    print('we fail to reject the null hypothesis')"
   ]
  },
  {
   "cell_type": "code",
   "execution_count": null,
   "id": "a589bb5f",
   "metadata": {},
   "outputs": [],
   "source": [
    "    \n",
    "t, p"
   ]
  },
  {
   "cell_type": "markdown",
   "id": "86b419fd",
   "metadata": {},
   "source": [
    "# Using discipline percent"
   ]
  },
  {
   "cell_type": "code",
   "execution_count": null,
   "id": "80b4c13f",
   "metadata": {},
   "outputs": [],
   "source": [
    "# histogram of churned customers\n",
    "charterdp = train[train.charter_encoded==1].discipline_percent\n",
    "charterdp.hist()"
   ]
  },
  {
   "cell_type": "code",
   "execution_count": null,
   "id": "864608aa",
   "metadata": {},
   "outputs": [],
   "source": [
    "# histogram of non-churned customers\n",
    "non_charterdp = train[train.charter_encoded==0].discipline_percent\n",
    "non_charterdp.hist()"
   ]
  },
  {
   "cell_type": "code",
   "execution_count": null,
   "id": "ad4d3ff2",
   "metadata": {},
   "outputs": [],
   "source": [
    "mean_a = charterdp.mean()\n",
    "mean_b = non_charterdp.mean()"
   ]
  },
  {
   "cell_type": "code",
   "execution_count": null,
   "id": "aee76642",
   "metadata": {},
   "outputs": [],
   "source": [
    "mean_a, mean_b"
   ]
  },
  {
   "cell_type": "code",
   "execution_count": null,
   "id": "3c620dd3",
   "metadata": {},
   "outputs": [],
   "source": [
    "# remember that our confidence level determines our alpha, \n",
    "# which we use to compare to p\n",
    "alpha = 0.05"
   ]
  },
  {
   "cell_type": "markdown",
   "id": "126480c6",
   "metadata": {},
   "source": [
    "Levene’s Test for Equality of Means to determine that equal variance was not assumed, and therefore the difference in mean scores is not due to chance and is statistically significant.# Mini H0: variances are equal between groups."
   ]
  },
  {
   "cell_type": "code",
   "execution_count": null,
   "id": "34b2d802",
   "metadata": {},
   "outputs": [],
   "source": [
    "# Ha: variances are inequal between groups\n",
    "# alpha: 0.05\n",
    "stat, pval = stats.levene(charterdp, non_charterdp)"
   ]
  },
  {
   "cell_type": "code",
   "execution_count": null,
   "id": "f597dace",
   "metadata": {},
   "outputs": [],
   "source": [
    "pval"
   ]
  },
  {
   "cell_type": "code",
   "execution_count": null,
   "id": "931d3aec",
   "metadata": {},
   "outputs": [],
   "source": [
    "print('Is p less than alpha? ', pval < alpha)"
   ]
  },
  {
   "cell_type": "code",
   "execution_count": null,
   "id": "659e4f24",
   "metadata": {},
   "outputs": [],
   "source": [
    "# implications of one-tailed two-sampled t-test:\n",
    "# p will be divided by two because we are only looking at one tail of the curve\n",
    "# we will pay attention to the sign of our t-statistic\n",
    "# t, p = t-test: (group A, group B) ==> comparison of mu_a > mu_b\n",
    "t, p = stats.ttest_ind(charterdp, non_charterdp, equal_var=False)\n",
    "t, p"
   ]
  },
  {
   "cell_type": "code",
   "execution_count": null,
   "id": "fbc3ed76",
   "metadata": {},
   "outputs": [],
   "source": [
    "if (t > 0) and ((p / 2) < alpha):\n",
    "    print('We can reject the null hypothesis')\n",
    "else:\n",
    "    print('we fail to reject the null hypothesis')"
   ]
  },
  {
   "cell_type": "code",
   "execution_count": null,
   "id": "f64169c4",
   "metadata": {},
   "outputs": [],
   "source": [
    "t, p"
   ]
  },
  {
   "cell_type": "raw",
   "id": "df7b5dca",
   "metadata": {},
   "source": [
    "discipline: (-12.81390742202744, 2.900866472453636e-36)\n",
    "enrollment: (-7.135532129338224, 1.9497954399185665e-12)\n",
    "percent: (-13.086596048401626, 1.6674605044147637e-32)"
   ]
  },
  {
   "cell_type": "code",
   "execution_count": null,
   "id": "3d7d38d8",
   "metadata": {},
   "outputs": [],
   "source": [
    "# assign the train variables\n",
    "X_train_scaled = train[['enrollment','disciplined','discipline_percent']]\n",
    "y_train=train[['charter_encoded']]\n",
    "\n",
    "#assign the validate variables\n",
    "X_validate_scaled=validate[['enrollment','disciplined','discipline_percent']]\n",
    "y_validate=validate[['charter_encoded']]\n",
    "\n",
    "# assign the test variables\n",
    "X_test_scaled=test[['enrollment','disciplined','discipline_percent']]\n",
    "y_test=test[['charter_encoded']]\n"
   ]
  },
  {
   "cell_type": "code",
   "execution_count": null,
   "id": "9e5e378d",
   "metadata": {},
   "outputs": [],
   "source": [
    "def scale_data(train, \n",
    "               validate, \n",
    "               test, \n",
    "               columns_to_scale = ['enrollment', 'disciplined', 'discipline_percent'],\n",
    "               return_scaler=False):\n",
    "    '''\n",
    "    Scales the 3 data splits. \n",
    "    Takes in train, validate, and test data splits and returns their scaled counterparts.\n",
    "    If return_scalar is True, the scaler object will be returned as well\n",
    "    '''\n",
    "    # make copies of our original data so we dont gronk up anything\n",
    "    train_scaled = train.copy()\n",
    "    validate_scaled = validate.copy()\n",
    "    test_scaled = test.copy()\n",
    "    #     make the thing\n",
    "    scaler = MinMaxScaler()\n",
    "    #     fit the thing\n",
    "    scaler.fit(train[columns_to_scale])\n",
    "    # applying the scaler:\n",
    "    train_scaled[columns_to_scale] = pd.DataFrame(scaler.transform(train[columns_to_scale]),\n",
    "                                                  columns=train[columns_to_scale].columns.values).set_index([train.index.values])\n",
    "                                                  \n",
    "    validate_scaled[columns_to_scale] = pd.DataFrame(scaler.transform(validate[columns_to_scale]),\n",
    "                                           columns=validate[columns_to_scale].columns.values).set_index([validate.index.values])\n",
    "    \n",
    "    test_scaled[columns_to_scale] = pd.DataFrame(scaler.transform(test[columns_to_scale]),\n",
    "                                                 columns=test[columns_to_scale].columns.values).set_index([test.index.values])\n",
    "    \n",
    "    if return_scaler:\n",
    "        return scaler, train_scaled, validate_scaled, test_scaled\n",
    "    else:\n",
    "        return train_scaled, validate_scaled, test_scaled"
   ]
  },
  {
   "cell_type": "code",
   "execution_count": null,
   "id": "f5790255",
   "metadata": {},
   "outputs": [],
   "source": [
    "train_scaled, validate_scaled, test_scaled = scale_data(train, validate, test)"
   ]
  },
  {
   "cell_type": "code",
   "execution_count": null,
   "id": "a5f54a03",
   "metadata": {},
   "outputs": [],
   "source": [
    "train_scaled, validate_scaled, test_scaled"
   ]
  },
  {
   "cell_type": "code",
   "execution_count": null,
   "id": "4dc446fe",
   "metadata": {},
   "outputs": [],
   "source": [
    "X_train_scaled.head()"
   ]
  },
  {
   "cell_type": "code",
   "execution_count": null,
   "id": "ee7b43dd",
   "metadata": {},
   "outputs": [],
   "source": [
    "y_train.tail()"
   ]
  },
  {
   "cell_type": "code",
   "execution_count": null,
   "id": "e93e16d3",
   "metadata": {},
   "outputs": [],
   "source": [
    "y_train.head()"
   ]
  },
  {
   "cell_type": "code",
   "execution_count": null,
   "id": "85615ee6",
   "metadata": {},
   "outputs": [],
   "source": [
    "y_train.value_counts()"
   ]
  },
  {
   "cell_type": "markdown",
   "id": "caf4d0a6",
   "metadata": {},
   "source": [
    "# Baseline"
   ]
  },
  {
   "cell_type": "code",
   "execution_count": null,
   "id": "a3c35f45",
   "metadata": {},
   "outputs": [],
   "source": [
    "# The mode is a great baseline\n",
    "baseline = y_train.mode()"
   ]
  },
  {
   "cell_type": "code",
   "execution_count": null,
   "id": "a3497b68",
   "metadata": {},
   "outputs": [],
   "source": [
    "baseline"
   ]
  },
  {
   "cell_type": "code",
   "execution_count": null,
   "id": "90713513",
   "metadata": {},
   "outputs": [],
   "source": [
    "X_train_scaled['baseline_prediction'] = 0\n",
    "X_train_scaled"
   ]
  },
  {
   "cell_type": "code",
   "execution_count": null,
   "id": "0aa0d45c",
   "metadata": {},
   "outputs": [],
   "source": [
    "actual = y_train\n",
    "predictions = X_train_scaled.baseline_prediction"
   ]
  },
  {
   "cell_type": "code",
   "execution_count": null,
   "id": "3cd34fec",
   "metadata": {},
   "outputs": [],
   "source": [
    "pd.crosstab(y_train['charter_encoded'], X_train_scaled.baseline_prediction)"
   ]
  },
  {
   "cell_type": "code",
   "execution_count": null,
   "id": "3ea51c1e",
   "metadata": {},
   "outputs": [],
   "source": [
    "2557/(2557+291)"
   ]
  },
  {
   "cell_type": "code",
   "execution_count": null,
   "id": "ebb355a7",
   "metadata": {},
   "outputs": [],
   "source": [
    "# Creates a boolean array where \"No\" becomes True and \"Yes\" becomes False\n",
    "(y_train == 0)"
   ]
  },
  {
   "cell_type": "code",
   "execution_count": null,
   "id": "6253cff2",
   "metadata": {},
   "outputs": [],
   "source": [
    "# Takes the .mean() of the boolean array that represents the proportion \n",
    "# that would also match our baseline prediction\n",
    "(y_train == 0).mean() "
   ]
  },
  {
   "cell_type": "code",
   "execution_count": null,
   "id": "2abc6305",
   "metadata": {},
   "outputs": [],
   "source": [
    "X_validate_scaled['baseline_prediction'] = 0"
   ]
  },
  {
   "cell_type": "code",
   "execution_count": null,
   "id": "1647bc96",
   "metadata": {},
   "outputs": [],
   "source": [
    "X_test_scaled['baseline_prediction'] = 0"
   ]
  },
  {
   "cell_type": "markdown",
   "id": "3017b748",
   "metadata": {},
   "source": [
    "# Model: Decision Tree"
   ]
  },
  {
   "cell_type": "code",
   "execution_count": null,
   "id": "f4122e72",
   "metadata": {},
   "outputs": [],
   "source": [
    "# Create the decision tree object and specify hyperparams\n",
    "tree = DecisionTreeClassifier(max_depth = 3, random_state=123)"
   ]
  },
  {
   "cell_type": "code",
   "execution_count": null,
   "id": "a2004175",
   "metadata": {},
   "outputs": [],
   "source": [
    "tree"
   ]
  },
  {
   "cell_type": "markdown",
   "id": "790f6b0f",
   "metadata": {},
   "source": [
    "# train data"
   ]
  },
  {
   "cell_type": "code",
   "execution_count": null,
   "id": "334da661",
   "metadata": {},
   "outputs": [],
   "source": [
    "tree.fit(X_train_scaled, y_train)\n",
    "\n",
    "# Rudimentary visualization of model structure\n",
    "print(export_text(tree, feature_names=X_train_scaled.columns.tolist()))"
   ]
  },
  {
   "cell_type": "code",
   "execution_count": null,
   "id": "991e744e",
   "metadata": {},
   "outputs": [],
   "source": [
    "# Visualize the tree\n",
    "plt.figure(figsize=(12, 7))\n",
    "plot_tree(tree, feature_names=X_train_scaled.columns, class_names=tree.classes_.astype(str))\n",
    "#plt.show()"
   ]
  },
  {
   "cell_type": "code",
   "execution_count": null,
   "id": "fab13b44",
   "metadata": {},
   "outputs": [],
   "source": [
    "y_pred=tree.predict(X_train_scaled)"
   ]
  },
  {
   "cell_type": "code",
   "execution_count": null,
   "id": "e71d18d8",
   "metadata": {},
   "outputs": [],
   "source": [
    "y_pred_proba = tree.predict_proba(X_train_scaled)\n"
   ]
  },
  {
   "cell_type": "code",
   "execution_count": null,
   "id": "a22877dd",
   "metadata": {},
   "outputs": [],
   "source": [
    "print('Accuracy of Decision Tree classifier on training set: {:.2f}'\n",
    "      .format(tree.score(X_train_scaled, y_train)))"
   ]
  },
  {
   "cell_type": "markdown",
   "id": "0100d4b3",
   "metadata": {},
   "source": [
    "# Create a confusion matrix\n",
    "\n",
    "True Positive: number of occurrences where y is true and y is predicted true.\n",
    "True Negative: number of occurrences where y is false and y is predicted false.\n",
    "False Positive: number of occurrences where y is false and y is predicted true.\n",
    "False Negative: number of occurrences where y is true and y is predicted false."
   ]
  },
  {
   "cell_type": "code",
   "execution_count": null,
   "id": "14f47632",
   "metadata": {},
   "outputs": [],
   "source": [
    "tree.predict(X_train_scaled)"
   ]
  },
  {
   "cell_type": "code",
   "execution_count": null,
   "id": "27c69b29",
   "metadata": {},
   "outputs": [],
   "source": [
    "predictions = tree.predict(X_train_scaled)\n",
    "actual = y_train"
   ]
  },
  {
   "cell_type": "code",
   "execution_count": null,
   "id": "97f0748a",
   "metadata": {},
   "outputs": [],
   "source": [
    "confusion_matrix(actual, predictions)\n"
   ]
  },
  {
   "cell_type": "code",
   "execution_count": null,
   "id": "036ad0dc",
   "metadata": {},
   "outputs": [],
   "source": [
    "pd.crosstab(y_train['charter_encoded'], tree.predict(X_train_scaled))"
   ]
  },
  {
   "cell_type": "code",
   "execution_count": null,
   "id": "d60f9d6d",
   "metadata": {},
   "outputs": [],
   "source": [
    "plot_confusion_matrix(tree, X_train_scaled, y_train, display_labels=['tradition', 'charter'])\n"
   ]
  },
  {
   "cell_type": "code",
   "execution_count": null,
   "id": "fe9b48bc",
   "metadata": {},
   "outputs": [],
   "source": [
    "print(classification_report(actual, predictions))"
   ]
  },
  {
   "cell_type": "markdown",
   "id": "5585b640",
   "metadata": {},
   "source": [
    "# validate"
   ]
  },
  {
   "cell_type": "code",
   "execution_count": null,
   "id": "f375ce3e",
   "metadata": {},
   "outputs": [],
   "source": [
    "# Create the decision tree object and specify hyperparams\n",
    "tree = DecisionTreeClassifier(max_depth = 3, random_state=123)"
   ]
  },
  {
   "cell_type": "code",
   "execution_count": null,
   "id": "648cbb22",
   "metadata": {},
   "outputs": [],
   "source": [
    "tree"
   ]
  },
  {
   "cell_type": "code",
   "execution_count": null,
   "id": "80c68fd4",
   "metadata": {},
   "outputs": [],
   "source": [
    "tree.fit(X_validate_scaled, y_validate)"
   ]
  },
  {
   "cell_type": "code",
   "execution_count": null,
   "id": "77f1727e",
   "metadata": {},
   "outputs": [],
   "source": [
    "# Rudimentary visualization of model structure\n",
    "print(export_text(tree, feature_names=X_validate_scaled.columns.tolist()))"
   ]
  },
  {
   "cell_type": "code",
   "execution_count": null,
   "id": "a4a74a99",
   "metadata": {},
   "outputs": [],
   "source": [
    "# Visualize the tree\n",
    "plt.figure(figsize=(12, 7))\n",
    "plot_tree(tree, feature_names=X_validate_scaled.columns, class_names=tree.classes_.astype(str))\n",
    "#plt.show()"
   ]
  },
  {
   "cell_type": "code",
   "execution_count": null,
   "id": "1fca6c49",
   "metadata": {},
   "outputs": [],
   "source": [
    "y_pred=tree.predict(X_validate_scaled)"
   ]
  },
  {
   "cell_type": "code",
   "execution_count": null,
   "id": "2c004603",
   "metadata": {},
   "outputs": [],
   "source": [
    "y_pred_proba = tree.predict_proba(X_validate_scaled)"
   ]
  },
  {
   "cell_type": "code",
   "execution_count": null,
   "id": "5912cf53",
   "metadata": {},
   "outputs": [],
   "source": [
    "tree.predict(X_validate_scaled)"
   ]
  },
  {
   "cell_type": "code",
   "execution_count": null,
   "id": "7981df12",
   "metadata": {},
   "outputs": [],
   "source": [
    "predictions = tree.predict(X_validate_scaled)\n",
    "actual = y_validate"
   ]
  },
  {
   "cell_type": "code",
   "execution_count": null,
   "id": "41a56371",
   "metadata": {},
   "outputs": [],
   "source": [
    "confusion_matrix(actual, predictions)"
   ]
  },
  {
   "cell_type": "code",
   "execution_count": null,
   "id": "7b94014c",
   "metadata": {},
   "outputs": [],
   "source": [
    "pd.crosstab(y_validate['charter_encoded'], tree.predict(X_validate_scaled))"
   ]
  },
  {
   "cell_type": "code",
   "execution_count": null,
   "id": "037b8e5c",
   "metadata": {},
   "outputs": [],
   "source": [
    "plot_confusion_matrix(tree, X_validate_scaled, y_validate, display_labels=['tradition', 'charter'])"
   ]
  },
  {
   "cell_type": "code",
   "execution_count": null,
   "id": "e84d2e6f",
   "metadata": {},
   "outputs": [],
   "source": [
    "print(classification_report(actual, predictions))"
   ]
  },
  {
   "cell_type": "markdown",
   "id": "16e4ea1c",
   "metadata": {},
   "source": [
    "# Max Depth"
   ]
  },
  {
   "cell_type": "code",
   "execution_count": null,
   "id": "f0101648",
   "metadata": {},
   "outputs": [],
   "source": [
    "# Create the decision tree object and specify hyperparams\n",
    "tree = DecisionTreeClassifier(max_depth=None) \n",
    "tree.fit(X_train_scaled, y_train)\n",
    "\n",
    "print(export_text(tree, feature_names=X_train_scaled.columns.tolist()))"
   ]
  },
  {
   "cell_type": "code",
   "execution_count": null,
   "id": "2c94c514",
   "metadata": {},
   "outputs": [],
   "source": [
    "plt.figure(figsize=(16, 9), dpi=300)\n",
    "plot_tree(tree, feature_names=X_train_scaled.columns, class_names=tree.classes_.astype(str))\n",
    "plt.show()"
   ]
  },
  {
   "cell_type": "code",
   "execution_count": null,
   "id": "918dc02a",
   "metadata": {},
   "outputs": [],
   "source": [
    "tree.score(X_train_scaled, y_train)"
   ]
  },
  {
   "cell_type": "code",
   "execution_count": null,
   "id": "81939a69",
   "metadata": {},
   "outputs": [],
   "source": [
    "# Create the decision tree object and specify hyperparams\n",
    "tree = DecisionTreeClassifier(max_depth=None) \n",
    "tree.fit(X_validate_scaled, y_validate)\n",
    "\n",
    "print(export_text(tree, feature_names=X_validate_scaled.columns.tolist()))"
   ]
  },
  {
   "cell_type": "code",
   "execution_count": null,
   "id": "447a61da",
   "metadata": {},
   "outputs": [],
   "source": [
    "plt.figure(figsize=(16, 9), dpi=300)\n",
    "plot_tree(tree, feature_names=X_validate_scaled.columns, class_names=tree.classes_.astype(str))\n",
    "plt.show()"
   ]
  },
  {
   "cell_type": "code",
   "execution_count": null,
   "id": "445df9f0",
   "metadata": {},
   "outputs": [],
   "source": [
    "print(\"X_train_scaled shape: \", X_train_scaled.shape)\n",
    "print(\"y_train shape: \", y_train.shape)\n",
    "print(\"X_validate_scaled shape: \", X_validate_scaled.shape)\n",
    "print(\"y_validate shape: \", y_validate.shape)\n",
    "print(\"X_test_scaled shape: \", X_test_scaled.shape)\n",
    "print(\"y_test shape: \", y_test.shape)"
   ]
  },
  {
   "cell_type": "code",
   "execution_count": null,
   "id": "ecc62bfd",
   "metadata": {},
   "outputs": [],
   "source": [
    "X_train_scaled.head()\n"
   ]
  },
  {
   "cell_type": "markdown",
   "id": "ba228b51",
   "metadata": {},
   "source": [
    "# Random Forest"
   ]
  },
  {
   "cell_type": "code",
   "execution_count": null,
   "id": "56c2f00e",
   "metadata": {},
   "outputs": [],
   "source": [
    "rf = RandomForestClassifier(max_depth=3, random_state=123)\n",
    "rf"
   ]
  },
  {
   "cell_type": "code",
   "execution_count": null,
   "id": "06922bca",
   "metadata": {},
   "outputs": [],
   "source": [
    "rf.fit(X_train_scaled, y_train)\n"
   ]
  },
  {
   "cell_type": "code",
   "execution_count": null,
   "id": "a1818c17",
   "metadata": {},
   "outputs": [],
   "source": [
    "print(rf.feature_importances_)\n"
   ]
  },
  {
   "cell_type": "code",
   "execution_count": null,
   "id": "7ed843c5",
   "metadata": {},
   "outputs": [],
   "source": [
    "plt.bar(X_train_scaled.columns, rf.feature_importances_)\n",
    "plt.show()"
   ]
  },
  {
   "cell_type": "code",
   "execution_count": null,
   "id": "83960fe1",
   "metadata": {},
   "outputs": [],
   "source": [
    "y_pred = rf.predict(X_train_scaled)\n",
    "y_pred"
   ]
  },
  {
   "cell_type": "code",
   "execution_count": null,
   "id": "08875d64",
   "metadata": {},
   "outputs": [],
   "source": [
    "y_pred_proba = rf.predict_proba(X_train_scaled)\n",
    "y_pred_proba"
   ]
  },
  {
   "cell_type": "code",
   "execution_count": null,
   "id": "129af520",
   "metadata": {},
   "outputs": [],
   "source": [
    "print('Accuracy of random forest classifier on training set: {:.2f}'\n",
    "     .format(rf.score(X_train_scaled, y_train)))"
   ]
  },
  {
   "cell_type": "code",
   "execution_count": null,
   "id": "f4040da0",
   "metadata": {},
   "outputs": [],
   "source": [
    "cm = confusion_matrix(y_train, y_pred)\n",
    "print(cm)"
   ]
  },
  {
   "cell_type": "code",
   "execution_count": null,
   "id": "d43d474c",
   "metadata": {},
   "outputs": [],
   "source": [
    "disp = ConfusionMatrixDisplay(confusion_matrix=cm, display_labels=rf.classes_)\n",
    "\n",
    "disp.plot()\n",
    "plt.show()"
   ]
  },
  {
   "cell_type": "code",
   "execution_count": null,
   "id": "8c6d5fa1",
   "metadata": {},
   "outputs": [],
   "source": [
    "print(classification_report(y_train, y_pred))"
   ]
  },
  {
   "cell_type": "markdown",
   "id": "c9a07d84",
   "metadata": {},
   "source": [
    "# validate"
   ]
  },
  {
   "cell_type": "code",
   "execution_count": null,
   "id": "038b8893",
   "metadata": {},
   "outputs": [],
   "source": [
    "rf = RandomForestClassifier(max_depth=3, random_state=123)\n",
    "rf"
   ]
  },
  {
   "cell_type": "code",
   "execution_count": null,
   "id": "af655784",
   "metadata": {},
   "outputs": [],
   "source": [
    "rf.fit(X_validate_scaled, y_validate)\n",
    "print(rf.feature_importances_)\n",
    "plt.bar(X_validate_scaled.columns, rf.feature_importances_)\n",
    "plt.show()"
   ]
  },
  {
   "cell_type": "code",
   "execution_count": null,
   "id": "6ee3de37",
   "metadata": {},
   "outputs": [],
   "source": [
    "y_pred = rf.predict(X_validate_scaled)\n",
    "y_pred"
   ]
  },
  {
   "cell_type": "code",
   "execution_count": null,
   "id": "744d53b1",
   "metadata": {},
   "outputs": [],
   "source": [
    "y_pred_proba = rf.predict_proba(X_validate_scaled)\n",
    "y_pred_proba"
   ]
  },
  {
   "cell_type": "code",
   "execution_count": null,
   "id": "2f4d6d7e",
   "metadata": {},
   "outputs": [],
   "source": [
    "print('Accuracy of random forest classifier on training set: {:.2f}'\n",
    "     .format(rf.score(X_validate_scaled, y_validate)))"
   ]
  },
  {
   "cell_type": "code",
   "execution_count": null,
   "id": "93d3a09e",
   "metadata": {},
   "outputs": [],
   "source": [
    "cm = confusion_matrix(y_validate, y_pred)\n",
    "print(cm)"
   ]
  },
  {
   "cell_type": "code",
   "execution_count": null,
   "id": "ef28e5e8",
   "metadata": {},
   "outputs": [],
   "source": [
    "disp = ConfusionMatrixDisplay(confusion_matrix=cm, display_labels=rf.classes_)\n",
    "\n",
    "disp.plot()\n",
    "plt.show()"
   ]
  },
  {
   "cell_type": "code",
   "execution_count": null,
   "id": "230a186e",
   "metadata": {},
   "outputs": [],
   "source": [
    "print(classification_report(y_validate, y_pred))"
   ]
  },
  {
   "cell_type": "markdown",
   "id": "d557c239",
   "metadata": {},
   "source": [
    "# K-Nearest Neighbor"
   ]
  },
  {
   "cell_type": "code",
   "execution_count": null,
   "id": "5ce8073c",
   "metadata": {},
   "outputs": [],
   "source": [
    "# weights = ['uniform', 'density']\n",
    "knn = KNeighborsClassifier(n_neighbors=5, weights='uniform')"
   ]
  },
  {
   "cell_type": "code",
   "execution_count": null,
   "id": "185dfa7d",
   "metadata": {},
   "outputs": [],
   "source": [
    "knn.fit(X_train_scaled, y_train)\n"
   ]
  },
  {
   "cell_type": "code",
   "execution_count": null,
   "id": "12b5e2e5",
   "metadata": {},
   "outputs": [],
   "source": [
    "y_pred = knn.predict(X_train_scaled)\n"
   ]
  },
  {
   "cell_type": "code",
   "execution_count": null,
   "id": "114158e9",
   "metadata": {},
   "outputs": [],
   "source": [
    "y_pred_proba = knn.predict_proba(X_train_scaled)\n"
   ]
  },
  {
   "cell_type": "code",
   "execution_count": null,
   "id": "61fc0cc0",
   "metadata": {},
   "outputs": [],
   "source": [
    "print('Accuracy of KNN classifier on training set: {:.2f}'\n",
    "     .format(knn.score(X_train_scaled, y_train)))"
   ]
  },
  {
   "cell_type": "code",
   "execution_count": null,
   "id": "455e909e",
   "metadata": {},
   "outputs": [],
   "source": [
    "print(confusion_matrix(y_train, y_pred))"
   ]
  },
  {
   "cell_type": "code",
   "execution_count": null,
   "id": "392e66e9",
   "metadata": {},
   "outputs": [],
   "source": [
    "print(classification_report(y_train, y_pred))"
   ]
  },
  {
   "cell_type": "markdown",
   "id": "9e699e6f",
   "metadata": {},
   "source": [
    "# Validate"
   ]
  },
  {
   "cell_type": "code",
   "execution_count": null,
   "id": "15dcec28",
   "metadata": {},
   "outputs": [],
   "source": [
    "# weights = ['uniform', 'density']\n",
    "knn = KNeighborsClassifier(n_neighbors=5, weights='uniform')"
   ]
  },
  {
   "cell_type": "code",
   "execution_count": null,
   "id": "3f822cec",
   "metadata": {},
   "outputs": [],
   "source": [
    "knn.fit(X_validate_scaled, y_validate)"
   ]
  },
  {
   "cell_type": "code",
   "execution_count": null,
   "id": "19ac008c",
   "metadata": {},
   "outputs": [],
   "source": [
    "y_pred = knn.predict(X_validate_scaled)"
   ]
  },
  {
   "cell_type": "code",
   "execution_count": null,
   "id": "82742115",
   "metadata": {},
   "outputs": [],
   "source": [
    "y_pred_proba = knn.predict_proba(X_validate_scaled)"
   ]
  },
  {
   "cell_type": "code",
   "execution_count": null,
   "id": "ab8378bc",
   "metadata": {},
   "outputs": [],
   "source": [
    "print('Accuracy of KNN classifier on training set: {:.2f}'\n",
    "     .format(knn.score(X_validate_scaled, y_validate)))"
   ]
  },
  {
   "cell_type": "code",
   "execution_count": null,
   "id": "d6496bab",
   "metadata": {},
   "outputs": [],
   "source": [
    "print(confusion_matrix(y_validate, y_pred))"
   ]
  },
  {
   "cell_type": "code",
   "execution_count": null,
   "id": "1e612e94",
   "metadata": {},
   "outputs": [],
   "source": [
    "print(classification_report(y_validate, y_pred))"
   ]
  },
  {
   "cell_type": "code",
   "execution_count": null,
   "id": "c09e7c1d",
   "metadata": {},
   "outputs": [],
   "source": [
    "pred_dict = {\n",
    "    'model': [],\n",
    "    'accuracy': [],\n",
    "    'true_positive_rate': [],\n",
    "    'false_positive_rate': [],\n",
    "    'true_negative_rate': [],\n",
    "    'false_negative_rate': [],\n",
    "    'precision': [],\n",
    "    'recall': [],\n",
    "    'f1_score': [],\n",
    "    'support_0': [],\n",
    "    'support_1': []\n",
    "}\n",
    "\n",
    "for n in [5, 10, 20]:\n",
    "    knn = KNeighborsClassifier(n_neighbors=n)\n",
    "    \n",
    "    knn.fit(X_train_scaled, y_train)\n",
    "    \n",
    "    y_preds = knn.predict(X_train_scaled)\n",
    "    \n",
    "    TN, FP, FN, TP = confusion_matrix(y_train, y_preds).ravel()\n",
    "    ALL = TP + TN + FP + FN\n",
    "    \n",
    "    accuracy = (TP + TN)/ALL\n",
    "    true_positive_rate = TP/(TP+FN)\n",
    "    false_positive_rate = FP/(FP+TN)\n",
    "    true_negative_rate = TN/(TN+FP)\n",
    "    false_negative_rate = FN/(FN+TP)\n",
    "    precision = TP/(TP+FP)\n",
    "    recall = TP/(TP+FN)\n",
    "    f1_score = 2*(precision*recall)/(precision+recall)\n",
    "    support_pos = TP + FN\n",
    "    support_neg = FP + TN\n",
    "    \n",
    "    pred_dict['model'].append(f'knn_n_{n}')\n",
    "    pred_dict['accuracy'].append(accuracy)\n",
    "    pred_dict['true_positive_rate'].append(true_positive_rate)\n",
    "    pred_dict['false_positive_rate'].append(false_positive_rate)\n",
    "    pred_dict['true_negative_rate'].append(true_negative_rate)\n",
    "    pred_dict['false_negative_rate'].append(false_negative_rate)\n",
    "    pred_dict['precision'].append(precision)\n",
    "    pred_dict['recall'].append(recall)\n",
    "    pred_dict['f1_score'].append(f1_score)\n",
    "    pred_dict['support_0'].append(support_pos)\n",
    "    pred_dict['support_1'].append(support_neg)"
   ]
  },
  {
   "cell_type": "code",
   "execution_count": null,
   "id": "86b3bffd",
   "metadata": {},
   "outputs": [],
   "source": [
    "pd.DataFrame(pred_dict)"
   ]
  },
  {
   "cell_type": "code",
   "execution_count": null,
   "id": "162344cb",
   "metadata": {},
   "outputs": [],
   "source": [
    "pd.DataFrame(pred_dict).T"
   ]
  },
  {
   "cell_type": "code",
   "execution_count": null,
   "id": "66d3a70b",
   "metadata": {},
   "outputs": [],
   "source": [
    "train_scaled_pred_df = pd.DataFrame(pred_dict).T\n",
    "train_scaled_pred_df.columns = train_scaled_pred_df.iloc[0]\n",
    "train_scaled_pred_df = train_scaled_pred_df.drop(train_scaled_pred_df.index[0])\n",
    "train_scaled_pred_df"
   ]
  },
  {
   "cell_type": "markdown",
   "id": "cd550a2f",
   "metadata": {},
   "source": [
    "# Logistic Regression"
   ]
  },
  {
   "cell_type": "code",
   "execution_count": null,
   "id": "be779237",
   "metadata": {},
   "outputs": [],
   "source": [
    "# Define the logistic regression model\n",
    "logit = LogisticRegression(C=1, random_state=123)"
   ]
  },
  {
   "cell_type": "code",
   "execution_count": null,
   "id": "d9eb4970",
   "metadata": {},
   "outputs": [],
   "source": [
    "#  fit the model on train data\n",
    "logit.fit(X_train_scaled, y_train)"
   ]
  },
  {
   "cell_type": "code",
   "execution_count": null,
   "id": "c7c2d875",
   "metadata": {},
   "outputs": [],
   "source": [
    "# now use the model to make predictions\n",
    "y_pred = logit.predict(X_train_scaled)"
   ]
  },
  {
   "cell_type": "code",
   "execution_count": null,
   "id": "0c37cd4e",
   "metadata": {},
   "outputs": [],
   "source": [
    "#take a look at predictions\n",
    "y_pred"
   ]
  },
  {
   "cell_type": "code",
   "execution_count": null,
   "id": "aaf5028d",
   "metadata": {},
   "outputs": [],
   "source": [
    "# look at predicted probabilites for first 10 observations\n",
    "logit.predict_proba(X_train_scaled)[:10]"
   ]
  },
  {
   "cell_type": "code",
   "execution_count": null,
   "id": "39f7e766",
   "metadata": {},
   "outputs": [],
   "source": [
    "logit.classes_"
   ]
  },
  {
   "cell_type": "code",
   "execution_count": null,
   "id": "faac3f5c",
   "metadata": {},
   "outputs": [],
   "source": [
    "# View raw probabilities (output from the model)\n",
    "\n",
    "y_pred_proba = logit.predict_proba(X_train_scaled)\n",
    "y_pred_proba = pd.DataFrame(y_pred_proba, columns = ['traditional', 'charter'])\n",
    "y_pred_proba.head().round(3)"
   ]
  },
  {
   "cell_type": "code",
   "execution_count": null,
   "id": "85ee45a4",
   "metadata": {},
   "outputs": [],
   "source": [
    "#classification report\n",
    "print(classification_report(y_train, y_pred))"
   ]
  },
  {
   "cell_type": "markdown",
   "id": "b0149935",
   "metadata": {},
   "source": [
    "# Model 2"
   ]
  },
  {
   "cell_type": "code",
   "execution_count": null,
   "id": "b23652b5",
   "metadata": {},
   "outputs": [],
   "source": [
    "# Change hyperparameter C = 0.01\n",
    "\n",
    "logit2 = LogisticRegression(C=.01 ,random_state=123)"
   ]
  },
  {
   "cell_type": "code",
   "execution_count": null,
   "id": "7b11813e",
   "metadata": {},
   "outputs": [],
   "source": [
    "# fit the model\n",
    "logit2.fit(X_train_scaled, y_train)"
   ]
  },
  {
   "cell_type": "code",
   "execution_count": null,
   "id": "7d7a29b3",
   "metadata": {},
   "outputs": [],
   "source": [
    "# make prediction\n",
    "y_pred2 = logit2.predict(X_train_scaled)"
   ]
  },
  {
   "cell_type": "code",
   "execution_count": null,
   "id": "82d310d0",
   "metadata": {},
   "outputs": [],
   "source": [
    "#classification report\n",
    "print(classification_report(y_train, y_pred2))"
   ]
  },
  {
   "cell_type": "markdown",
   "id": "cbe17a50",
   "metadata": {},
   "source": [
    "Evaluate Model 1 and 2 performance on 'Validate'\n"
   ]
  },
  {
   "cell_type": "code",
   "execution_count": null,
   "id": "1687211b",
   "metadata": {},
   "outputs": [],
   "source": [
    "# Make prediction for validate dataset\n",
    "\n",
    "y_pred_validate = logit.predict(X_validate_scaled)\n",
    "y_pred_validate2 = logit2.predict(X_validate_scaled)"
   ]
  },
  {
   "cell_type": "code",
   "execution_count": null,
   "id": "0b4f9ee0",
   "metadata": {},
   "outputs": [],
   "source": [
    "print(\"Model 1: solver = lbfgs, c = 1\")\n",
    "\n",
    "print('Accuracy: {:.2f}'.format(logit.score(X_validate_scaled, y_validate)))\n",
    "\n",
    "print(classification_report(y_validate, y_pred_validate))\n",
    "\n",
    "print('--------------------------------------------------')\n",
    "\n",
    "print(\"Model 2: solver = lbfgs, c = .01\")\n",
    "\n",
    "print('Accuracy: {:.2f}'.format(logit2.score(X_validate_scaled, y_validate)))\n",
    "\n",
    "print(classification_report(y_validate, y_pred_validate2))"
   ]
  },
  {
   "cell_type": "markdown",
   "id": "844e785d",
   "metadata": {},
   "source": [
    "Intrepreting"
   ]
  },
  {
   "cell_type": "code",
   "execution_count": null,
   "id": "0bf042ba",
   "metadata": {},
   "outputs": [],
   "source": [
    "# look at model 1 coefficents\n",
    " \n",
    "print('Coefficient: \\n', logit.coef_[0])"
   ]
  },
  {
   "cell_type": "code",
   "execution_count": null,
   "id": "629abc70",
   "metadata": {},
   "outputs": [],
   "source": [
    "# Make a dataframe of coefficients and feature names\n",
    "\n",
    "log_coeffs = pd.DataFrame(logit.coef_[0], index = X_train_scaled.columns,\n",
    "                          columns = ['coeffs']).sort_values(by = 'coeffs', ascending = True)\n",
    "log_coeffs"
   ]
  },
  {
   "cell_type": "code",
   "execution_count": null,
   "id": "5f2de2fc",
   "metadata": {},
   "outputs": [],
   "source": [
    "# convert from log odds to odds (exponentiate)\n",
    "odds = np.exp(log_coeffs)\n",
    "odds\n"
   ]
  },
  {
   "cell_type": "code",
   "execution_count": null,
   "id": "1258bebc",
   "metadata": {},
   "outputs": [],
   "source": [
    "Interpreting # look at model 1 coefficents"
   ]
  },
  {
   "cell_type": "markdown",
   "id": "88ac746b",
   "metadata": {},
   "source": [
    "Play around with different models"
   ]
  },
  {
   "cell_type": "code",
   "execution_count": null,
   "id": "79427948",
   "metadata": {},
   "outputs": [],
   "source": [
    "# Create the logistic regression\n",
    "logit = LogisticRegression(random_state=123)\n",
    "\n",
    "# specify the features we're using\n",
    "features = [\"age\", \"pclass\", \"fare\"]\n",
    "\n",
    "# Fit a model using only these specified features\n",
    "# logit.fit(X_train[[\"age\", \"pclass\", \"fare\"]], y_train)\n",
    "logit.fit(X_train[features], y_train)\n",
    "\n",
    "# Since we .fit on a subset, we .predict on that same subset of features\n",
    "y_pred = logit.predict(X_train[features])\n",
    "\n",
    "print(\"Baseline is\", round(baseline_accuracy, 2))\n",
    "print(\"Logistic Regression using age, pclass, and fare features\")\n",
    "print('Accuracy of Logistic Regression classifier on training set: {:.2f}'\n",
    "     .format(logit.score(X_train[features], y_train)))"
   ]
  },
  {
   "cell_type": "markdown",
   "id": "d504ce0f",
   "metadata": {},
   "source": [
    "If the coefficient (odds) is 1 or close to 1, this means odds of being in class '1' (positive class) is same or close to being in class '0' (negative class). This means the feature with this coefficient is not a big driver for the target variable in this particular model\n",
    "\n",
    "If the coefficient value is < 1 , that implies that increase in value of that feature will decrease the odds that target variable is in positive class"
   ]
  },
  {
   "cell_type": "markdown",
   "id": "43ccd80b",
   "metadata": {},
   "source": [
    "Step 1: Import the libraries \n",
    "Step 2: Fetch data \n",
    "Step 3: Determine the target variable \n",
    "Step 4: Creation of predictors variables \n",
    "Step 5: Train, validate, test dataset split \n",
    "Step 6: Create the machine learning classification model using the train dataset \n",
    "Step 7: The classification model accuracy_score in Python \n",
    "Step 8: Prediction \n",
    "Step 9: Plotting classification data in matplotlib"
   ]
  },
  {
   "cell_type": "markdown",
   "id": "4c5b064e",
   "metadata": {},
   "source": [
    "Submit a link to your final notebook (you will still be able to work on it tomorrow, but your work should be cleaned up into a single notebook at this point).\n",
    "Make sure your helper files are available and being used.\n",
    "Ensure your readme is akin to an \"abstract\" of a research paper.\n",
    "Ensure you have all the necessary elements required from the project spec and the basics from any project (project planning, data dictionary, readme, how to reproduce, etc.).\n",
    "Make sure you have a solid conclusion in your final notebook. Include next steps, learnings, and recommendations.\n"
   ]
  },
  {
   "cell_type": "code",
   "execution_count": null,
   "id": "89ddc7e5",
   "metadata": {},
   "outputs": [],
   "source": [
    "from sklearn.feature_selection import SelectKBest, RFE, f_regression, SequentialFeatureSelector"
   ]
  },
  {
   "cell_type": "code",
   "execution_count": null,
   "id": "74157098",
   "metadata": {},
   "outputs": [],
   "source": [
    "Logistic"
   ]
  },
  {
   "cell_type": "code",
   "execution_count": null,
   "id": "41790243",
   "metadata": {},
   "outputs": [],
   "source": []
  },
  {
   "cell_type": "code",
   "execution_count": null,
   "id": "76f5824e",
   "metadata": {},
   "outputs": [],
   "source": []
  },
  {
   "cell_type": "code",
   "execution_count": null,
   "id": "33a10b6b",
   "metadata": {},
   "outputs": [],
   "source": []
  },
  {
   "cell_type": "code",
   "execution_count": null,
   "id": "2f1a44a5",
   "metadata": {},
   "outputs": [],
   "source": []
  },
  {
   "cell_type": "code",
   "execution_count": null,
   "id": "fcf12e00",
   "metadata": {},
   "outputs": [],
   "source": []
  },
  {
   "cell_type": "code",
   "execution_count": null,
   "id": "5dc408dd",
   "metadata": {},
   "outputs": [],
   "source": []
  },
  {
   "cell_type": "code",
   "execution_count": null,
   "id": "938ea833",
   "metadata": {},
   "outputs": [],
   "source": []
  },
  {
   "cell_type": "code",
   "execution_count": null,
   "id": "dd2ace18",
   "metadata": {},
   "outputs": [],
   "source": []
  },
  {
   "cell_type": "code",
   "execution_count": null,
   "id": "62cef96e",
   "metadata": {},
   "outputs": [],
   "source": []
  },
  {
   "cell_type": "code",
   "execution_count": null,
   "id": "9b3353f1",
   "metadata": {},
   "outputs": [],
   "source": []
  }
 ],
 "metadata": {
  "kernelspec": {
   "display_name": "Python 3 (ipykernel)",
   "language": "python",
   "name": "python3"
  },
  "language_info": {
   "codemirror_mode": {
    "name": "ipython",
    "version": 3
   },
   "file_extension": ".py",
   "mimetype": "text/x-python",
   "name": "python",
   "nbconvert_exporter": "python",
   "pygments_lexer": "ipython3",
   "version": "3.9.12"
  }
 },
 "nbformat": 4,
 "nbformat_minor": 5
}
